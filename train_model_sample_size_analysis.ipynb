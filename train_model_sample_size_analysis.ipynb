{
 "cells": [
  {
   "cell_type": "code",
   "execution_count": 1,
   "metadata": {},
   "outputs": [
    {
     "name": "stderr",
     "output_type": "stream",
     "text": [
      "C:\\Users\\JohnvanOsta\\AppData\\Local\\Temp\\ipykernel_14612\\3249771646.py:1: DeprecationWarning: \n",
      "Pyarrow will become a required dependency of pandas in the next major release of pandas (pandas 3.0),\n",
      "(to allow more performant data types, such as the Arrow string type, and better interoperability with other libraries)\n",
      "but was not found to be installed on your system.\n",
      "If this would cause problems for you,\n",
      "please provide us feedback at https://github.com/pandas-dev/pandas/issues/54466\n",
      "        \n",
      "  import pandas as pd\n"
     ]
    }
   ],
   "source": [
    "import pandas as pd\n",
    "import utm\n",
    "import numpy as np\n",
    "import random\n",
    "from scipy import stats\n",
    "import seaborn as sns\n",
    "import matplotlib.pyplot as plt\n",
    "import h2o\n",
    "from h2o.automl import H2OAutoML\n",
    "from utils.from_latlon import from_latlon\n",
    "from utils.preprocessing import preprocess\n",
    "from utils.postprocessing import postprocess_data, location_averaging, calculate_error\n",
    "\n",
    "seed = 38 # Seed for train/val split"
   ]
  },
  {
   "cell_type": "code",
   "execution_count": 2,
   "metadata": {},
   "outputs": [],
   "source": [
    "# Specify data paths\n",
    "train_data = 'SBTF_data/input_data/train_test_data/train_data.xlsx'\n",
    "test_data = 'SBTF_data/input_data/train_test_data/test_data.xlsx'\n",
    "radio_tower_xy_path = 'SBTF_data/input_data/radio_tower_locations/RTEastNorth_1group.xlsx'\n",
    "\n",
    "# Variable parameters\n",
    "freq = '3min' # Frequency of data\n",
    "\n",
    "# Fixed parameters\n",
    "routine = 'training'\n",
    "dimensions = ['xOffset', 'yOffset']\n"
   ]
  },
  {
   "cell_type": "code",
   "execution_count": 3,
   "metadata": {},
   "outputs": [],
   "source": [
    "def preprocess_sim_data(sim_data, freq, tower_locs, routine):\n",
    "    \n",
    "    sim_dat_filt, predictors = preprocess(sim_data, freq, routine)\n",
    "     \n",
    "    # Calculate easting and northing from lat long\n",
    "    sim_dat_filt['easting'], sim_dat_filt['northing'], sim_dat_filt['zone_num'], sim_dat_filt['zone_letter'] = from_latlon(sim_dat_filt['POINT_Y'].values, sim_dat_filt['POINT_X'].values)\n",
    "\n",
    "    # Create a dictionary of the coordinates of the towers\n",
    "    offset_dict = tower_locs.set_index('TowerID').to_dict()\n",
    "    point_x = offset_dict['POINT_X']\n",
    "    point_y = offset_dict['POINT_Y']\n",
    "\n",
    "    # Standardise the coordinates so that the tower location == 0 on both the x and y axes.\n",
    "    sim_dat_filt['xOffset'] = sim_dat_filt['easting'] - sim_dat_filt['TowerID'].map(point_x).fillna(0)\n",
    "    sim_dat_filt['yOffset'] = sim_dat_filt['northing'] - sim_dat_filt['TowerID'].map(point_y).fillna(0)\n",
    "    \n",
    "    return sim_dat_filt, predictors\n"
   ]
  },
  {
   "cell_type": "code",
   "execution_count": 4,
   "metadata": {},
   "outputs": [],
   "source": [
    "# Get training data\n",
    "train_data = pd.read_excel(train_data)\n",
    "train_data['DateAndTime'] = pd.to_datetime(train_data['DateAndTime'])\n",
    "\n",
    "# Get testing data\n",
    "test_data = pd.read_excel(test_data)\n",
    "test_data['DateAndTime'] = pd.to_datetime(test_data['DateAndTime'])\n",
    "\n",
    "# Get tower locations\n",
    "tower_locs = pd.read_excel(radio_tower_xy_path)"
   ]
  },
  {
   "cell_type": "code",
   "execution_count": 5,
   "metadata": {},
   "outputs": [
    {
     "name": "stderr",
     "output_type": "stream",
     "text": [
      "c:\\Users\\JohnvanOsta\\Documents\\GitHub\\ml4rt\\utils\\preprocessing.py:10: FutureWarning: The provided callable <function std at 0x0000012FC5DCB600> is currently using SeriesGroupBy.std. In a future version of pandas, the provided callable will be used directly. To keep current behavior pass the string \"std\" instead.\n",
      "  .agg(['mean', 'count', np.std])\n"
     ]
    }
   ],
   "source": [
    "train_data_preproc, predictors_train = preprocess_sim_data(train_data, freq, tower_locs, routine)\n"
   ]
  },
  {
   "cell_type": "code",
   "execution_count": 6,
   "metadata": {},
   "outputs": [
    {
     "data": {
      "text/plain": [
       "185"
      ]
     },
     "execution_count": 6,
     "metadata": {},
     "output_type": "execute_result"
    }
   ],
   "source": [
    "len(train_data_preproc['Point_ID'].unique().tolist())"
   ]
  },
  {
   "cell_type": "code",
   "execution_count": 7,
   "metadata": {},
   "outputs": [
    {
     "name": "stdout",
     "output_type": "stream",
     "text": [
      "Checking whether there is an H2O instance running at http://localhost:54321."
     ]
    },
    {
     "name": "stderr",
     "output_type": "stream",
     "text": [
      "c:\\Users\\JohnvanOsta\\Documents\\GitHub\\ml4rt\\utils\\preprocessing.py:10: FutureWarning: The provided callable <function std at 0x0000012FC5DCB600> is currently using SeriesGroupBy.std. In a future version of pandas, the provided callable will be used directly. To keep current behavior pass the string \"std\" instead.\n",
      "  .agg(['mean', 'count', np.std])\n",
      "c:\\Users\\JohnvanOsta\\Documents\\GitHub\\ml4rt\\utils\\preprocessing.py:10: FutureWarning: The provided callable <function std at 0x0000012FC5DCB600> is currently using SeriesGroupBy.std. In a future version of pandas, the provided callable will be used directly. To keep current behavior pass the string \"std\" instead.\n",
      "  .agg(['mean', 'count', np.std])\n"
     ]
    },
    {
     "name": "stdout",
     "output_type": "stream",
     "text": [
      ".... not found.\n",
      "Attempting to start a local H2O server...\n",
      "; Java HotSpot(TM) 64-Bit Server VM (build 17.0.10+11-LTS-240, mixed mode, sharing)\n",
      "  Starting server from C:\\Users\\JohnvanOsta\\Documents\\GitHub\\ml4rt\\.venv\\Lib\\site-packages\\h2o\\backend\\bin\\h2o.jar\n",
      "  Ice root: C:\\Users\\JOHNVA~1\\AppData\\Local\\Temp\\tmpkzkvn4sg\n",
      "  JVM stdout: C:\\Users\\JOHNVA~1\\AppData\\Local\\Temp\\tmpkzkvn4sg\\h2o_JohnvanOsta_started_from_python.out\n",
      "  JVM stderr: C:\\Users\\JOHNVA~1\\AppData\\Local\\Temp\\tmpkzkvn4sg\\h2o_JohnvanOsta_started_from_python.err\n",
      "  Server is running at http://127.0.0.1:54339\n",
      "Connecting to H2O server at http://127.0.0.1:54339 ... successful.\n"
     ]
    },
    {
     "data": {
      "text/html": [
       "\n",
       "<style>\n",
       "\n",
       "#h2o-table-1.h2o-container {\n",
       "  overflow-x: auto;\n",
       "}\n",
       "#h2o-table-1 .h2o-table {\n",
       "  /* width: 100%; */\n",
       "  margin-top: 1em;\n",
       "  margin-bottom: 1em;\n",
       "}\n",
       "#h2o-table-1 .h2o-table caption {\n",
       "  white-space: nowrap;\n",
       "  caption-side: top;\n",
       "  text-align: left;\n",
       "  /* margin-left: 1em; */\n",
       "  margin: 0;\n",
       "  font-size: larger;\n",
       "}\n",
       "#h2o-table-1 .h2o-table thead {\n",
       "  white-space: nowrap; \n",
       "  position: sticky;\n",
       "  top: 0;\n",
       "  box-shadow: 0 -1px inset;\n",
       "}\n",
       "#h2o-table-1 .h2o-table tbody {\n",
       "  overflow: auto;\n",
       "}\n",
       "#h2o-table-1 .h2o-table th,\n",
       "#h2o-table-1 .h2o-table td {\n",
       "  text-align: right;\n",
       "  /* border: 1px solid; */\n",
       "}\n",
       "#h2o-table-1 .h2o-table tr:nth-child(even) {\n",
       "  /* background: #F5F5F5 */\n",
       "}\n",
       "\n",
       "</style>      \n",
       "<div id=\"h2o-table-1\" class=\"h2o-container\">\n",
       "  <table class=\"h2o-table\">\n",
       "    <caption></caption>\n",
       "    <thead></thead>\n",
       "    <tbody><tr><td>H2O_cluster_uptime:</td>\n",
       "<td>04 secs</td></tr>\n",
       "<tr><td>H2O_cluster_timezone:</td>\n",
       "<td>Australia/Brisbane</td></tr>\n",
       "<tr><td>H2O_data_parsing_timezone:</td>\n",
       "<td>UTC</td></tr>\n",
       "<tr><td>H2O_cluster_version:</td>\n",
       "<td>3.44.0.3</td></tr>\n",
       "<tr><td>H2O_cluster_version_age:</td>\n",
       "<td>3 months and 6 days</td></tr>\n",
       "<tr><td>H2O_cluster_name:</td>\n",
       "<td>H2O_from_python_JohnvanOsta_sos2qr</td></tr>\n",
       "<tr><td>H2O_cluster_total_nodes:</td>\n",
       "<td>1</td></tr>\n",
       "<tr><td>H2O_cluster_free_memory:</td>\n",
       "<td>3.963 Gb</td></tr>\n",
       "<tr><td>H2O_cluster_total_cores:</td>\n",
       "<td>0</td></tr>\n",
       "<tr><td>H2O_cluster_allowed_cores:</td>\n",
       "<td>0</td></tr>\n",
       "<tr><td>H2O_cluster_status:</td>\n",
       "<td>locked, healthy</td></tr>\n",
       "<tr><td>H2O_connection_url:</td>\n",
       "<td>http://127.0.0.1:54339</td></tr>\n",
       "<tr><td>H2O_connection_proxy:</td>\n",
       "<td>{\"http\": null, \"https\": null}</td></tr>\n",
       "<tr><td>H2O_internal_security:</td>\n",
       "<td>False</td></tr>\n",
       "<tr><td>Python_version:</td>\n",
       "<td>3.11.8 final</td></tr></tbody>\n",
       "  </table>\n",
       "</div>\n"
      ],
      "text/plain": [
       "--------------------------  ----------------------------------\n",
       "H2O_cluster_uptime:         04 secs\n",
       "H2O_cluster_timezone:       Australia/Brisbane\n",
       "H2O_data_parsing_timezone:  UTC\n",
       "H2O_cluster_version:        3.44.0.3\n",
       "H2O_cluster_version_age:    3 months and 6 days\n",
       "H2O_cluster_name:           H2O_from_python_JohnvanOsta_sos2qr\n",
       "H2O_cluster_total_nodes:    1\n",
       "H2O_cluster_free_memory:    3.963 Gb\n",
       "H2O_cluster_total_cores:    0\n",
       "H2O_cluster_allowed_cores:  0\n",
       "H2O_cluster_status:         locked, healthy\n",
       "H2O_connection_url:         http://127.0.0.1:54339\n",
       "H2O_connection_proxy:       {\"http\": null, \"https\": null}\n",
       "H2O_internal_security:      False\n",
       "Python_version:             3.11.8 final\n",
       "--------------------------  ----------------------------------"
      ]
     },
     "metadata": {},
     "output_type": "display_data"
    },
    {
     "name": "stdout",
     "output_type": "stream",
     "text": [
      "Parse progress: |████████████████████████████████████████████████████████████████| (done) 100%\n",
      "AutoML progress: |\n",
      "20:34:32.448: AutoML: XGBoost is not available; skipping it.\n",
      "\n",
      "\n",
      "20:34:33.277: _min_rows param, The dataset size is too small to split for min_rows=100.0: must have at least 200.0 (weighted) rows, but have only 32.0.\n",
      "\n",
      "███████████████████████████████████████████████████████████████| (done) 100%\n",
      "model_id                                                     mae     rmse     mse    rmsle    mean_residual_deviance\n",
      "DeepLearning_grid_3_AutoML_1_20240326_203432_model_1     216.21   374.306  140105      nan                    140105\n",
      "DeepLearning_grid_2_AutoML_1_20240326_203432_model_1     234.521  397.167  157741      nan                    157741\n",
      "StackedEnsemble_BestOfFamily_1_AutoML_1_20240326_203432  237.376  392.702  154215      nan                    154215\n",
      "StackedEnsemble_AllModels_1_AutoML_1_20240326_203432     242.819  400.715  160573      nan                    160573\n",
      "DeepLearning_grid_3_AutoML_1_20240326_203432_model_3     259.17   399.849  159879      nan                    159879\n",
      "XRT_1_AutoML_1_20240326_203432                           265.623  415.407  172563      nan                    172563\n",
      "DeepLearning_grid_2_AutoML_1_20240326_203432_model_2     273.502  439.058  192772      nan                    192772\n",
      "DRF_1_AutoML_1_20240326_203432                           274.598  436.648  190662      nan                    190662\n",
      "GBM_grid_1_AutoML_1_20240326_203432_model_3              278.755  437.538  191440      nan                    191440\n",
      "GBM_5_AutoML_1_20240326_203432                           283.827  477.225  227744      nan                    227744\n",
      "[22 rows x 6 columns]\n",
      "\n",
      "Parse progress: |████████████████████████████████████████████████████████████████| (done) 100%\n",
      "deeplearning prediction progress: |██████████████████████████████████████████████| (done) 100%\n",
      "Parse progress: |"
     ]
    },
    {
     "name": "stderr",
     "output_type": "stream",
     "text": [
      "c:\\Users\\JohnvanOsta\\Documents\\GitHub\\ml4rt\\.venv\\Lib\\site-packages\\h2o\\frame.py:1979: H2ODependencyWarning: converting H2O frame to pandas dataframe using single-thread.  For faster conversion using multi-thread, install datatable (for Python 3.9 or lower), or polars and pyarrow (for Python 3.10 or above).\n",
      "  warnings.warn(\"converting H2O frame to pandas dataframe using single-thread.  For faster conversion using\"\n"
     ]
    },
    {
     "name": "stdout",
     "output_type": "stream",
     "text": [
      "████████████████████████████████████████████████████████████████| (done) 100%\n",
      "AutoML progress: |\n",
      "20:38:48.815: AutoML: XGBoost is not available; skipping it.\n",
      "20:38:48.990: _min_rows param, The dataset size is too small to split for min_rows=100.0: must have at least 200.0 (weighted) rows, but have only 32.0.\n",
      "\n",
      "███████████████████████████████████████████████████████████████| (done) 100%\n",
      "model_id                                                  mae     rmse     mse    rmsle    mean_residual_deviance\n",
      "DeepLearning_grid_2_AutoML_2_20240326_203848_model_2  260.342  433.973  188333      nan                    188333\n",
      "DeepLearning_grid_3_AutoML_2_20240326_203848_model_1  262.465  467.75   218790      nan                    218790\n",
      "DeepLearning_grid_3_AutoML_2_20240326_203848_model_2  265.244  376.641  141858      nan                    141858\n",
      "DeepLearning_grid_2_AutoML_2_20240326_203848_model_1  292.269  474.446  225099      nan                    225099\n",
      "XRT_1_AutoML_2_20240326_203848                        296.622  488.989  239110      nan                    239110\n",
      "DRF_1_AutoML_2_20240326_203848                        300.611  487.431  237589      nan                    237589\n",
      "DeepLearning_grid_2_AutoML_2_20240326_203848_model_3  316.023  462.15   213583      nan                    213583\n",
      "DeepLearning_grid_1_AutoML_2_20240326_203848_model_2  326.162  472.98   223710      nan                    223710\n",
      "GBM_grid_1_AutoML_2_20240326_203848_model_1           331.03   483.837  234098      nan                    234098\n",
      "GBM_grid_1_AutoML_2_20240326_203848_model_3           337.248  498.851  248852      nan                    248852\n",
      "[19 rows x 6 columns]\n",
      "\n",
      "Parse progress: |████████████████████████████████████████████████████████████████| (done) 100%\n",
      "deeplearning prediction progress: |██████████████████████████████████████████████| (done) 100%\n"
     ]
    },
    {
     "name": "stderr",
     "output_type": "stream",
     "text": [
      "c:\\Users\\JohnvanOsta\\Documents\\GitHub\\ml4rt\\.venv\\Lib\\site-packages\\h2o\\frame.py:1979: H2ODependencyWarning: converting H2O frame to pandas dataframe using single-thread.  For faster conversion using multi-thread, install datatable (for Python 3.9 or lower), or polars and pyarrow (for Python 3.10 or above).\n",
      "  warnings.warn(\"converting H2O frame to pandas dataframe using single-thread.  For faster conversion using\"\n"
     ]
    },
    {
     "name": "stdout",
     "output_type": "stream",
     "text": [
      "Mean error (+/-SE) = 689.899728613666 (+/- 49.51212554261313)\n",
      "Parse progress: |████████████████████████████████████████████████████████████████| (done) 100%\n",
      "AutoML progress: |\n",
      "20:43:51.552: AutoML: XGBoost is not available; skipping it.\n",
      "\n",
      "\n",
      "20:43:51.828: _min_rows param, The dataset size is too small to split for min_rows=100.0: must have at least 200.0 (weighted) rows, but have only 98.0.\n",
      "\n",
      "███████████████████████████████████████████████████████████████| (done) 100%\n",
      "model_id                                                  mae     rmse     mse    rmsle    mean_residual_deviance\n",
      "XRT_1_AutoML_3_20240326_204351                        215.689  327.354  107160      nan                    107160\n",
      "GBM_grid_1_AutoML_3_20240326_204351_model_3           215.81   324.009  104982      nan                    104982\n",
      "GBM_grid_1_AutoML_3_20240326_204351_model_4           219.034  349.748  122323      nan                    122323\n",
      "GBM_3_AutoML_3_20240326_204351                        219.573  330.55   109263      nan                    109263\n",
      "DRF_1_AutoML_3_20240326_204351                        219.626  339.434  115216      nan                    115216\n",
      "GBM_4_AutoML_3_20240326_204351                        224.096  334.663  111999      nan                    111999\n",
      "GBM_grid_1_AutoML_3_20240326_204351_model_1           226.69   331.528  109911      nan                    109911\n",
      "GBM_5_AutoML_3_20240326_204351                        228.21   343.416  117935      nan                    117935\n",
      "GBM_2_AutoML_3_20240326_204351                        232.438  341.456  116592      nan                    116592\n",
      "DeepLearning_grid_2_AutoML_3_20240326_204351_model_2  266.277  381.951  145887      nan                    145887\n",
      "[18 rows x 6 columns]\n",
      "\n",
      "Parse progress: |████████████████████████████████████████████████████████████████| (done) 100%\n",
      "drf prediction progress: |███████████████████████████████████████████████████████| (done) 100%\n",
      "Parse progress: |"
     ]
    },
    {
     "name": "stderr",
     "output_type": "stream",
     "text": [
      "c:\\Users\\JohnvanOsta\\Documents\\GitHub\\ml4rt\\.venv\\Lib\\site-packages\\h2o\\frame.py:1979: H2ODependencyWarning: converting H2O frame to pandas dataframe using single-thread.  For faster conversion using multi-thread, install datatable (for Python 3.9 or lower), or polars and pyarrow (for Python 3.10 or above).\n",
      "  warnings.warn(\"converting H2O frame to pandas dataframe using single-thread.  For faster conversion using\"\n"
     ]
    },
    {
     "name": "stdout",
     "output_type": "stream",
     "text": [
      "████████████████████████████████████████████████████████████████| (done) 100%\n",
      "AutoML progress: |\n",
      "20:48:54.90: AutoML: XGBoost is not available; skipping it.\n",
      "20:48:54.200: _min_rows param, The dataset size is too small to split for min_rows=100.0: must have at least 200.0 (weighted) rows, but have only 98.0.\n",
      "\n",
      "███████████████████████████████████████████████████████████████| (done) 100%\n",
      "model_id                                                  mae     rmse     mse    rmsle    mean_residual_deviance\n",
      "DeepLearning_grid_3_AutoML_4_20240326_204854_model_1  282.162  392.553  154097      nan                    154097\n",
      "DRF_1_AutoML_4_20240326_204854                        292.372  417.325  174161      nan                    174161\n",
      "XRT_1_AutoML_4_20240326_204854                        295.227  412.695  170317      nan                    170317\n",
      "GBM_grid_1_AutoML_4_20240326_204854_model_4           299.459  461.831  213287      nan                    213287\n",
      "GBM_grid_1_AutoML_4_20240326_204854_model_3           299.475  442.62   195913      nan                    195913\n",
      "GBM_5_AutoML_4_20240326_204854                        301.213  438.791  192538      nan                    192538\n",
      "DeepLearning_grid_2_AutoML_4_20240326_204854_model_1  310.61   413.933  171341      nan                    171341\n",
      "GBM_grid_1_AutoML_4_20240326_204854_model_1           312.749  429.479  184453      nan                    184453\n",
      "DeepLearning_grid_2_AutoML_4_20240326_204854_model_2  319.889  427.434  182700      nan                    182700\n",
      "GBM_3_AutoML_4_20240326_204854                        323.963  428.313  183452      nan                    183452\n",
      "[19 rows x 6 columns]\n",
      "\n",
      "Parse progress: |████████████████████████████████████████████████████████████████| (done) 100%\n",
      "deeplearning prediction progress: |██████████████████████████████████████████████| (done) 100%\n",
      "Mean error (+/-SE) = 429.45294737545703 (+/- 26.60338779572148)\n",
      "Parse progress: |████████████████████████████████████████████████████████████████| (done) 100%\n",
      "AutoML progress: |"
     ]
    },
    {
     "name": "stderr",
     "output_type": "stream",
     "text": [
      "c:\\Users\\JohnvanOsta\\Documents\\GitHub\\ml4rt\\.venv\\Lib\\site-packages\\h2o\\frame.py:1979: H2ODependencyWarning: converting H2O frame to pandas dataframe using single-thread.  For faster conversion using multi-thread, install datatable (for Python 3.9 or lower), or polars and pyarrow (for Python 3.10 or above).\n",
      "  warnings.warn(\"converting H2O frame to pandas dataframe using single-thread.  For faster conversion using\"\n"
     ]
    },
    {
     "name": "stdout",
     "output_type": "stream",
     "text": [
      "\n",
      "20:53:55.359: AutoML: XGBoost is not available; skipping it.\n",
      "20:53:55.455: _min_rows param, The dataset size is too small to split for min_rows=100.0: must have at least 200.0 (weighted) rows, but have only 147.0.\n",
      "\n",
      "███████████████████████████████████████████████████████████████| (done) 100%\n",
      "model_id                                                  mae     rmse     mse    rmsle    mean_residual_deviance\n",
      "GBM_grid_1_AutoML_5_20240326_205355_model_3           293.912  435.514  189672      nan                    189672\n",
      "XRT_1_AutoML_5_20240326_205355                        310.429  458.606  210319      nan                    210319\n",
      "DRF_1_AutoML_5_20240326_205355                        319.9    465.994  217151      nan                    217151\n",
      "GBM_5_AutoML_5_20240326_205355                        324.056  465.962  217121      nan                    217121\n",
      "GBM_grid_1_AutoML_5_20240326_205355_model_4           328.132  482.438  232747      nan                    232747\n",
      "GBM_grid_1_AutoML_5_20240326_205355_model_1           330.84   463.266  214615      nan                    214615\n",
      "DeepLearning_grid_2_AutoML_5_20240326_205355_model_2  339.373  469.45   220383      nan                    220383\n",
      "GBM_3_AutoML_5_20240326_205355                        352.928  481.206  231559      nan                    231559\n",
      "DeepLearning_grid_2_AutoML_5_20240326_205355_model_1  355.301  468.136  219152      nan                    219152\n",
      "GBM_4_AutoML_5_20240326_205355                        356.809  477.568  228072      nan                    228072\n",
      "[18 rows x 6 columns]\n",
      "\n",
      "Parse progress: |████████████████████████████████████████████████████████████████| (done) 100%\n",
      "gbm prediction progress: |███████████████████████████████████████████████████████| (done) 100%\n",
      "Parse progress: |████████████████████████████████████████████████████████████████| (done) 100%\n",
      "AutoML progress: |"
     ]
    },
    {
     "name": "stderr",
     "output_type": "stream",
     "text": [
      "c:\\Users\\JohnvanOsta\\Documents\\GitHub\\ml4rt\\.venv\\Lib\\site-packages\\h2o\\frame.py:1979: H2ODependencyWarning: converting H2O frame to pandas dataframe using single-thread.  For faster conversion using multi-thread, install datatable (for Python 3.9 or lower), or polars and pyarrow (for Python 3.10 or above).\n",
      "  warnings.warn(\"converting H2O frame to pandas dataframe using single-thread.  For faster conversion using\"\n"
     ]
    },
    {
     "name": "stdout",
     "output_type": "stream",
     "text": [
      "\n",
      "20:58:56.590: AutoML: XGBoost is not available; skipping it.\n",
      "20:58:56.650: _min_rows param, The dataset size is too small to split for min_rows=100.0: must have at least 200.0 (weighted) rows, but have only 147.0.\n",
      "\n",
      "███████████████████████████████████████████████████████████████| (done) 100%\n",
      "model_id                                                  mae     rmse     mse    rmsle    mean_residual_deviance\n",
      "GBM_5_AutoML_6_20240326_205856                        217.923  330.671  109343      nan                    109343\n",
      "DRF_1_AutoML_6_20240326_205856                        245.751  371.614  138097      nan                    138097\n",
      "GBM_grid_1_AutoML_6_20240326_205856_model_4           247.265  369.616  136616      nan                    136616\n",
      "DeepLearning_grid_2_AutoML_6_20240326_205856_model_1  247.542  426.161  181613      nan                    181613\n",
      "XRT_1_AutoML_6_20240326_205856                        251.247  383.429  147018      nan                    147018\n",
      "GBM_grid_1_AutoML_6_20240326_205856_model_3           252.171  376.351  141640      nan                    141640\n",
      "GBM_grid_1_AutoML_6_20240326_205856_model_1           262.852  387.467  150130      nan                    150130\n",
      "GBM_4_AutoML_6_20240326_205856                        265.719  387.54   150187      nan                    150187\n",
      "GBM_2_AutoML_6_20240326_205856                        267.993  394.263  155443      nan                    155443\n",
      "GBM_3_AutoML_6_20240326_205856                        271.779  383.215  146854      nan                    146854\n",
      "[18 rows x 6 columns]\n",
      "\n",
      "Parse progress: |████████████████████████████████████████████████████████████████| (done) 100%\n",
      "gbm prediction progress: |███████████████████████████████████████████████████████| (done) 100%\n",
      "Mean error (+/-SE) = 428.02970796363223 (+/- 25.24787574300868)\n",
      "Parse progress: |████████████████████████████████████████████████████████████████| (done) 100%\n",
      "AutoML progress: |"
     ]
    },
    {
     "name": "stderr",
     "output_type": "stream",
     "text": [
      "c:\\Users\\JohnvanOsta\\Documents\\GitHub\\ml4rt\\.venv\\Lib\\site-packages\\h2o\\frame.py:1979: H2ODependencyWarning: converting H2O frame to pandas dataframe using single-thread.  For faster conversion using multi-thread, install datatable (for Python 3.9 or lower), or polars and pyarrow (for Python 3.10 or above).\n",
      "  warnings.warn(\"converting H2O frame to pandas dataframe using single-thread.  For faster conversion using\"\n"
     ]
    },
    {
     "name": "stdout",
     "output_type": "stream",
     "text": [
      "\n",
      "21:03:57.362: AutoML: XGBoost is not available; skipping it.\n",
      "21:03:57.416: _min_rows param, The dataset size is too small to split for min_rows=100.0: must have at least 200.0 (weighted) rows, but have only 182.0.\n",
      "\n",
      "███████████████████████████████████████████████████████████████| (done) 100%\n",
      "model_id                                                  mae     rmse     mse    rmsle    mean_residual_deviance\n",
      "XRT_1_AutoML_7_20240326_210357                        283.833  527.503  278260      nan                    278260\n",
      "DeepLearning_grid_1_AutoML_7_20240326_210357_model_1  288.511  528.541  279356      nan                    279356\n",
      "GBM_grid_1_AutoML_7_20240326_210357_model_4           289.918  531.018  281980      nan                    281980\n",
      "DRF_1_AutoML_7_20240326_210357                        294.371  545.788  297884      nan                    297884\n",
      "GBM_4_AutoML_7_20240326_210357                        300.627  531.989  283012      nan                    283012\n",
      "GBM_3_AutoML_7_20240326_210357                        301.25   540.98   292659      nan                    292659\n",
      "GBM_2_AutoML_7_20240326_210357                        303.555  542.124  293898      nan                    293898\n",
      "GBM_grid_1_AutoML_7_20240326_210357_model_3           304.54   538.654  290149      nan                    290149\n",
      "GBM_grid_1_AutoML_7_20240326_210357_model_1           304.735  539.238  290778      nan                    290778\n",
      "DeepLearning_grid_2_AutoML_7_20240326_210357_model_2  308.94   563.723  317783      nan                    317783\n",
      "[18 rows x 6 columns]\n",
      "\n",
      "Parse progress: |████████████████████████████████████████████████████████████████| (done) 100%\n",
      "drf prediction progress: |███████████████████████████████████████████████████████| (done) 100%\n",
      "Parse progress: |████████████████████████████████████████████████████████████████| (done) 100%\n",
      "AutoML progress: |"
     ]
    },
    {
     "name": "stderr",
     "output_type": "stream",
     "text": [
      "c:\\Users\\JohnvanOsta\\Documents\\GitHub\\ml4rt\\.venv\\Lib\\site-packages\\h2o\\frame.py:1979: H2ODependencyWarning: converting H2O frame to pandas dataframe using single-thread.  For faster conversion using multi-thread, install datatable (for Python 3.9 or lower), or polars and pyarrow (for Python 3.10 or above).\n",
      "  warnings.warn(\"converting H2O frame to pandas dataframe using single-thread.  For faster conversion using\"\n"
     ]
    },
    {
     "name": "stdout",
     "output_type": "stream",
     "text": [
      "\n",
      "21:08:58.602: AutoML: XGBoost is not available; skipping it.\n",
      "21:08:58.657: _min_rows param, The dataset size is too small to split for min_rows=100.0: must have at least 200.0 (weighted) rows, but have only 182.0.\n",
      "\n",
      "███████████████████████████████████████████████████████████████| (done) 100%\n",
      "model_id                                                  mae     rmse     mse    rmsle    mean_residual_deviance\n",
      "DeepLearning_grid_1_AutoML_8_20240326_210858_model_1  325.289  503.712  253726      nan                    253726\n",
      "GBM_grid_1_AutoML_8_20240326_210858_model_2           325.847  500.739  250739      nan                    250739\n",
      "GBM_grid_1_AutoML_8_20240326_210858_model_5           333.627  508.726  258802      nan                    258802\n",
      "GBM_4_AutoML_8_20240326_210858                        334.992  507.687  257746      nan                    257746\n",
      "GBM_2_AutoML_8_20240326_210858                        336.249  507.42   257475      nan                    257475\n",
      "GBM_3_AutoML_8_20240326_210858                        337.369  508.502  258574      nan                    258574\n",
      "GBM_grid_1_AutoML_8_20240326_210858_model_1           337.737  517.196  267492      nan                    267492\n",
      "DeepLearning_grid_2_AutoML_8_20240326_210858_model_2  342.722  527.898  278676      nan                    278676\n",
      "DeepLearning_grid_1_AutoML_8_20240326_210858_model_3  346.712  525.727  276389      nan                    276389\n",
      "DeepLearning_grid_2_AutoML_8_20240326_210858_model_1  347.725  517.718  268032      nan                    268032\n",
      "[18 rows x 6 columns]\n",
      "\n",
      "Parse progress: |████████████████████████████████████████████████████████████████| (done) 100%\n",
      "deeplearning prediction progress: |██████████████████████████████████████████████| (done) 100%\n",
      "Mean error (+/-SE) = 464.1378125598261 (+/- 24.845663485961115)\n",
      "Parse progress: |████████████████████████████████████████████████████████████████| (done) 100%\n",
      "AutoML progress: |"
     ]
    },
    {
     "name": "stderr",
     "output_type": "stream",
     "text": [
      "c:\\Users\\JohnvanOsta\\Documents\\GitHub\\ml4rt\\.venv\\Lib\\site-packages\\h2o\\frame.py:1979: H2ODependencyWarning: converting H2O frame to pandas dataframe using single-thread.  For faster conversion using multi-thread, install datatable (for Python 3.9 or lower), or polars and pyarrow (for Python 3.10 or above).\n",
      "  warnings.warn(\"converting H2O frame to pandas dataframe using single-thread.  For faster conversion using\"\n"
     ]
    },
    {
     "name": "stdout",
     "output_type": "stream",
     "text": [
      "\n",
      "21:13:59.965: AutoML: XGBoost is not available; skipping it.\n",
      "21:14:00.113: _min_rows param, The dataset size is too small to split for min_rows=100.0: must have at least 200.0 (weighted) rows, but have only 177.0.\n",
      "\n",
      "███████████████████████████████████████████████████████████████| (done) 100%\n",
      "model_id                                                  mae     rmse     mse    rmsle    mean_residual_deviance\n",
      "DRF_1_AutoML_9_20240326_211359                        208.494  351.744  123724      nan                    123724\n",
      "XRT_1_AutoML_9_20240326_211359                        216.312  346.557  120102      nan                    120102\n",
      "GBM_5_AutoML_9_20240326_211359                        217.312  382.152  146040      nan                    146040\n",
      "GBM_grid_1_AutoML_9_20240326_211359_model_4           218.991  382.006  145929      nan                    145929\n",
      "GBM_grid_1_AutoML_9_20240326_211359_model_3           227.675  360.8    130177      nan                    130177\n",
      "GBM_4_AutoML_9_20240326_211359                        227.856  345.383  119289      nan                    119289\n",
      "DeepLearning_grid_1_AutoML_9_20240326_211359_model_1  234.064  342.415  117248      nan                    117248\n",
      "GBM_2_AutoML_9_20240326_211359                        234.243  345.092  119088      nan                    119088\n",
      "GBM_3_AutoML_9_20240326_211359                        236.354  356.229  126899      nan                    126899\n",
      "GBM_grid_1_AutoML_9_20240326_211359_model_1           239.463  354.314  125539      nan                    125539\n",
      "[18 rows x 6 columns]\n",
      "\n",
      "Parse progress: |████████████████████████████████████████████████████████████████| (done) 100%\n",
      "drf prediction progress: |███████████████████████████████████████████████████████| (done) 100%\n",
      "Parse progress: |████████████████████████████████████████████████████████████████| (done) 100%\n",
      "AutoML progress: |"
     ]
    },
    {
     "name": "stderr",
     "output_type": "stream",
     "text": [
      "c:\\Users\\JohnvanOsta\\Documents\\GitHub\\ml4rt\\.venv\\Lib\\site-packages\\h2o\\frame.py:1979: H2ODependencyWarning: converting H2O frame to pandas dataframe using single-thread.  For faster conversion using multi-thread, install datatable (for Python 3.9 or lower), or polars and pyarrow (for Python 3.10 or above).\n",
      "  warnings.warn(\"converting H2O frame to pandas dataframe using single-thread.  For faster conversion using\"\n"
     ]
    },
    {
     "name": "stdout",
     "output_type": "stream",
     "text": [
      "\n",
      "21:19:01.263: AutoML: XGBoost is not available; skipping it.\n",
      "21:19:01.331: _min_rows param, The dataset size is too small to split for min_rows=100.0: must have at least 200.0 (weighted) rows, but have only 177.0.\n",
      "\n",
      "███████████████████████████████████████████████████████████████| (done) 100%\n",
      "model_id                                                   mae     rmse     mse    rmsle    mean_residual_deviance\n",
      "GBM_5_AutoML_10_20240326_211901                        260.882  446.318  199200      nan                    199200\n",
      "DeepLearning_grid_2_AutoML_10_20240326_211901_model_1  260.921  403.92   163152      nan                    163152\n",
      "XRT_1_AutoML_10_20240326_211901                        261.935  420.834  177101      nan                    177101\n",
      "DeepLearning_grid_1_AutoML_10_20240326_211901_model_1  263.396  397.044  157644      nan                    157644\n",
      "DeepLearning_grid_2_AutoML_10_20240326_211901_model_2  266.052  419.607  176070      nan                    176070\n",
      "GBM_grid_1_AutoML_10_20240326_211901_model_4           266.054  458.058  209817      nan                    209817\n",
      "GBM_grid_1_AutoML_10_20240326_211901_model_1           266.143  421.747  177870      nan                    177870\n",
      "DRF_1_AutoML_10_20240326_211901                        269.68   452.47   204729      nan                    204729\n",
      "GBM_grid_1_AutoML_10_20240326_211901_model_3           270.718  437.72   191598      nan                    191598\n",
      "GBM_3_AutoML_10_20240326_211901                        277.502  423.504  179355      nan                    179355\n",
      "[18 rows x 6 columns]\n",
      "\n",
      "Parse progress: |████████████████████████████████████████████████████████████████| (done) 100%\n",
      "gbm prediction progress: |███████████████████████████████████████████████████████| (done) 100%\n",
      "Mean error (+/-SE) = 340.4221926275661 (+/- 17.866356071108246)\n",
      "Parse progress: |"
     ]
    },
    {
     "name": "stderr",
     "output_type": "stream",
     "text": [
      "c:\\Users\\JohnvanOsta\\Documents\\GitHub\\ml4rt\\.venv\\Lib\\site-packages\\h2o\\frame.py:1979: H2ODependencyWarning: converting H2O frame to pandas dataframe using single-thread.  For faster conversion using multi-thread, install datatable (for Python 3.9 or lower), or polars and pyarrow (for Python 3.10 or above).\n",
      "  warnings.warn(\"converting H2O frame to pandas dataframe using single-thread.  For faster conversion using\"\n"
     ]
    },
    {
     "name": "stdout",
     "output_type": "stream",
     "text": [
      "████████████████████████████████████████████████████████████████| (done) 100%\n",
      "AutoML progress: |\n",
      "21:24:02.710: AutoML: XGBoost is not available; skipping it.\n",
      "\n",
      "███████████████████████████████████████████████████████████████| (done) 100%\n",
      "model_id                                                   mae     rmse       mse    rmsle    mean_residual_deviance\n",
      "GBM_grid_1_AutoML_11_20240326_212402_model_4           223.878  298.77    89263.6      nan                   89263.6\n",
      "DRF_1_AutoML_11_20240326_212402                        225.954  299.667   89800.4      nan                   89800.4\n",
      "DeepLearning_grid_2_AutoML_11_20240326_212402_model_1  227.339  292.573   85598.9      nan                   85598.9\n",
      "XRT_1_AutoML_11_20240326_212402                        227.34   302.661   91603.7      nan                   91603.7\n",
      "GBM_5_AutoML_11_20240326_212402                        234.338  308.481   95160.3      nan                   95160.3\n",
      "GBM_grid_1_AutoML_11_20240326_212402_model_1           240.267  318.515  101452        nan                  101452\n",
      "GBM_grid_1_AutoML_11_20240326_212402_model_3           242.531  330.528  109249        nan                  109249\n",
      "DeepLearning_grid_1_AutoML_11_20240326_212402_model_1  246.11   317.578  100856        nan                  100856\n",
      "GBM_3_AutoML_11_20240326_212402                        248.863  331.069  109606        nan                  109606\n",
      "GBM_4_AutoML_11_20240326_212402                        250.586  333.709  111362        nan                  111362\n",
      "[17 rows x 6 columns]\n",
      "\n",
      "Parse progress: |████████████████████████████████████████████████████████████████| (done) 100%\n",
      "gbm prediction progress: |███████████████████████████████████████████████████████| (done) 100%\n",
      "Parse progress: |"
     ]
    },
    {
     "name": "stderr",
     "output_type": "stream",
     "text": [
      "c:\\Users\\JohnvanOsta\\Documents\\GitHub\\ml4rt\\.venv\\Lib\\site-packages\\h2o\\frame.py:1979: H2ODependencyWarning: converting H2O frame to pandas dataframe using single-thread.  For faster conversion using multi-thread, install datatable (for Python 3.9 or lower), or polars and pyarrow (for Python 3.10 or above).\n",
      "  warnings.warn(\"converting H2O frame to pandas dataframe using single-thread.  For faster conversion using\"\n"
     ]
    },
    {
     "name": "stdout",
     "output_type": "stream",
     "text": [
      "████████████████████████████████████████████████████████████████| (done) 100%\n",
      "AutoML progress: |\n",
      "21:29:04.245: AutoML: XGBoost is not available; skipping it.\n",
      "\n",
      "███████████████████████████████████████████████████████████████| (done) 100%\n",
      "model_id                                                   mae     rmse     mse    rmsle    mean_residual_deviance\n",
      "GBM_4_AutoML_12_20240326_212904                        316.07   476.525  227076      nan                    227076\n",
      "GBM_grid_1_AutoML_12_20240326_212904_model_4           316.123  494.129  244163      nan                    244163\n",
      "DeepLearning_grid_2_AutoML_12_20240326_212904_model_1  317.075  470.729  221585      nan                    221585\n",
      "GBM_3_AutoML_12_20240326_212904                        318.821  478.021  228504      nan                    228504\n",
      "GBM_2_AutoML_12_20240326_212904                        318.981  482.886  233179      nan                    233179\n",
      "GBM_grid_1_AutoML_12_20240326_212904_model_3           321.774  480.27   230660      nan                    230660\n",
      "GBM_5_AutoML_12_20240326_212904                        322.13   498.579  248581      nan                    248581\n",
      "DRF_1_AutoML_12_20240326_212904                        323.727  490.349  240442      nan                    240442\n",
      "GBM_grid_1_AutoML_12_20240326_212904_model_5           326.399  479.118  229554      nan                    229554\n",
      "GBM_grid_1_AutoML_12_20240326_212904_model_2           326.728  475.37   225977      nan                    225977\n",
      "[18 rows x 6 columns]\n",
      "\n",
      "Parse progress: |████████████████████████████████████████████████████████████████| (done) 100%\n",
      "gbm prediction progress: |███████████████████████████████████████████████████████| (done) 100%\n",
      "Mean error (+/-SE) = 343.47824570278857 (+/- 19.147437026359263)\n",
      "Parse progress: |████████████████████████████████████████████████████████████████| (done) 100%\n",
      "AutoML progress: |"
     ]
    },
    {
     "name": "stderr",
     "output_type": "stream",
     "text": [
      "c:\\Users\\JohnvanOsta\\Documents\\GitHub\\ml4rt\\.venv\\Lib\\site-packages\\h2o\\frame.py:1979: H2ODependencyWarning: converting H2O frame to pandas dataframe using single-thread.  For faster conversion using multi-thread, install datatable (for Python 3.9 or lower), or polars and pyarrow (for Python 3.10 or above).\n",
      "  warnings.warn(\"converting H2O frame to pandas dataframe using single-thread.  For faster conversion using\"\n"
     ]
    },
    {
     "name": "stdout",
     "output_type": "stream",
     "text": [
      "\n",
      "21:34:05.440: AutoML: XGBoost is not available; skipping it.\n",
      "\n",
      "███████████████████████████████████████████████████████████████| (done) 100%\n",
      "model_id                                                   mae     rmse     mse    rmsle    mean_residual_deviance\n",
      "XRT_1_AutoML_13_20240326_213405                        240.116  323.74   104808      nan                    104808\n",
      "GBM_5_AutoML_13_20240326_213405                        245.208  329.079  108293      nan                    108293\n",
      "GBM_grid_1_AutoML_13_20240326_213405_model_1           245.327  330.577  109281      nan                    109281\n",
      "GBM_2_AutoML_13_20240326_213405                        246.314  330.081  108953      nan                    108953\n",
      "DRF_1_AutoML_13_20240326_213405                        248.012  330.12   108979      nan                    108979\n",
      "GBM_grid_1_AutoML_13_20240326_213405_model_4           248.808  330.673  109345      nan                    109345\n",
      "GBM_4_AutoML_13_20240326_213405                        248.823  328.066  107628      nan                    107628\n",
      "GBM_grid_1_AutoML_13_20240326_213405_model_3           249.085  333.468  111201      nan                    111201\n",
      "DeepLearning_grid_1_AutoML_13_20240326_213405_model_1  250.978  333.466  111200      nan                    111200\n",
      "GBM_3_AutoML_13_20240326_213405                        252.766  333.492  111217      nan                    111217\n",
      "[17 rows x 6 columns]\n",
      "\n",
      "Parse progress: |████████████████████████████████████████████████████████████████| (done) 100%\n",
      "drf prediction progress: |███████████████████████████████████████████████████████| (done) 100%\n",
      "Parse progress: |"
     ]
    },
    {
     "name": "stderr",
     "output_type": "stream",
     "text": [
      "c:\\Users\\JohnvanOsta\\Documents\\GitHub\\ml4rt\\.venv\\Lib\\site-packages\\h2o\\frame.py:1979: H2ODependencyWarning: converting H2O frame to pandas dataframe using single-thread.  For faster conversion using multi-thread, install datatable (for Python 3.9 or lower), or polars and pyarrow (for Python 3.10 or above).\n",
      "  warnings.warn(\"converting H2O frame to pandas dataframe using single-thread.  For faster conversion using\"\n"
     ]
    },
    {
     "name": "stdout",
     "output_type": "stream",
     "text": [
      "████████████████████████████████████████████████████████████████| (done) 100%\n",
      "AutoML progress: |\n",
      "21:39:07.233: AutoML: XGBoost is not available; skipping it.\n",
      "\n",
      "███████████████████████████████████████████████████████████████| (done) 100%\n",
      "model_id                                                   mae     rmse     mse    rmsle    mean_residual_deviance\n",
      "GBM_2_AutoML_14_20240326_213907                        270.238  367.483  135044      nan                    135044\n",
      "GBM_grid_1_AutoML_14_20240326_213907_model_4           271.805  368.352  135683      nan                    135683\n",
      "GBM_3_AutoML_14_20240326_213907                        275.92   376.726  141923      nan                    141923\n",
      "GBM_5_AutoML_14_20240326_213907                        276.582  370.624  137362      nan                    137362\n",
      "GBM_4_AutoML_14_20240326_213907                        277.557  377.969  142860      nan                    142860\n",
      "GBM_grid_1_AutoML_14_20240326_213907_model_1           278.915  379.613  144106      nan                    144106\n",
      "XRT_1_AutoML_14_20240326_213907                        281.334  384.236  147637      nan                    147637\n",
      "DeepLearning_grid_2_AutoML_14_20240326_213907_model_1  282.407  388.261  150746      nan                    150746\n",
      "GBM_grid_1_AutoML_14_20240326_213907_model_3           285.465  388.496  150929      nan                    150929\n",
      "DRF_1_AutoML_14_20240326_213907                        287.233  392.17   153798      nan                    153798\n",
      "[18 rows x 6 columns]\n",
      "\n",
      "Parse progress: |████████████████████████████████████████████████████████████████| (done) 100%\n",
      "gbm prediction progress: |███████████████████████████████████████████████████████| (done) 100%\n",
      "Mean error (+/-SE) = 360.1127622726742 (+/- 21.325894289060376)\n",
      "Parse progress: |"
     ]
    },
    {
     "name": "stderr",
     "output_type": "stream",
     "text": [
      "c:\\Users\\JohnvanOsta\\Documents\\GitHub\\ml4rt\\.venv\\Lib\\site-packages\\h2o\\frame.py:1979: H2ODependencyWarning: converting H2O frame to pandas dataframe using single-thread.  For faster conversion using multi-thread, install datatable (for Python 3.9 or lower), or polars and pyarrow (for Python 3.10 or above).\n",
      "  warnings.warn(\"converting H2O frame to pandas dataframe using single-thread.  For faster conversion using\"\n"
     ]
    },
    {
     "name": "stdout",
     "output_type": "stream",
     "text": [
      "████████████████████████████████████████████████████████████████| (done) 100%\n",
      "AutoML progress: |\n",
      "21:44:08.349: AutoML: XGBoost is not available; skipping it.\n",
      "\n",
      "███████████████████████████████████████████████████████████████| (done) 100%\n",
      "model_id                                                   mae     rmse     mse    rmsle    mean_residual_deviance\n",
      "GBM_grid_1_AutoML_15_20240326_214408_model_4           249.297  359.971  129579      nan                    129579\n",
      "DRF_1_AutoML_15_20240326_214408                        251.165  359.111  128961      nan                    128961\n",
      "GBM_5_AutoML_15_20240326_214408                        253.446  364.8    133079      nan                    133079\n",
      "XRT_1_AutoML_15_20240326_214408                        255.588  362.445  131366      nan                    131366\n",
      "GBM_2_AutoML_15_20240326_214408                        258.815  374.108  139957      nan                    139957\n",
      "GBM_grid_1_AutoML_15_20240326_214408_model_1           260.267  370.523  137288      nan                    137288\n",
      "GBM_3_AutoML_15_20240326_214408                        260.958  373.281  139339      nan                    139339\n",
      "GBM_grid_1_AutoML_15_20240326_214408_model_3           261.926  369.599  136604      nan                    136604\n",
      "GBM_4_AutoML_15_20240326_214408                        262.195  379.271  143846      nan                    143846\n",
      "DeepLearning_grid_2_AutoML_15_20240326_214408_model_1  273.636  375.55   141038      nan                    141038\n",
      "[17 rows x 6 columns]\n",
      "\n",
      "Parse progress: |████████████████████████████████████████████████████████████████| (done) 100%\n",
      "gbm prediction progress: |███████████████████████████████████████████████████████| (done) 100%\n",
      "Parse progress: |"
     ]
    },
    {
     "name": "stderr",
     "output_type": "stream",
     "text": [
      "c:\\Users\\JohnvanOsta\\Documents\\GitHub\\ml4rt\\.venv\\Lib\\site-packages\\h2o\\frame.py:1979: H2ODependencyWarning: converting H2O frame to pandas dataframe using single-thread.  For faster conversion using multi-thread, install datatable (for Python 3.9 or lower), or polars and pyarrow (for Python 3.10 or above).\n",
      "  warnings.warn(\"converting H2O frame to pandas dataframe using single-thread.  For faster conversion using\"\n"
     ]
    },
    {
     "name": "stdout",
     "output_type": "stream",
     "text": [
      "████████████████████████████████████████████████████████████████| (done) 100%\n",
      "AutoML progress: |\n",
      "21:49:09.716: AutoML: XGBoost is not available; skipping it.\n",
      "\n",
      "███████████████████████████████████████████████████████████████| (done) 100%\n",
      "model_id                                                   mae     rmse     mse    rmsle    mean_residual_deviance\n",
      "XRT_1_AutoML_16_20240326_214909                        306.771  457.022  208869      nan                    208869\n",
      "GBM_3_AutoML_16_20240326_214909                        308.98   441.022  194500      nan                    194500\n",
      "GBM_grid_1_AutoML_16_20240326_214909_model_1           309.401  437.793  191662      nan                    191662\n",
      "DRF_1_AutoML_16_20240326_214909                        309.562  458.828  210523      nan                    210523\n",
      "GBM_5_AutoML_16_20240326_214909                        310.408  460.031  211628      nan                    211628\n",
      "GBM_4_AutoML_16_20240326_214909                        311.159  444.495  197576      nan                    197576\n",
      "GBM_grid_1_AutoML_16_20240326_214909_model_4           312.57   459.485  211127      nan                    211127\n",
      "GBM_2_AutoML_16_20240326_214909                        314.453  445.56   198523      nan                    198523\n",
      "GBM_grid_1_AutoML_16_20240326_214909_model_3           314.672  459.838  211451      nan                    211451\n",
      "DeepLearning_grid_2_AutoML_16_20240326_214909_model_1  315.152  448.293  200967      nan                    200967\n",
      "[17 rows x 6 columns]\n",
      "\n",
      "Parse progress: |████████████████████████████████████████████████████████████████| (done) 100%\n",
      "drf prediction progress: |███████████████████████████████████████████████████████| (done) 100%\n",
      "Mean error (+/-SE) = 343.26667254843426 (+/- 19.8780936854717)\n",
      "Parse progress: |"
     ]
    },
    {
     "name": "stderr",
     "output_type": "stream",
     "text": [
      "c:\\Users\\JohnvanOsta\\Documents\\GitHub\\ml4rt\\.venv\\Lib\\site-packages\\h2o\\frame.py:1979: H2ODependencyWarning: converting H2O frame to pandas dataframe using single-thread.  For faster conversion using multi-thread, install datatable (for Python 3.9 or lower), or polars and pyarrow (for Python 3.10 or above).\n",
      "  warnings.warn(\"converting H2O frame to pandas dataframe using single-thread.  For faster conversion using\"\n"
     ]
    },
    {
     "name": "stdout",
     "output_type": "stream",
     "text": [
      "████████████████████████████████████████████████████████████████| (done) 100%\n",
      "AutoML progress: |\n",
      "21:54:11.613: AutoML: XGBoost is not available; skipping it.\n",
      "\n",
      "███████████████████████████████████████████████████████████████| (done) 100%\n",
      "model_id                                                   mae     rmse     mse    rmsle    mean_residual_deviance\n",
      "GBM_grid_1_AutoML_17_20240326_215411_model_4           263.129  369.337  136410      nan                    136410\n",
      "GBM_5_AutoML_17_20240326_215411                        265.598  373.883  139788      nan                    139788\n",
      "GBM_grid_1_AutoML_17_20240326_215411_model_1           265.891  367.621  135145      nan                    135145\n",
      "DRF_1_AutoML_17_20240326_215411                        267.546  380.512  144790      nan                    144790\n",
      "GBM_grid_1_AutoML_17_20240326_215411_model_3           268.256  376.048  141412      nan                    141412\n",
      "GBM_2_AutoML_17_20240326_215411                        270.048  370.327  137142      nan                    137142\n",
      "GBM_3_AutoML_17_20240326_215411                        270.712  376.09   141444      nan                    141444\n",
      "XRT_1_AutoML_17_20240326_215411                        270.969  383.831  147326      nan                    147326\n",
      "DeepLearning_grid_2_AutoML_17_20240326_215411_model_1  271.938  367.72   135218      nan                    135218\n",
      "GBM_4_AutoML_17_20240326_215411                        274.051  378.568  143314      nan                    143314\n",
      "[17 rows x 6 columns]\n",
      "\n",
      "Parse progress: |████████████████████████████████████████████████████████████████| (done) 100%\n",
      "gbm prediction progress: |███████████████████████████████████████████████████████| (done) 100%\n",
      "Parse progress: |"
     ]
    },
    {
     "name": "stderr",
     "output_type": "stream",
     "text": [
      "c:\\Users\\JohnvanOsta\\Documents\\GitHub\\ml4rt\\.venv\\Lib\\site-packages\\h2o\\frame.py:1979: H2ODependencyWarning: converting H2O frame to pandas dataframe using single-thread.  For faster conversion using multi-thread, install datatable (for Python 3.9 or lower), or polars and pyarrow (for Python 3.10 or above).\n",
      "  warnings.warn(\"converting H2O frame to pandas dataframe using single-thread.  For faster conversion using\"\n"
     ]
    },
    {
     "name": "stdout",
     "output_type": "stream",
     "text": [
      "████████████████████████████████████████████████████████████████| (done) 100%\n",
      "AutoML progress: |\n",
      "21:59:12.767: AutoML: XGBoost is not available; skipping it.\n",
      "\n",
      "███████████████████████████████████████████████████████████████| (done) 100%\n",
      "model_id                                                   mae     rmse     mse    rmsle    mean_residual_deviance\n",
      "GBM_grid_1_AutoML_18_20240326_215912_model_4           285.953  420.076  176464      nan                    176464\n",
      "DeepLearning_grid_2_AutoML_18_20240326_215912_model_1  294.977  448.22   200901      nan                    200901\n",
      "GBM_2_AutoML_18_20240326_215912                        295.054  426.765  182128      nan                    182128\n",
      "GBM_4_AutoML_18_20240326_215912                        295.733  427.816  183026      nan                    183026\n",
      "GBM_3_AutoML_18_20240326_215912                        297.204  430.656  185465      nan                    185465\n",
      "GBM_5_AutoML_18_20240326_215912                        297.729  436.857  190844      nan                    190844\n",
      "DRF_1_AutoML_18_20240326_215912                        298.298  446.897  199717      nan                    199717\n",
      "XRT_1_AutoML_18_20240326_215912                        301.98   449.24   201817      nan                    201817\n",
      "GBM_grid_1_AutoML_18_20240326_215912_model_1           302.766  432.823  187335      nan                    187335\n",
      "GBM_grid_1_AutoML_18_20240326_215912_model_5           305.327  423.873  179668      nan                    179668\n",
      "[17 rows x 6 columns]\n",
      "\n",
      "Parse progress: |████████████████████████████████████████████████████████████████| (done) 100%\n",
      "gbm prediction progress: |███████████████████████████████████████████████████████| (done) 100%\n",
      "Mean error (+/-SE) = 343.26441627404415 (+/- 20.915747894349675)\n",
      "Parse progress: |"
     ]
    },
    {
     "name": "stderr",
     "output_type": "stream",
     "text": [
      "c:\\Users\\JohnvanOsta\\Documents\\GitHub\\ml4rt\\.venv\\Lib\\site-packages\\h2o\\frame.py:1979: H2ODependencyWarning: converting H2O frame to pandas dataframe using single-thread.  For faster conversion using multi-thread, install datatable (for Python 3.9 or lower), or polars and pyarrow (for Python 3.10 or above).\n",
      "  warnings.warn(\"converting H2O frame to pandas dataframe using single-thread.  For faster conversion using\"\n"
     ]
    },
    {
     "name": "stdout",
     "output_type": "stream",
     "text": [
      "████████████████████████████████████████████████████████████████| (done) 100%\n",
      "AutoML progress: |\n",
      "22:04:14.464: AutoML: XGBoost is not available; skipping it.\n",
      "\n",
      "███████████████████████████████████████████████████████████████| (done) 100%\n",
      "model_id                                                   mae     rmse     mse    rmsle    mean_residual_deviance\n",
      "GBM_3_AutoML_19_20240326_220414                        278.507  413.378  170882      nan                    170882\n",
      "GBM_2_AutoML_19_20240326_220414                        280.037  410      168100      nan                    168100\n",
      "GBM_5_AutoML_19_20240326_220414                        280.674  412.871  170462      nan                    170462\n",
      "XRT_1_AutoML_19_20240326_220414                        281.882  416.751  173681      nan                    173681\n",
      "DRF_1_AutoML_19_20240326_220414                        281.98   423.026  178951      nan                    178951\n",
      "GBM_grid_1_AutoML_19_20240326_220414_model_4           282.077  410.004  168103      nan                    168103\n",
      "GBM_grid_1_AutoML_19_20240326_220414_model_1           282.471  411.099  169003      nan                    169003\n",
      "GBM_4_AutoML_19_20240326_220414                        284.59   415.393  172552      nan                    172552\n",
      "GBM_grid_1_AutoML_19_20240326_220414_model_3           289.064  424.76   180421      nan                    180421\n",
      "DeepLearning_grid_1_AutoML_19_20240326_220414_model_1  294.72   422.471  178482      nan                    178482\n",
      "[17 rows x 6 columns]\n",
      "\n",
      "Parse progress: |████████████████████████████████████████████████████████████████| (done) 100%\n",
      "gbm prediction progress: |███████████████████████████████████████████████████████| (done) 100%\n",
      "Parse progress: |"
     ]
    },
    {
     "name": "stderr",
     "output_type": "stream",
     "text": [
      "c:\\Users\\JohnvanOsta\\Documents\\GitHub\\ml4rt\\.venv\\Lib\\site-packages\\h2o\\frame.py:1979: H2ODependencyWarning: converting H2O frame to pandas dataframe using single-thread.  For faster conversion using multi-thread, install datatable (for Python 3.9 or lower), or polars and pyarrow (for Python 3.10 or above).\n",
      "  warnings.warn(\"converting H2O frame to pandas dataframe using single-thread.  For faster conversion using\"\n"
     ]
    },
    {
     "name": "stdout",
     "output_type": "stream",
     "text": [
      "████████████████████████████████████████████████████████████████| (done) 100%\n",
      "AutoML progress: |\n",
      "22:09:15.803: AutoML: XGBoost is not available; skipping it.\n",
      "\n",
      "███████████████████████████████████████████████████████████████| (done) 100%\n",
      "model_id                                                   mae     rmse     mse    rmsle    mean_residual_deviance\n",
      "GBM_5_AutoML_20_20240326_220915                        296.032  427.408  182678      nan                    182678\n",
      "GBM_grid_1_AutoML_20_20240326_220915_model_4           297.466  427.701  182928      nan                    182928\n",
      "DRF_1_AutoML_20_20240326_220915                        303.803  435.247  189440      nan                    189440\n",
      "GBM_3_AutoML_20_20240326_220915                        305.022  434.646  188917      nan                    188917\n",
      "GBM_4_AutoML_20_20240326_220915                        307.032  439.761  193390      nan                    193390\n",
      "GBM_2_AutoML_20_20240326_220915                        307.284  438.12   191949      nan                    191949\n",
      "XRT_1_AutoML_20_20240326_220915                        309.623  445.796  198734      nan                    198734\n",
      "GBM_grid_1_AutoML_20_20240326_220915_model_1           310.129  436.526  190555      nan                    190555\n",
      "DeepLearning_grid_2_AutoML_20_20240326_220915_model_1  310.19   455.188  207196      nan                    207196\n",
      "GBM_grid_1_AutoML_20_20240326_220915_model_3           315.999  441.674  195076      nan                    195076\n",
      "[17 rows x 6 columns]\n",
      "\n",
      "Parse progress: |████████████████████████████████████████████████████████████████| (done) 100%\n",
      "gbm prediction progress: |███████████████████████████████████████████████████████| (done) 100%\n",
      "Mean error (+/-SE) = 344.095121450464 (+/- 19.901973002930408)\n",
      "Parse progress: |"
     ]
    },
    {
     "name": "stderr",
     "output_type": "stream",
     "text": [
      "c:\\Users\\JohnvanOsta\\Documents\\GitHub\\ml4rt\\.venv\\Lib\\site-packages\\h2o\\frame.py:1979: H2ODependencyWarning: converting H2O frame to pandas dataframe using single-thread.  For faster conversion using multi-thread, install datatable (for Python 3.9 or lower), or polars and pyarrow (for Python 3.10 or above).\n",
      "  warnings.warn(\"converting H2O frame to pandas dataframe using single-thread.  For faster conversion using\"\n"
     ]
    },
    {
     "name": "stdout",
     "output_type": "stream",
     "text": [
      "████████████████████████████████████████████████████████████████| (done) 100%\n",
      "AutoML progress: |\n",
      "22:14:17.654: AutoML: XGBoost is not available; skipping it.\n",
      "\n",
      "███████████████████████████████████████████████████████████████| (done) 100%\n",
      "model_id                                                   mae     rmse     mse    rmsle    mean_residual_deviance\n",
      "DRF_1_AutoML_21_20240326_221417                        295.973  465.58   216765      nan                    216765\n",
      "XRT_1_AutoML_21_20240326_221417                        296.007  467.752  218792      nan                    218792\n",
      "GBM_grid_1_AutoML_21_20240326_221417_model_4           296.009  460.789  212327      nan                    212327\n",
      "GBM_5_AutoML_21_20240326_221417                        296.429  468.815  219788      nan                    219788\n",
      "GBM_grid_1_AutoML_21_20240326_221417_model_1           296.78   465.033  216256      nan                    216256\n",
      "GBM_grid_1_AutoML_21_20240326_221417_model_3           299.966  477.773  228267      nan                    228267\n",
      "GBM_2_AutoML_21_20240326_221417                        309.482  478.157  228634      nan                    228634\n",
      "GBM_3_AutoML_21_20240326_221417                        309.506  477.519  228024      nan                    228024\n",
      "DeepLearning_grid_1_AutoML_21_20240326_221417_model_1  310.105  462.782  214167      nan                    214167\n",
      "GBM_4_AutoML_21_20240326_221417                        312.489  479.986  230387      nan                    230387\n",
      "[17 rows x 6 columns]\n",
      "\n",
      "Parse progress: |████████████████████████████████████████████████████████████████| (done) 100%\n",
      "drf prediction progress: |███████████████████████████████████████████████████████| (done) 100%\n",
      "Parse progress: |"
     ]
    },
    {
     "name": "stderr",
     "output_type": "stream",
     "text": [
      "c:\\Users\\JohnvanOsta\\Documents\\GitHub\\ml4rt\\.venv\\Lib\\site-packages\\h2o\\frame.py:1979: H2ODependencyWarning: converting H2O frame to pandas dataframe using single-thread.  For faster conversion using multi-thread, install datatable (for Python 3.9 or lower), or polars and pyarrow (for Python 3.10 or above).\n",
      "  warnings.warn(\"converting H2O frame to pandas dataframe using single-thread.  For faster conversion using\"\n"
     ]
    },
    {
     "name": "stdout",
     "output_type": "stream",
     "text": [
      "████████████████████████████████████████████████████████████████| (done) 100%\n",
      "AutoML progress: |\n",
      "22:19:19.981: AutoML: XGBoost is not available; skipping it.\n",
      "\n",
      "███████████████████████████████████████████████████████████████| (done) 100%\n",
      "model_id                                          mae     rmse     mse    rmsle    mean_residual_deviance\n",
      "GBM_grid_1_AutoML_22_20240326_221919_model_4  281.257  438.112  191942      nan                    191942\n",
      "GBM_5_AutoML_22_20240326_221919               281.383  437.575  191472      nan                    191472\n",
      "XRT_1_AutoML_22_20240326_221919               285.748  449.321  201890      nan                    201890\n",
      "GBM_3_AutoML_22_20240326_221919               289.026  443.753  196917      nan                    196917\n",
      "GBM_4_AutoML_22_20240326_221919               290.29   445.311  198302      nan                    198302\n",
      "GBM_grid_1_AutoML_22_20240326_221919_model_1  290.44   440.789  194295      nan                    194295\n",
      "GBM_2_AutoML_22_20240326_221919               290.608  447.061  199864      nan                    199864\n",
      "DRF_1_AutoML_22_20240326_221919               291.382  457.111  208951      nan                    208951\n",
      "GBM_grid_1_AutoML_22_20240326_221919_model_3  295.041  453.545  205703      nan                    205703\n",
      "GBM_grid_1_AutoML_22_20240326_221919_model_5  297.489  444.648  197712      nan                    197712\n",
      "[16 rows x 6 columns]\n",
      "\n",
      "Parse progress: |████████████████████████████████████████████████████████████████| (done) 100%\n",
      "gbm prediction progress: |███████████████████████████████████████████████████████| (done) 100%\n",
      "Mean error (+/-SE) = 326.4245079898928 (+/- 17.463076710361438)\n",
      "Parse progress: |"
     ]
    },
    {
     "name": "stderr",
     "output_type": "stream",
     "text": [
      "c:\\Users\\JohnvanOsta\\Documents\\GitHub\\ml4rt\\.venv\\Lib\\site-packages\\h2o\\frame.py:1979: H2ODependencyWarning: converting H2O frame to pandas dataframe using single-thread.  For faster conversion using multi-thread, install datatable (for Python 3.9 or lower), or polars and pyarrow (for Python 3.10 or above).\n",
      "  warnings.warn(\"converting H2O frame to pandas dataframe using single-thread.  For faster conversion using\"\n"
     ]
    },
    {
     "name": "stdout",
     "output_type": "stream",
     "text": [
      "████████████████████████████████████████████████████████████████| (done) 100%\n",
      "AutoML progress: |\n",
      "22:24:21.696: AutoML: XGBoost is not available; skipping it.\n",
      "\n",
      "███████████████████████████████████████████████████████████████| (done) 100%\n",
      "model_id                                          mae     rmse     mse    rmsle    mean_residual_deviance\n",
      "GBM_grid_1_AutoML_23_20240326_222421_model_4  304.21   409.646  167810      nan                    167810\n",
      "XRT_1_AutoML_23_20240326_222421               307.526  421.433  177606      nan                    177606\n",
      "GBM_grid_1_AutoML_23_20240326_222421_model_1  307.948  415.83   172914      nan                    172914\n",
      "GBM_5_AutoML_23_20240326_222421               308.378  418.718  175325      nan                    175325\n",
      "DRF_1_AutoML_23_20240326_222421               310.974  424.663  180339      nan                    180339\n",
      "GBM_grid_1_AutoML_23_20240326_222421_model_3  316.08   431.159  185898      nan                    185898\n",
      "GBM_2_AutoML_23_20240326_222421               316.151  421.488  177652      nan                    177652\n",
      "GBM_4_AutoML_23_20240326_222421               320.533  424.797  180453      nan                    180453\n",
      "GBM_3_AutoML_23_20240326_222421               321.163  423.464  179322      nan                    179322\n",
      "GBM_grid_1_AutoML_23_20240326_222421_model_5  327.724  435.069  189285      nan                    189285\n",
      "[16 rows x 6 columns]\n",
      "\n",
      "Parse progress: |████████████████████████████████████████████████████████████████| (done) 100%\n",
      "gbm prediction progress: |███████████████████████████████████████████████████████| (done) 100%\n",
      "Parse progress: |"
     ]
    },
    {
     "name": "stderr",
     "output_type": "stream",
     "text": [
      "c:\\Users\\JohnvanOsta\\Documents\\GitHub\\ml4rt\\.venv\\Lib\\site-packages\\h2o\\frame.py:1979: H2ODependencyWarning: converting H2O frame to pandas dataframe using single-thread.  For faster conversion using multi-thread, install datatable (for Python 3.9 or lower), or polars and pyarrow (for Python 3.10 or above).\n",
      "  warnings.warn(\"converting H2O frame to pandas dataframe using single-thread.  For faster conversion using\"\n"
     ]
    },
    {
     "name": "stdout",
     "output_type": "stream",
     "text": [
      "████████████████████████████████████████████████████████████████| (done) 100%\n",
      "AutoML progress: |\n",
      "22:29:22.838: AutoML: XGBoost is not available; skipping it.\n",
      "\n",
      "███████████████████████████████████████████████████████████████| (done) 100%\n",
      "model_id                                                   mae     rmse     mse    rmsle    mean_residual_deviance\n",
      "GBM_grid_1_AutoML_24_20240326_222922_model_4           280.5    391.996  153661      nan                    153661\n",
      "GBM_5_AutoML_24_20240326_222922                        281.682  395.794  156653      nan                    156653\n",
      "GBM_4_AutoML_24_20240326_222922                        283.289  391.637  153379      nan                    153379\n",
      "GBM_3_AutoML_24_20240326_222922                        283.793  395.39   156333      nan                    156333\n",
      "GBM_grid_1_AutoML_24_20240326_222922_model_5           284.611  390.489  152482      nan                    152482\n",
      "GBM_2_AutoML_24_20240326_222922                        284.987  396.483  157199      nan                    157199\n",
      "GBM_grid_1_AutoML_24_20240326_222922_model_1           286.816  394.393  155546      nan                    155546\n",
      "DeepLearning_grid_1_AutoML_24_20240326_222922_model_1  289.386  402.037  161634      nan                    161634\n",
      "XRT_1_AutoML_24_20240326_222922                        289.837  413.867  171286      nan                    171286\n",
      "GBM_grid_1_AutoML_24_20240326_222922_model_2           291.021  396.596  157288      nan                    157288\n",
      "[16 rows x 6 columns]\n",
      "\n",
      "Parse progress: |████████████████████████████████████████████████████████████████| (done) 100%\n",
      "gbm prediction progress: |███████████████████████████████████████████████████████| (done) 100%\n",
      "Mean error (+/-SE) = 316.7018443612458 (+/- 17.8194490426761)\n",
      "Parse progress: |"
     ]
    },
    {
     "name": "stderr",
     "output_type": "stream",
     "text": [
      "c:\\Users\\JohnvanOsta\\Documents\\GitHub\\ml4rt\\.venv\\Lib\\site-packages\\h2o\\frame.py:1979: H2ODependencyWarning: converting H2O frame to pandas dataframe using single-thread.  For faster conversion using multi-thread, install datatable (for Python 3.9 or lower), or polars and pyarrow (for Python 3.10 or above).\n",
      "  warnings.warn(\"converting H2O frame to pandas dataframe using single-thread.  For faster conversion using\"\n"
     ]
    },
    {
     "name": "stdout",
     "output_type": "stream",
     "text": [
      "████████████████████████████████████████████████████████████████| (done) 100%\n",
      "AutoML progress: |\n",
      "22:34:23.978: AutoML: XGBoost is not available; skipping it.\n",
      "\n",
      "███████████████████████████████████████████████████████████████| (done) 100%\n",
      "model_id                                                   mae     rmse     mse    rmsle    mean_residual_deviance\n",
      "GBM_grid_1_AutoML_25_20240326_223423_model_4           278.555  400.819  160656      nan                    160656\n",
      "GBM_grid_1_AutoML_25_20240326_223423_model_1           286.371  408.14   166578      nan                    166578\n",
      "GBM_5_AutoML_25_20240326_223423                        287.906  411.907  169667      nan                    169667\n",
      "GBM_2_AutoML_25_20240326_223423                        290.409  411.899  169661      nan                    169661\n",
      "GBM_4_AutoML_25_20240326_223423                        290.847  411.416  169263      nan                    169263\n",
      "DRF_1_AutoML_25_20240326_223423                        291.574  426.233  181675      nan                    181675\n",
      "GBM_3_AutoML_25_20240326_223423                        292.329  415.613  172734      nan                    172734\n",
      "DeepLearning_grid_1_AutoML_25_20240326_223423_model_1  294.387  422.932  178871      nan                    178871\n",
      "XRT_1_AutoML_25_20240326_223423                        295.608  426.299  181731      nan                    181731\n",
      "GBM_grid_1_AutoML_25_20240326_223423_model_5           297.013  419.151  175687      nan                    175687\n",
      "[16 rows x 6 columns]\n",
      "\n",
      "Parse progress: |████████████████████████████████████████████████████████████████| (done) 100%\n",
      "gbm prediction progress: |███████████████████████████████████████████████████████| (done) 100%\n",
      "Parse progress: |"
     ]
    },
    {
     "name": "stderr",
     "output_type": "stream",
     "text": [
      "c:\\Users\\JohnvanOsta\\Documents\\GitHub\\ml4rt\\.venv\\Lib\\site-packages\\h2o\\frame.py:1979: H2ODependencyWarning: converting H2O frame to pandas dataframe using single-thread.  For faster conversion using multi-thread, install datatable (for Python 3.9 or lower), or polars and pyarrow (for Python 3.10 or above).\n",
      "  warnings.warn(\"converting H2O frame to pandas dataframe using single-thread.  For faster conversion using\"\n"
     ]
    },
    {
     "name": "stdout",
     "output_type": "stream",
     "text": [
      "████████████████████████████████████████████████████████████████| (done) 100%\n",
      "AutoML progress: |\n",
      "22:39:25.658: AutoML: XGBoost is not available; skipping it.\n",
      "\n",
      "███████████████████████████████████████████████████████████████| (done) 100%\n",
      "model_id                                                   mae     rmse     mse    rmsle    mean_residual_deviance\n",
      "GBM_5_AutoML_26_20240326_223925                        290.065  419.801  176233      nan                    176233\n",
      "GBM_2_AutoML_26_20240326_223925                        290.308  422.063  178137      nan                    178137\n",
      "GBM_grid_1_AutoML_26_20240326_223925_model_4           290.614  422.528  178530      nan                    178530\n",
      "GBM_4_AutoML_26_20240326_223925                        290.738  422.128  178192      nan                    178192\n",
      "GBM_3_AutoML_26_20240326_223925                        291.481  421.333  177521      nan                    177521\n",
      "DeepLearning_grid_2_AutoML_26_20240326_223925_model_1  293.709  432.679  187211      nan                    187211\n",
      "DRF_1_AutoML_26_20240326_223925                        293.851  439.385  193059      nan                    193059\n",
      "GBM_grid_1_AutoML_26_20240326_223925_model_1           293.854  424.928  180563      nan                    180563\n",
      "XRT_1_AutoML_26_20240326_223925                        296.229  441.771  195162      nan                    195162\n",
      "GBM_grid_1_AutoML_26_20240326_223925_model_5           297.302  422.852  178804      nan                    178804\n",
      "[17 rows x 6 columns]\n",
      "\n",
      "Parse progress: |████████████████████████████████████████████████████████████████| (done) 100%\n",
      "gbm prediction progress: |███████████████████████████████████████████████████████| (done) 100%\n",
      "Mean error (+/-SE) = 347.4197595136282 (+/- 20.47184996124799)\n",
      "Parse progress: |"
     ]
    },
    {
     "name": "stderr",
     "output_type": "stream",
     "text": [
      "c:\\Users\\JohnvanOsta\\Documents\\GitHub\\ml4rt\\.venv\\Lib\\site-packages\\h2o\\frame.py:1979: H2ODependencyWarning: converting H2O frame to pandas dataframe using single-thread.  For faster conversion using multi-thread, install datatable (for Python 3.9 or lower), or polars and pyarrow (for Python 3.10 or above).\n",
      "  warnings.warn(\"converting H2O frame to pandas dataframe using single-thread.  For faster conversion using\"\n"
     ]
    },
    {
     "name": "stdout",
     "output_type": "stream",
     "text": [
      "████████████████████████████████████████████████████████████████| (done) 100%\n",
      "AutoML progress: |\n",
      "22:44:26.780: AutoML: XGBoost is not available; skipping it.\n",
      "\n",
      "███████████████████████████████████████████████████████████████| (done) 100%\n",
      "model_id                                                   mae     rmse     mse    rmsle    mean_residual_deviance\n",
      "GBM_grid_1_AutoML_27_20240326_224426_model_4           243.743  369.375  136438      nan                    136438\n",
      "GBM_2_AutoML_27_20240326_224426                        244.878  368.763  135986      nan                    135986\n",
      "GBM_grid_1_AutoML_27_20240326_224426_model_1           245.065  369.838  136780      nan                    136780\n",
      "GBM_3_AutoML_27_20240326_224426                        245.566  369.138  136263      nan                    136263\n",
      "GBM_5_AutoML_27_20240326_224426                        247.095  378.653  143378      nan                    143378\n",
      "GBM_4_AutoML_27_20240326_224426                        247.935  369.379  136441      nan                    136441\n",
      "GBM_grid_1_AutoML_27_20240326_224426_model_5           247.938  366.5    134322      nan                    134322\n",
      "DeepLearning_grid_1_AutoML_27_20240326_224426_model_1  254.626  364.206  132646      nan                    132646\n",
      "GBM_grid_1_AutoML_27_20240326_224426_model_3           256.751  389.422  151650      nan                    151650\n",
      "XRT_1_AutoML_27_20240326_224426                        257.375  396.864  157501      nan                    157501\n",
      "[16 rows x 6 columns]\n",
      "\n",
      "Parse progress: |████████████████████████████████████████████████████████████████| (done) 100%\n",
      "gbm prediction progress: |███████████████████████████████████████████████████████| (done) 100%\n",
      "Parse progress: |"
     ]
    },
    {
     "name": "stderr",
     "output_type": "stream",
     "text": [
      "c:\\Users\\JohnvanOsta\\Documents\\GitHub\\ml4rt\\.venv\\Lib\\site-packages\\h2o\\frame.py:1979: H2ODependencyWarning: converting H2O frame to pandas dataframe using single-thread.  For faster conversion using multi-thread, install datatable (for Python 3.9 or lower), or polars and pyarrow (for Python 3.10 or above).\n",
      "  warnings.warn(\"converting H2O frame to pandas dataframe using single-thread.  For faster conversion using\"\n"
     ]
    },
    {
     "name": "stdout",
     "output_type": "stream",
     "text": [
      "████████████████████████████████████████████████████████████████| (done) 100%\n",
      "AutoML progress: |\n",
      "22:49:28.809: AutoML: XGBoost is not available; skipping it.\n",
      "\n",
      "███████████████████████████████████████████████████████████████| (done) 100%\n",
      "model_id                                          mae     rmse     mse    rmsle    mean_residual_deviance\n",
      "GBM_2_AutoML_28_20240326_224928               274.434  394.322  155490      nan                    155490\n",
      "GBM_grid_1_AutoML_28_20240326_224928_model_4  275.113  396.826  157471      nan                    157471\n",
      "DRF_1_AutoML_28_20240326_224928               276.963  400.098  160078      nan                    160078\n",
      "GBM_5_AutoML_28_20240326_224928               277.374  400.97   160777      nan                    160777\n",
      "XRT_1_AutoML_28_20240326_224928               277.873  407.12   165746      nan                    165746\n",
      "GBM_3_AutoML_28_20240326_224928               278.669  403.176  162551      nan                    162551\n",
      "GBM_4_AutoML_28_20240326_224928               279.439  402.121  161701      nan                    161701\n",
      "GBM_grid_1_AutoML_28_20240326_224928_model_1  284.924  405.981  164821      nan                    164821\n",
      "GBM_grid_1_AutoML_28_20240326_224928_model_5  284.927  407.146  165768      nan                    165768\n",
      "GBM_grid_1_AutoML_28_20240326_224928_model_2  286.825  405.879  164738      nan                    164738\n",
      "[16 rows x 6 columns]\n",
      "\n",
      "Parse progress: |████████████████████████████████████████████████████████████████| (done) 100%\n",
      "gbm prediction progress: |███████████████████████████████████████████████████████| (done) 100%\n",
      "Mean error (+/-SE) = 350.2748454294376 (+/- 22.814120057782468)\n",
      "Parse progress: |"
     ]
    },
    {
     "name": "stderr",
     "output_type": "stream",
     "text": [
      "c:\\Users\\JohnvanOsta\\Documents\\GitHub\\ml4rt\\.venv\\Lib\\site-packages\\h2o\\frame.py:1979: H2ODependencyWarning: converting H2O frame to pandas dataframe using single-thread.  For faster conversion using multi-thread, install datatable (for Python 3.9 or lower), or polars and pyarrow (for Python 3.10 or above).\n",
      "  warnings.warn(\"converting H2O frame to pandas dataframe using single-thread.  For faster conversion using\"\n"
     ]
    },
    {
     "name": "stdout",
     "output_type": "stream",
     "text": [
      "████████████████████████████████████████████████████████████████| (done) 100%\n",
      "AutoML progress: |\n",
      "22:54:30.57: AutoML: XGBoost is not available; skipping it.\n",
      "\n",
      "███████████████████████████████████████████████████████████████| (done) 100%\n",
      "model_id                                          mae     rmse     mse    rmsle    mean_residual_deviance\n",
      "GBM_grid_1_AutoML_29_20240326_225430_model_4  248.422  394.755  155832      nan                    155832\n",
      "GBM_grid_1_AutoML_29_20240326_225430_model_1  249.44   394.847  155904      nan                    155904\n",
      "GBM_5_AutoML_29_20240326_225430               250.115  395.328  156284      nan                    156284\n",
      "GBM_3_AutoML_29_20240326_225430               252.612  399.866  159893      nan                    159893\n",
      "GBM_2_AutoML_29_20240326_225430               252.842  400.483  160387      nan                    160387\n",
      "GBM_4_AutoML_29_20240326_225430               254.893  403.261  162619      nan                    162619\n",
      "XRT_1_AutoML_29_20240326_225430               255.93   413.548  171022      nan                    171022\n",
      "GBM_grid_1_AutoML_29_20240326_225430_model_3  257.405  411.026  168942      nan                    168942\n",
      "DRF_1_AutoML_29_20240326_225430               258.308  414.803  172061      nan                    172061\n",
      "GBM_grid_1_AutoML_29_20240326_225430_model_5  259.836  406.383  165147      nan                    165147\n",
      "[16 rows x 6 columns]\n",
      "\n",
      "Parse progress: |████████████████████████████████████████████████████████████████| (done) 100%\n",
      "gbm prediction progress: |███████████████████████████████████████████████████████| (done) 100%\n",
      "Parse progress: |"
     ]
    },
    {
     "name": "stderr",
     "output_type": "stream",
     "text": [
      "c:\\Users\\JohnvanOsta\\Documents\\GitHub\\ml4rt\\.venv\\Lib\\site-packages\\h2o\\frame.py:1979: H2ODependencyWarning: converting H2O frame to pandas dataframe using single-thread.  For faster conversion using multi-thread, install datatable (for Python 3.9 or lower), or polars and pyarrow (for Python 3.10 or above).\n",
      "  warnings.warn(\"converting H2O frame to pandas dataframe using single-thread.  For faster conversion using\"\n"
     ]
    },
    {
     "name": "stdout",
     "output_type": "stream",
     "text": [
      "████████████████████████████████████████████████████████████████| (done) 100%\n",
      "AutoML progress: |\n",
      "22:59:31.994: AutoML: XGBoost is not available; skipping it.\n",
      "\n",
      "███████████████████████████████████████████████████████████████| (done) 100%\n",
      "model_id                                          mae     rmse     mse    rmsle    mean_residual_deviance\n",
      "GBM_grid_1_AutoML_30_20240326_225931_model_4  267.454  406.967  165622      nan                    165622\n",
      "XRT_1_AutoML_30_20240326_225931               270.027  425.309  180887      nan                    180887\n",
      "GBM_5_AutoML_30_20240326_225931               270.198  413.17   170709      nan                    170709\n",
      "GBM_2_AutoML_30_20240326_225931               270.684  408.82   167134      nan                    167134\n",
      "GBM_grid_1_AutoML_30_20240326_225931_model_1  271.219  409.337  167557      nan                    167557\n",
      "GBM_3_AutoML_30_20240326_225931               272.81   412.258  169957      nan                    169957\n",
      "GBM_4_AutoML_30_20240326_225931               275.758  418.235  174921      nan                    174921\n",
      "GBM_grid_1_AutoML_30_20240326_225931_model_3  276.496  422.759  178725      nan                    178725\n",
      "DRF_1_AutoML_30_20240326_225931               277.714  431.565  186249      nan                    186249\n",
      "GBM_grid_1_AutoML_30_20240326_225931_model_5  281.411  417.497  174304      nan                    174304\n",
      "[16 rows x 6 columns]\n",
      "\n",
      "Parse progress: |████████████████████████████████████████████████████████████████| (done) 100%\n",
      "gbm prediction progress: |███████████████████████████████████████████████████████| (done) 100%\n",
      "Mean error (+/-SE) = 311.191613884304 (+/- 18.622362415369636)\n",
      "Parse progress: |"
     ]
    },
    {
     "name": "stderr",
     "output_type": "stream",
     "text": [
      "c:\\Users\\JohnvanOsta\\Documents\\GitHub\\ml4rt\\.venv\\Lib\\site-packages\\h2o\\frame.py:1979: H2ODependencyWarning: converting H2O frame to pandas dataframe using single-thread.  For faster conversion using multi-thread, install datatable (for Python 3.9 or lower), or polars and pyarrow (for Python 3.10 or above).\n",
      "  warnings.warn(\"converting H2O frame to pandas dataframe using single-thread.  For faster conversion using\"\n"
     ]
    },
    {
     "name": "stdout",
     "output_type": "stream",
     "text": [
      "████████████████████████████████████████████████████████████████| (done) 100%\n",
      "AutoML progress: |\n",
      "23:04:33.690: AutoML: XGBoost is not available; skipping it.\n",
      "\n",
      "███████████████████████████████████████████████████████████████| (done) 100%\n",
      "model_id                                                   mae     rmse     mse    rmsle    mean_residual_deviance\n",
      "GBM_grid_1_AutoML_31_20240326_230433_model_4           258.421  400.66   160528      nan                    160528\n",
      "GBM_2_AutoML_31_20240326_230433                        264.466  411.611  169424      nan                    169424\n",
      "DRF_1_AutoML_31_20240326_230433                        265.842  420.434  176764      nan                    176764\n",
      "GBM_grid_1_AutoML_31_20240326_230433_model_1           266.422  412.616  170252      nan                    170252\n",
      "GBM_3_AutoML_31_20240326_230433                        267.542  413.953  171357      nan                    171357\n",
      "GBM_4_AutoML_31_20240326_230433                        269.036  416.415  173402      nan                    173402\n",
      "DeepLearning_grid_1_AutoML_31_20240326_230433_model_1  269.505  407.536  166085      nan                    166085\n",
      "GBM_5_AutoML_31_20240326_230433                        269.833  417.735  174502      nan                    174502\n",
      "GBM_grid_1_AutoML_31_20240326_230433_model_3           271.272  423.902  179693      nan                    179693\n",
      "XRT_1_AutoML_31_20240326_230433                        271.488  425.521  181068      nan                    181068\n",
      "[16 rows x 6 columns]\n",
      "\n",
      "Parse progress: |████████████████████████████████████████████████████████████████| (done) 100%\n",
      "gbm prediction progress: |███████████████████████████████████████████████████████| (done) 100%\n",
      "Parse progress: |"
     ]
    },
    {
     "name": "stderr",
     "output_type": "stream",
     "text": [
      "c:\\Users\\JohnvanOsta\\Documents\\GitHub\\ml4rt\\.venv\\Lib\\site-packages\\h2o\\frame.py:1979: H2ODependencyWarning: converting H2O frame to pandas dataframe using single-thread.  For faster conversion using multi-thread, install datatable (for Python 3.9 or lower), or polars and pyarrow (for Python 3.10 or above).\n",
      "  warnings.warn(\"converting H2O frame to pandas dataframe using single-thread.  For faster conversion using\"\n"
     ]
    },
    {
     "name": "stdout",
     "output_type": "stream",
     "text": [
      "████████████████████████████████████████████████████████████████| (done) 100%\n",
      "AutoML progress: |\n",
      "23:09:34.767: AutoML: XGBoost is not available; skipping it.\n",
      "\n",
      "███████████████████████████████████████████████████████████████| (done) 100%\n",
      "model_id                                                   mae     rmse     mse    rmsle    mean_residual_deviance\n",
      "GBM_5_AutoML_32_20240326_230934                        297.206  448.966  201571      nan                    201571\n",
      "GBM_grid_1_AutoML_32_20240326_230934_model_4           302.743  454.293  206382      nan                    206382\n",
      "GBM_2_AutoML_32_20240326_230934                        308.11   458.355  210089      nan                    210089\n",
      "DRF_1_AutoML_32_20240326_230934                        309.064  468.491  219484      nan                    219484\n",
      "XRT_1_AutoML_32_20240326_230934                        309.332  469.585  220510      nan                    220510\n",
      "GBM_3_AutoML_32_20240326_230934                        310.164  456.583  208468      nan                    208468\n",
      "GBM_grid_1_AutoML_32_20240326_230934_model_3           310.478  464.358  215629      nan                    215629\n",
      "GBM_4_AutoML_32_20240326_230934                        313.115  462.394  213808      nan                    213808\n",
      "GBM_grid_1_AutoML_32_20240326_230934_model_1           314.149  461.374  212866      nan                    212866\n",
      "DeepLearning_grid_2_AutoML_32_20240326_230934_model_1  314.712  468.21   219220      nan                    219220\n",
      "[17 rows x 6 columns]\n",
      "\n",
      "Parse progress: |████████████████████████████████████████████████████████████████| (done) 100%\n",
      "gbm prediction progress: |███████████████████████████████████████████████████████| (done) 100%\n",
      "Mean error (+/-SE) = 332.8202679372767 (+/- 20.463120467835086)\n",
      "Parse progress: |"
     ]
    },
    {
     "name": "stderr",
     "output_type": "stream",
     "text": [
      "c:\\Users\\JohnvanOsta\\Documents\\GitHub\\ml4rt\\.venv\\Lib\\site-packages\\h2o\\frame.py:1979: H2ODependencyWarning: converting H2O frame to pandas dataframe using single-thread.  For faster conversion using multi-thread, install datatable (for Python 3.9 or lower), or polars and pyarrow (for Python 3.10 or above).\n",
      "  warnings.warn(\"converting H2O frame to pandas dataframe using single-thread.  For faster conversion using\"\n"
     ]
    },
    {
     "name": "stdout",
     "output_type": "stream",
     "text": [
      "████████████████████████████████████████████████████████████████| (done) 100%\n",
      "AutoML progress: |\n",
      "23:14:36.307: AutoML: XGBoost is not available; skipping it.\n",
      "\n",
      "███████████████████████████████████████████████████████████████| (done) 100%\n",
      "model_id                                          mae     rmse     mse    rmsle    mean_residual_deviance\n",
      "GBM_grid_1_AutoML_33_20240326_231436_model_1  299.738  472.865  223601      nan                    223601\n",
      "GBM_2_AutoML_33_20240326_231436               299.75   473.386  224095      nan                    224095\n",
      "XRT_1_AutoML_33_20240326_231436               299.807  487.337  237498      nan                    237498\n",
      "GBM_3_AutoML_33_20240326_231436               299.843  477.821  228313      nan                    228313\n",
      "GBM_grid_1_AutoML_33_20240326_231436_model_4  299.868  482.429  232738      nan                    232738\n",
      "GBM_4_AutoML_33_20240326_231436               300.682  472.884  223619      nan                    223619\n",
      "GBM_grid_1_AutoML_33_20240326_231436_model_3  302.137  479.766  230175      nan                    230175\n",
      "GBM_5_AutoML_33_20240326_231436               302.392  483.324  233602      nan                    233602\n",
      "GBM_grid_1_AutoML_33_20240326_231436_model_5  302.638  473.702  224393      nan                    224393\n",
      "DRF_1_AutoML_33_20240326_231436               305.361  488.552  238683      nan                    238683\n",
      "[17 rows x 6 columns]\n",
      "\n",
      "Parse progress: |████████████████████████████████████████████████████████████████| (done) 100%\n",
      "gbm prediction progress: |███████████████████████████████████████████████████████| (done) 100%\n",
      "Parse progress: |"
     ]
    },
    {
     "name": "stderr",
     "output_type": "stream",
     "text": [
      "c:\\Users\\JohnvanOsta\\Documents\\GitHub\\ml4rt\\.venv\\Lib\\site-packages\\h2o\\frame.py:1979: H2ODependencyWarning: converting H2O frame to pandas dataframe using single-thread.  For faster conversion using multi-thread, install datatable (for Python 3.9 or lower), or polars and pyarrow (for Python 3.10 or above).\n",
      "  warnings.warn(\"converting H2O frame to pandas dataframe using single-thread.  For faster conversion using\"\n"
     ]
    },
    {
     "name": "stdout",
     "output_type": "stream",
     "text": [
      "████████████████████████████████████████████████████████████████| (done) 100%\n",
      "AutoML progress: |\n",
      "23:19:37.842: AutoML: XGBoost is not available; skipping it.\n",
      "\n",
      "███████████████████████████████████████████████████████████████| (done) 100%\n",
      "model_id                                          mae     rmse     mse    rmsle    mean_residual_deviance\n",
      "GBM_2_AutoML_34_20240326_231937               295.443  453.607  205759      nan                    205759\n",
      "GBM_grid_1_AutoML_34_20240326_231937_model_4  299.891  455.66   207626      nan                    207626\n",
      "GBM_4_AutoML_34_20240326_231937               300.069  458.976  210659      nan                    210659\n",
      "GBM_3_AutoML_34_20240326_231937               302.138  457.048  208893      nan                    208893\n",
      "GBM_5_AutoML_34_20240326_231937               303.491  459.467  211110      nan                    211110\n",
      "GBM_grid_1_AutoML_34_20240326_231937_model_1  304.194  454.384  206465      nan                    206465\n",
      "GBM_grid_1_AutoML_34_20240326_231937_model_5  305.789  453.067  205270      nan                    205270\n",
      "XRT_1_AutoML_34_20240326_231937               309.121  483.067  233353      nan                    233353\n",
      "GBM_grid_1_AutoML_34_20240326_231937_model_2  310.453  458.84   210534      nan                    210534\n",
      "DRF_1_AutoML_34_20240326_231937               310.801  484.813  235044      nan                    235044\n",
      "[17 rows x 6 columns]\n",
      "\n",
      "Parse progress: |████████████████████████████████████████████████████████████████| (done) 100%\n",
      "gbm prediction progress: |███████████████████████████████████████████████████████| (done) 100%\n",
      "Mean error (+/-SE) = 328.8383380949867 (+/- 18.177257661549795)\n",
      "Parse progress: |"
     ]
    },
    {
     "name": "stderr",
     "output_type": "stream",
     "text": [
      "c:\\Users\\JohnvanOsta\\Documents\\GitHub\\ml4rt\\.venv\\Lib\\site-packages\\h2o\\frame.py:1979: H2ODependencyWarning: converting H2O frame to pandas dataframe using single-thread.  For faster conversion using multi-thread, install datatable (for Python 3.9 or lower), or polars and pyarrow (for Python 3.10 or above).\n",
      "  warnings.warn(\"converting H2O frame to pandas dataframe using single-thread.  For faster conversion using\"\n"
     ]
    },
    {
     "name": "stdout",
     "output_type": "stream",
     "text": [
      "████████████████████████████████████████████████████████████████| (done) 100%\n",
      "AutoML progress: |\n",
      "23:24:38.978: AutoML: XGBoost is not available; skipping it.\n",
      "\n",
      "███████████████████████████████████████████████████████████████| (done) 100%\n",
      "model_id                                          mae     rmse     mse    rmsle    mean_residual_deviance\n",
      "GBM_grid_1_AutoML_35_20240326_232438_model_4  284.939  439.691  193328      nan                    193328\n",
      "GBM_5_AutoML_35_20240326_232438               285.323  443.523  196712      nan                    196712\n",
      "GBM_grid_1_AutoML_35_20240326_232438_model_1  288.589  440.278  193844      nan                    193844\n",
      "GBM_3_AutoML_35_20240326_232438               289.977  447.655  200395      nan                    200395\n",
      "GBM_grid_1_AutoML_35_20240326_232438_model_5  291.337  441.939  195310      nan                    195310\n",
      "GBM_2_AutoML_35_20240326_232438               291.687  448.26   200937      nan                    200937\n",
      "GBM_4_AutoML_35_20240326_232438               291.994  450.853  203269      nan                    203269\n",
      "DRF_1_AutoML_35_20240326_232438               293.188  466.566  217683      nan                    217683\n",
      "XRT_1_AutoML_35_20240326_232438               294.292  466.316  217451      nan                    217451\n",
      "GBM_grid_1_AutoML_35_20240326_232438_model_3  296.094  458.183  209932      nan                    209932\n",
      "[16 rows x 6 columns]\n",
      "\n",
      "Parse progress: |████████████████████████████████████████████████████████████████| (done) 100%\n",
      "gbm prediction progress: |███████████████████████████████████████████████████████| (done) 100%\n",
      "Parse progress: |"
     ]
    },
    {
     "name": "stderr",
     "output_type": "stream",
     "text": [
      "c:\\Users\\JohnvanOsta\\Documents\\GitHub\\ml4rt\\.venv\\Lib\\site-packages\\h2o\\frame.py:1979: H2ODependencyWarning: converting H2O frame to pandas dataframe using single-thread.  For faster conversion using multi-thread, install datatable (for Python 3.9 or lower), or polars and pyarrow (for Python 3.10 or above).\n",
      "  warnings.warn(\"converting H2O frame to pandas dataframe using single-thread.  For faster conversion using\"\n"
     ]
    },
    {
     "name": "stdout",
     "output_type": "stream",
     "text": [
      "████████████████████████████████████████████████████████████████| (done) 100%\n",
      "AutoML progress: |\n",
      "23:29:40.720: AutoML: XGBoost is not available; skipping it.\n",
      "\n",
      "███████████████████████████████████████████████████████████████| (done) 100%\n",
      "model_id                                          mae     rmse     mse    rmsle    mean_residual_deviance\n",
      "GBM_grid_1_AutoML_36_20240326_232940_model_4  271.424  413.894  171309      nan                    171309\n",
      "GBM_5_AutoML_36_20240326_232940               275.507  418.741  175344      nan                    175344\n",
      "DRF_1_AutoML_36_20240326_232940               276.763  426.813  182169      nan                    182169\n",
      "XRT_1_AutoML_36_20240326_232940               277.678  432.042  186660      nan                    186660\n",
      "GBM_2_AutoML_36_20240326_232940               278.324  420.366  176708      nan                    176708\n",
      "GBM_4_AutoML_36_20240326_232940               282.727  423.139  179046      nan                    179046\n",
      "GBM_3_AutoML_36_20240326_232940               283.108  425.363  180934      nan                    180934\n",
      "GBM_grid_1_AutoML_36_20240326_232940_model_3  284.098  425.196  180792      nan                    180792\n",
      "GBM_grid_1_AutoML_36_20240326_232940_model_1  285.855  425.309  180888      nan                    180888\n",
      "GBM_grid_1_AutoML_36_20240326_232940_model_5  296.95   431.406  186112      nan                    186112\n",
      "[16 rows x 6 columns]\n",
      "\n",
      "Parse progress: |████████████████████████████████████████████████████████████████| (done) 100%\n",
      "gbm prediction progress: |███████████████████████████████████████████████████████| (done) 100%\n",
      "Mean error (+/-SE) = 337.35847731177836 (+/- 20.68944630536911)\n",
      "Parse progress: |"
     ]
    },
    {
     "name": "stderr",
     "output_type": "stream",
     "text": [
      "c:\\Users\\JohnvanOsta\\Documents\\GitHub\\ml4rt\\.venv\\Lib\\site-packages\\h2o\\frame.py:1979: H2ODependencyWarning: converting H2O frame to pandas dataframe using single-thread.  For faster conversion using multi-thread, install datatable (for Python 3.9 or lower), or polars and pyarrow (for Python 3.10 or above).\n",
      "  warnings.warn(\"converting H2O frame to pandas dataframe using single-thread.  For faster conversion using\"\n"
     ]
    },
    {
     "name": "stdout",
     "output_type": "stream",
     "text": [
      "████████████████████████████████████████████████████████████████| (done) 100%\n",
      "AutoML progress: |\n",
      "23:34:42.269: AutoML: XGBoost is not available; skipping it.\n",
      "\n",
      "███████████████████████████████████████████████████████████████| (done) 100%\n",
      "model_id                                          mae     rmse     mse    rmsle    mean_residual_deviance\n",
      "GBM_grid_1_AutoML_37_20240326_233442_model_4  288.311  411.295  169164      nan                    169164\n",
      "GBM_5_AutoML_37_20240326_233442               292.037  418.523  175162      nan                    175162\n",
      "GBM_grid_1_AutoML_37_20240326_233442_model_3  292.043  422.886  178833      nan                    178833\n",
      "DRF_1_AutoML_37_20240326_233442               293.261  429.321  184317      nan                    184317\n",
      "GBM_grid_1_AutoML_37_20240326_233442_model_1  295.366  417.468  174280      nan                    174280\n",
      "GBM_3_AutoML_37_20240326_233442               295.621  420.508  176827      nan                    176827\n",
      "GBM_2_AutoML_37_20240326_233442               295.805  421.313  177504      nan                    177504\n",
      "XRT_1_AutoML_37_20240326_233442               296.483  431.71   186374      nan                    186374\n",
      "GBM_4_AutoML_37_20240326_233442               297.611  421.673  177808      nan                    177808\n",
      "GBM_grid_1_AutoML_37_20240326_233442_model_5  303.499  421.828  177939      nan                    177939\n",
      "[16 rows x 6 columns]\n",
      "\n",
      "Parse progress: |████████████████████████████████████████████████████████████████| (done) 100%\n",
      "gbm prediction progress: |███████████████████████████████████████████████████████| (done) 100%\n",
      "Parse progress: |"
     ]
    },
    {
     "name": "stderr",
     "output_type": "stream",
     "text": [
      "c:\\Users\\JohnvanOsta\\Documents\\GitHub\\ml4rt\\.venv\\Lib\\site-packages\\h2o\\frame.py:1979: H2ODependencyWarning: converting H2O frame to pandas dataframe using single-thread.  For faster conversion using multi-thread, install datatable (for Python 3.9 or lower), or polars and pyarrow (for Python 3.10 or above).\n",
      "  warnings.warn(\"converting H2O frame to pandas dataframe using single-thread.  For faster conversion using\"\n"
     ]
    },
    {
     "name": "stdout",
     "output_type": "stream",
     "text": [
      "████████████████████████████████████████████████████████████████| (done) 100%\n",
      "AutoML progress: |\n",
      "23:39:43.167: AutoML: XGBoost is not available; skipping it.\n",
      "\n",
      "███████████████████████████████████████████████████████████████| (done) 100%\n",
      "model_id                                          mae     rmse     mse    rmsle    mean_residual_deviance\n",
      "GBM_grid_1_AutoML_38_20240326_233943_model_4  302.011  462.474  213882      nan                    213882\n",
      "GBM_grid_1_AutoML_38_20240326_233943_model_1  309.665  464.7    215946      nan                    215946\n",
      "GBM_5_AutoML_38_20240326_233943               310.092  476.66   227204      nan                    227204\n",
      "GBM_3_AutoML_38_20240326_233943               311.798  473.349  224059      nan                    224059\n",
      "GBM_2_AutoML_38_20240326_233943               312.296  473.593  224290      nan                    224290\n",
      "GBM_4_AutoML_38_20240326_233943               313.604  471.614  222420      nan                    222420\n",
      "DRF_1_AutoML_38_20240326_233943               316.917  497.507  247514      nan                    247514\n",
      "GBM_grid_1_AutoML_38_20240326_233943_model_5  320.887  468.185  219197      nan                    219197\n",
      "GBM_grid_1_AutoML_38_20240326_233943_model_2  321.484  466.165  217309      nan                    217309\n",
      "XRT_1_AutoML_38_20240326_233943               323.063  501.965  251969      nan                    251969\n",
      "[17 rows x 6 columns]\n",
      "\n",
      "Parse progress: |████████████████████████████████████████████████████████████████| (done) 100%\n",
      "gbm prediction progress: |███████████████████████████████████████████████████████| (done) 100%\n",
      "Mean error (+/-SE) = 313.6595493511866 (+/- 17.923406480113798)\n",
      "Parse progress: |"
     ]
    },
    {
     "name": "stderr",
     "output_type": "stream",
     "text": [
      "c:\\Users\\JohnvanOsta\\Documents\\GitHub\\ml4rt\\.venv\\Lib\\site-packages\\h2o\\frame.py:1979: H2ODependencyWarning: converting H2O frame to pandas dataframe using single-thread.  For faster conversion using multi-thread, install datatable (for Python 3.9 or lower), or polars and pyarrow (for Python 3.10 or above).\n",
      "  warnings.warn(\"converting H2O frame to pandas dataframe using single-thread.  For faster conversion using\"\n"
     ]
    },
    {
     "name": "stdout",
     "output_type": "stream",
     "text": [
      "████████████████████████████████████████████████████████████████| (done) 100%\n",
      "AutoML progress: |\n",
      "23:44:44.709: AutoML: XGBoost is not available; skipping it.\n",
      "\n",
      "███████████████████████████████████████████████████████████████| (done) 100%\n",
      "model_id                                          mae     rmse     mse    rmsle    mean_residual_deviance\n",
      "GBM_grid_1_AutoML_39_20240326_234444_model_4  278.982  412.537  170186      nan                    170186\n",
      "GBM_2_AutoML_39_20240326_234444               280.017  411.004  168924      nan                    168924\n",
      "XRT_1_AutoML_39_20240326_234444               281.326  422.806  178765      nan                    178765\n",
      "GBM_3_AutoML_39_20240326_234444               281.891  412.429  170098      nan                    170098\n",
      "GBM_grid_1_AutoML_39_20240326_234444_model_1  282.028  411.312  169177      nan                    169177\n",
      "GBM_4_AutoML_39_20240326_234444               282.367  412.838  170435      nan                    170435\n",
      "GBM_5_AutoML_39_20240326_234444               282.388  415.588  172713      nan                    172713\n",
      "GBM_grid_1_AutoML_39_20240326_234444_model_3  282.813  423.719  179538      nan                    179538\n",
      "DRF_1_AutoML_39_20240326_234444               284.348  427.722  182946      nan                    182946\n",
      "GBM_grid_1_AutoML_39_20240326_234444_model_5  288.948  414.678  171958      nan                    171958\n",
      "[16 rows x 6 columns]\n",
      "\n",
      "Parse progress: |████████████████████████████████████████████████████████████████| (done) 100%\n",
      "gbm prediction progress: |███████████████████████████████████████████████████████| (done) 100%\n",
      "Parse progress: |"
     ]
    },
    {
     "name": "stderr",
     "output_type": "stream",
     "text": [
      "c:\\Users\\JohnvanOsta\\Documents\\GitHub\\ml4rt\\.venv\\Lib\\site-packages\\h2o\\frame.py:1979: H2ODependencyWarning: converting H2O frame to pandas dataframe using single-thread.  For faster conversion using multi-thread, install datatable (for Python 3.9 or lower), or polars and pyarrow (for Python 3.10 or above).\n",
      "  warnings.warn(\"converting H2O frame to pandas dataframe using single-thread.  For faster conversion using\"\n"
     ]
    },
    {
     "name": "stdout",
     "output_type": "stream",
     "text": [
      "████████████████████████████████████████████████████████████████| (done) 100%\n",
      "AutoML progress: |\n",
      "23:49:46.248: AutoML: XGBoost is not available; skipping it.\n",
      "\n",
      "███████████████████████████████████████████████████████████████| (done) 100%\n",
      "model_id                                          mae     rmse     mse    rmsle    mean_residual_deviance\n",
      "GBM_grid_1_AutoML_40_20240326_234946_model_4  301.47   436.05   190140      nan                    190140\n",
      "GBM_5_AutoML_40_20240326_234946               306.514  441.863  195243      nan                    195243\n",
      "GBM_2_AutoML_40_20240326_234946               307.822  444.09   197216      nan                    197216\n",
      "GBM_3_AutoML_40_20240326_234946               310.239  447.668  200407      nan                    200407\n",
      "GBM_4_AutoML_40_20240326_234946               311.294  448.498  201151      nan                    201151\n",
      "GBM_grid_1_AutoML_40_20240326_234946_model_1  312.47   442.22   195559      nan                    195559\n",
      "GBM_grid_1_AutoML_40_20240326_234946_model_2  314.701  440.016  193614      nan                    193614\n",
      "GBM_grid_1_AutoML_40_20240326_234946_model_5  316.95   442.152  195498      nan                    195498\n",
      "DRF_1_AutoML_40_20240326_234946               320.431  477.833  228325      nan                    228325\n",
      "XRT_1_AutoML_40_20240326_234946               327.168  480.588  230965      nan                    230965\n",
      "[16 rows x 6 columns]\n",
      "\n",
      "Parse progress: |████████████████████████████████████████████████████████████████| (done) 100%\n",
      "gbm prediction progress: |███████████████████████████████████████████████████████| (done) 100%\n",
      "Mean error (+/-SE) = 320.9379020326224 (+/- 19.215851361480706)\n",
      "Parse progress: |"
     ]
    },
    {
     "name": "stderr",
     "output_type": "stream",
     "text": [
      "c:\\Users\\JohnvanOsta\\Documents\\GitHub\\ml4rt\\.venv\\Lib\\site-packages\\h2o\\frame.py:1979: H2ODependencyWarning: converting H2O frame to pandas dataframe using single-thread.  For faster conversion using multi-thread, install datatable (for Python 3.9 or lower), or polars and pyarrow (for Python 3.10 or above).\n",
      "  warnings.warn(\"converting H2O frame to pandas dataframe using single-thread.  For faster conversion using\"\n"
     ]
    },
    {
     "name": "stdout",
     "output_type": "stream",
     "text": [
      "████████████████████████████████████████████████████████████████| (done) 100%\n",
      "AutoML progress: |\n",
      "23:54:47.203: AutoML: XGBoost is not available; skipping it.\n",
      "\n",
      "███████████████████████████████████████████████████████████████| (done) 100%\n",
      "model_id                                          mae     rmse     mse    rmsle    mean_residual_deviance\n",
      "GBM_grid_1_AutoML_41_20240326_235447_model_4  280.763  415.718  172822      nan                    172822\n",
      "GBM_5_AutoML_41_20240326_235447               283.225  418.155  174854      nan                    174854\n",
      "DRF_1_AutoML_41_20240326_235447               284.518  420.629  176929      nan                    176929\n",
      "GBM_grid_1_AutoML_41_20240326_235447_model_1  284.781  418.944  175514      nan                    175514\n",
      "GBM_2_AutoML_41_20240326_235447               285.056  417.93   174666      nan                    174666\n",
      "XRT_1_AutoML_41_20240326_235447               285.573  422.107  178174      nan                    178174\n",
      "GBM_3_AutoML_41_20240326_235447               287.931  421.755  177877      nan                    177877\n",
      "GBM_4_AutoML_41_20240326_235447               287.983  420.226  176590      nan                    176590\n",
      "GBM_grid_1_AutoML_41_20240326_235447_model_3  288.019  418.216  174905      nan                    174905\n",
      "GBM_grid_1_AutoML_41_20240326_235447_model_5  289.558  421.939  178033      nan                    178033\n",
      "[16 rows x 6 columns]\n",
      "\n",
      "Parse progress: |████████████████████████████████████████████████████████████████| (done) 100%\n",
      "gbm prediction progress: |███████████████████████████████████████████████████████| (done) 100%\n",
      "Parse progress: |"
     ]
    },
    {
     "name": "stderr",
     "output_type": "stream",
     "text": [
      "c:\\Users\\JohnvanOsta\\Documents\\GitHub\\ml4rt\\.venv\\Lib\\site-packages\\h2o\\frame.py:1979: H2ODependencyWarning: converting H2O frame to pandas dataframe using single-thread.  For faster conversion using multi-thread, install datatable (for Python 3.9 or lower), or polars and pyarrow (for Python 3.10 or above).\n",
      "  warnings.warn(\"converting H2O frame to pandas dataframe using single-thread.  For faster conversion using\"\n"
     ]
    },
    {
     "name": "stdout",
     "output_type": "stream",
     "text": [
      "████████████████████████████████████████████████████████████████| (done) 100%\n",
      "AutoML progress: |\n",
      "23:59:48.222: AutoML: XGBoost is not available; skipping it.\n",
      "\n",
      "███████████████████████████████████████████████████████████████| (done) 100%\n",
      "model_id                                          mae     rmse     mse    rmsle    mean_residual_deviance\n",
      "GBM_3_AutoML_42_20240326_235948               296.667  451.331  203699      nan                    203699\n",
      "GBM_grid_1_AutoML_42_20240326_235948_model_4  296.714  457.11   208949      nan                    208949\n",
      "GBM_2_AutoML_42_20240326_235948               297.914  451.284  203657      nan                    203657\n",
      "GBM_5_AutoML_42_20240326_235948               299.507  461.628  213100      nan                    213100\n",
      "GBM_4_AutoML_42_20240326_235948               299.558  453.95   206071      nan                    206071\n",
      "GBM_grid_1_AutoML_42_20240326_235948_model_1  300.466  454.145  206248      nan                    206248\n",
      "GBM_grid_1_AutoML_42_20240326_235948_model_2  303.881  451.647  203985      nan                    203985\n",
      "GBM_grid_1_AutoML_42_20240326_235948_model_5  304.604  451.07   203464      nan                    203464\n",
      "GBM_grid_1_AutoML_42_20240326_235948_model_3  306.82   466.928  218022      nan                    218022\n",
      "XRT_1_AutoML_42_20240326_235948               307.014  478.144  228622      nan                    228622\n",
      "[16 rows x 6 columns]\n",
      "\n",
      "Parse progress: |████████████████████████████████████████████████████████████████| (done) 100%\n",
      "gbm prediction progress: |███████████████████████████████████████████████████████| (done) 100%\n",
      "Mean error (+/-SE) = 321.1083516617677 (+/- 18.151228342396273)\n",
      "Parse progress: |"
     ]
    },
    {
     "name": "stderr",
     "output_type": "stream",
     "text": [
      "c:\\Users\\JohnvanOsta\\Documents\\GitHub\\ml4rt\\.venv\\Lib\\site-packages\\h2o\\frame.py:1979: H2ODependencyWarning: converting H2O frame to pandas dataframe using single-thread.  For faster conversion using multi-thread, install datatable (for Python 3.9 or lower), or polars and pyarrow (for Python 3.10 or above).\n",
      "  warnings.warn(\"converting H2O frame to pandas dataframe using single-thread.  For faster conversion using\"\n"
     ]
    },
    {
     "name": "stdout",
     "output_type": "stream",
     "text": [
      "████████████████████████████████████████████████████████████████| (done) 100%\n",
      "AutoML progress: |\n",
      "00:04:49.991: AutoML: XGBoost is not available; skipping it.\n",
      "\n",
      "███████████████████████████████████████████████████████████████| (done) 100%\n",
      "model_id                                         mae     rmse     mse    rmsle    mean_residual_deviance\n",
      "GBM_grid_1_AutoML_43_20240327_00449_model_1  290.233  439.259  192949      nan                    192949\n",
      "GBM_grid_1_AutoML_43_20240327_00449_model_4  290.752  437.838  191702      nan                    191702\n",
      "DRF_1_AutoML_43_20240327_00449               291.141  445.988  198905      nan                    198905\n",
      "XRT_1_AutoML_43_20240327_00449               292.906  447.282  200061      nan                    200061\n",
      "GBM_5_AutoML_43_20240327_00449               293.213  439.294  192979      nan                    192979\n",
      "GBM_grid_1_AutoML_43_20240327_00449_model_3  294.954  446.408  199280      nan                    199280\n",
      "GBM_4_AutoML_43_20240327_00449               296.323  445.437  198414      nan                    198414\n",
      "GBM_3_AutoML_43_20240327_00449               296.723  446.67   199514      nan                    199514\n",
      "GBM_2_AutoML_43_20240327_00449               297.079  447.729  200462      nan                    200462\n",
      "GBM_grid_1_AutoML_43_20240327_00449_model_5  298.95   446.185  199081      nan                    199081\n",
      "[16 rows x 6 columns]\n",
      "\n",
      "Parse progress: |████████████████████████████████████████████████████████████████| (done) 100%\n",
      "gbm prediction progress: |███████████████████████████████████████████████████████| (done) 100%\n",
      "Parse progress: |"
     ]
    },
    {
     "name": "stderr",
     "output_type": "stream",
     "text": [
      "c:\\Users\\JohnvanOsta\\Documents\\GitHub\\ml4rt\\.venv\\Lib\\site-packages\\h2o\\frame.py:1979: H2ODependencyWarning: converting H2O frame to pandas dataframe using single-thread.  For faster conversion using multi-thread, install datatable (for Python 3.9 or lower), or polars and pyarrow (for Python 3.10 or above).\n",
      "  warnings.warn(\"converting H2O frame to pandas dataframe using single-thread.  For faster conversion using\"\n"
     ]
    },
    {
     "name": "stdout",
     "output_type": "stream",
     "text": [
      "████████████████████████████████████████████████████████████████| (done) 100%\n",
      "AutoML progress: |\n",
      "00:09:51.740: AutoML: XGBoost is not available; skipping it.\n",
      "\n",
      "███████████████████████████████████████████████████████████████| (done) 100%\n",
      "model_id                                         mae     rmse     mse    rmsle    mean_residual_deviance\n",
      "GBM_5_AutoML_44_20240327_00951               281.33   428.162  183323      nan                    183323\n",
      "GBM_grid_1_AutoML_44_20240327_00951_model_4  282.16   432.8    187316      nan                    187316\n",
      "GBM_2_AutoML_44_20240327_00951               284.266  430.091  184978      nan                    184978\n",
      "GBM_4_AutoML_44_20240327_00951               285.273  429.643  184593      nan                    184593\n",
      "GBM_3_AutoML_44_20240327_00951               285.772  431.905  186542      nan                    186542\n",
      "GBM_grid_1_AutoML_44_20240327_00951_model_2  287.543  426.044  181514      nan                    181514\n",
      "XRT_1_AutoML_44_20240327_00951               287.575  449.818  202336      nan                    202336\n",
      "GBM_grid_1_AutoML_44_20240327_00951_model_1  288.672  433.026  187511      nan                    187511\n",
      "GBM_grid_1_AutoML_44_20240327_00951_model_5  288.832  427.033  182357      nan                    182357\n",
      "DRF_1_AutoML_44_20240327_00951               292.523  453.992  206109      nan                    206109\n",
      "[17 rows x 6 columns]\n",
      "\n",
      "Parse progress: |████████████████████████████████████████████████████████████████| (done) 100%\n",
      "gbm prediction progress: |███████████████████████████████████████████████████████| (done) 100%\n",
      "Mean error (+/-SE) = 314.02628705903624 (+/- 16.253462460429258)\n",
      "Parse progress: |"
     ]
    },
    {
     "name": "stderr",
     "output_type": "stream",
     "text": [
      "c:\\Users\\JohnvanOsta\\Documents\\GitHub\\ml4rt\\.venv\\Lib\\site-packages\\h2o\\frame.py:1979: H2ODependencyWarning: converting H2O frame to pandas dataframe using single-thread.  For faster conversion using multi-thread, install datatable (for Python 3.9 or lower), or polars and pyarrow (for Python 3.10 or above).\n",
      "  warnings.warn(\"converting H2O frame to pandas dataframe using single-thread.  For faster conversion using\"\n"
     ]
    },
    {
     "name": "stdout",
     "output_type": "stream",
     "text": [
      "████████████████████████████████████████████████████████████████| (done) 100%\n",
      "AutoML progress: |\n",
      "00:14:53.294: AutoML: XGBoost is not available; skipping it.\n",
      "\n",
      "███████████████████████████████████████████████████████████████| (done) 100%\n",
      "model_id                                         mae     rmse     mse    rmsle    mean_residual_deviance\n",
      "GBM_grid_1_AutoML_45_20240327_01453_model_4  245.047  379.587  144086      nan                    144086\n",
      "DRF_1_AutoML_45_20240327_01453               245.592  382.882  146598      nan                    146598\n",
      "GBM_grid_1_AutoML_45_20240327_01453_model_1  246.317  378.539  143292      nan                    143292\n",
      "GBM_5_AutoML_45_20240327_01453               247.546  382.862  146583      nan                    146583\n",
      "GBM_4_AutoML_45_20240327_01453               247.889  382.724  146478      nan                    146478\n",
      "XRT_1_AutoML_45_20240327_01453               248.72   385.573  148667      nan                    148667\n",
      "GBM_3_AutoML_45_20240327_01453               249.91   384.446  147799      nan                    147799\n",
      "GBM_grid_1_AutoML_45_20240327_01453_model_3  250.54   383.876  147361      nan                    147361\n",
      "GBM_2_AutoML_45_20240327_01453               250.647  384.325  147705      nan                    147705\n",
      "GBM_grid_1_AutoML_45_20240327_01453_model_5  255.461  388.51   150940      nan                    150940\n",
      "[16 rows x 6 columns]\n",
      "\n",
      "Parse progress: |████████████████████████████████████████████████████████████████| (done) 100%\n",
      "gbm prediction progress: |███████████████████████████████████████████████████████| (done) 100%\n",
      "Parse progress: |"
     ]
    },
    {
     "name": "stderr",
     "output_type": "stream",
     "text": [
      "c:\\Users\\JohnvanOsta\\Documents\\GitHub\\ml4rt\\.venv\\Lib\\site-packages\\h2o\\frame.py:1979: H2ODependencyWarning: converting H2O frame to pandas dataframe using single-thread.  For faster conversion using multi-thread, install datatable (for Python 3.9 or lower), or polars and pyarrow (for Python 3.10 or above).\n",
      "  warnings.warn(\"converting H2O frame to pandas dataframe using single-thread.  For faster conversion using\"\n"
     ]
    },
    {
     "name": "stdout",
     "output_type": "stream",
     "text": [
      "████████████████████████████████████████████████████████████████| (done) 100%\n",
      "AutoML progress: |\n",
      "00:19:54.873: AutoML: XGBoost is not available; skipping it.\n",
      "\n",
      "███████████████████████████████████████████████████████████████| (done) 100%\n",
      "model_id                                         mae     rmse     mse    rmsle    mean_residual_deviance\n",
      "GBM_grid_1_AutoML_46_20240327_01954_model_4  275.507  445.702  198650      nan                    198650\n",
      "GBM_2_AutoML_46_20240327_01954               277.272  447.474  200233      nan                    200233\n",
      "GBM_3_AutoML_46_20240327_01954               279.552  451.808  204130      nan                    204130\n",
      "GBM_grid_1_AutoML_46_20240327_01954_model_1  281.339  448.841  201458      nan                    201458\n",
      "GBM_5_AutoML_46_20240327_01954               281.854  455.755  207712      nan                    207712\n",
      "GBM_4_AutoML_46_20240327_01954               283.66   452.154  204444      nan                    204444\n",
      "DRF_1_AutoML_46_20240327_01954               285.114  463.64   214962      nan                    214962\n",
      "XRT_1_AutoML_46_20240327_01954               285.164  461.152  212661      nan                    212661\n",
      "GBM_grid_1_AutoML_46_20240327_01954_model_5  285.886  446.102  199007      nan                    199007\n",
      "GBM_grid_1_AutoML_46_20240327_01954_model_2  286.489  444.01   197145      nan                    197145\n",
      "[17 rows x 6 columns]\n",
      "\n",
      "Parse progress: |████████████████████████████████████████████████████████████████| (done) 100%\n",
      "gbm prediction progress: |███████████████████████████████████████████████████████| (done) 100%\n",
      "Mean error (+/-SE) = 319.2715101028745 (+/- 17.889852426401646)\n",
      "Parse progress: |"
     ]
    },
    {
     "name": "stderr",
     "output_type": "stream",
     "text": [
      "c:\\Users\\JohnvanOsta\\Documents\\GitHub\\ml4rt\\.venv\\Lib\\site-packages\\h2o\\frame.py:1979: H2ODependencyWarning: converting H2O frame to pandas dataframe using single-thread.  For faster conversion using multi-thread, install datatable (for Python 3.9 or lower), or polars and pyarrow (for Python 3.10 or above).\n",
      "  warnings.warn(\"converting H2O frame to pandas dataframe using single-thread.  For faster conversion using\"\n"
     ]
    },
    {
     "name": "stdout",
     "output_type": "stream",
     "text": [
      "████████████████████████████████████████████████████████████████| (done) 100%\n",
      "AutoML progress: |\n",
      "00:24:56.403: AutoML: XGBoost is not available; skipping it.\n",
      "\n",
      "███████████████████████████████████████████████████████████████| (done) 100%\n",
      "model_id                                         mae     rmse     mse    rmsle    mean_residual_deviance\n",
      "GBM_grid_1_AutoML_47_20240327_02456_model_4  300.826  439.972  193575      nan                    193575\n",
      "GBM_grid_1_AutoML_47_20240327_02456_model_1  306.745  446.149  199049      nan                    199049\n",
      "XRT_1_AutoML_47_20240327_02456               306.908  458.123  209877      nan                    209877\n",
      "GBM_2_AutoML_47_20240327_02456               307.043  448.731  201360      nan                    201360\n",
      "GBM_5_AutoML_47_20240327_02456               307.122  448.905  201516      nan                    201516\n",
      "GBM_3_AutoML_47_20240327_02456               308.446  450.6    203041      nan                    203041\n",
      "GBM_4_AutoML_47_20240327_02456               310.936  451.354  203721      nan                    203721\n",
      "GBM_grid_1_AutoML_47_20240327_02456_model_5  311.98   453.838  205969      nan                    205969\n",
      "GBM_grid_1_AutoML_47_20240327_02456_model_3  312.693  462.649  214044      nan                    214044\n",
      "DRF_1_AutoML_47_20240327_02456               313.008  466.714  217822      nan                    217822\n",
      "[16 rows x 6 columns]\n",
      "\n",
      "Parse progress: |████████████████████████████████████████████████████████████████| (done) 100%\n",
      "gbm prediction progress: |███████████████████████████████████████████████████████| (done) 100%\n",
      "Parse progress: |"
     ]
    },
    {
     "name": "stderr",
     "output_type": "stream",
     "text": [
      "c:\\Users\\JohnvanOsta\\Documents\\GitHub\\ml4rt\\.venv\\Lib\\site-packages\\h2o\\frame.py:1979: H2ODependencyWarning: converting H2O frame to pandas dataframe using single-thread.  For faster conversion using multi-thread, install datatable (for Python 3.9 or lower), or polars and pyarrow (for Python 3.10 or above).\n",
      "  warnings.warn(\"converting H2O frame to pandas dataframe using single-thread.  For faster conversion using\"\n"
     ]
    },
    {
     "name": "stdout",
     "output_type": "stream",
     "text": [
      "████████████████████████████████████████████████████████████████| (done) 100%\n",
      "AutoML progress: |\n",
      "00:29:57.477: AutoML: XGBoost is not available; skipping it.\n",
      "\n",
      "███████████████████████████████████████████████████████████████| (done) 100%\n",
      "model_id                                         mae     rmse     mse    rmsle    mean_residual_deviance\n",
      "GBM_grid_1_AutoML_48_20240327_02957_model_4  296.636  446.458  199325      nan                    199325\n",
      "GBM_2_AutoML_48_20240327_02957               300.532  451.621  203962      nan                    203962\n",
      "GBM_5_AutoML_48_20240327_02957               301.252  454.556  206621      nan                    206621\n",
      "GBM_3_AutoML_48_20240327_02957               301.658  450.78   203202      nan                    203202\n",
      "GBM_4_AutoML_48_20240327_02957               303.046  453.733  205874      nan                    205874\n",
      "GBM_grid_1_AutoML_48_20240327_02957_model_1  305.773  447.009  199817      nan                    199817\n",
      "GBM_grid_1_AutoML_48_20240327_02957_model_2  307.228  448.267  200943      nan                    200943\n",
      "GBM_grid_1_AutoML_48_20240327_02957_model_5  309.644  451.691  204025      nan                    204025\n",
      "DRF_1_AutoML_48_20240327_02957               311.694  481.231  231583      nan                    231583\n",
      "XRT_1_AutoML_48_20240327_02957               313.779  478.642  229099      nan                    229099\n",
      "[17 rows x 6 columns]\n",
      "\n",
      "Parse progress: |████████████████████████████████████████████████████████████████| (done) 100%\n",
      "gbm prediction progress: |███████████████████████████████████████████████████████| (done) 100%\n",
      "Mean error (+/-SE) = 313.0246292992098 (+/- 17.882517234999987)\n",
      "Parse progress: |"
     ]
    },
    {
     "name": "stderr",
     "output_type": "stream",
     "text": [
      "c:\\Users\\JohnvanOsta\\Documents\\GitHub\\ml4rt\\.venv\\Lib\\site-packages\\h2o\\frame.py:1979: H2ODependencyWarning: converting H2O frame to pandas dataframe using single-thread.  For faster conversion using multi-thread, install datatable (for Python 3.9 or lower), or polars and pyarrow (for Python 3.10 or above).\n",
      "  warnings.warn(\"converting H2O frame to pandas dataframe using single-thread.  For faster conversion using\"\n"
     ]
    },
    {
     "name": "stdout",
     "output_type": "stream",
     "text": [
      "████████████████████████████████████████████████████████████████| (done) 100%\n",
      "AutoML progress: |\n",
      "00:34:59.40: AutoML: XGBoost is not available; skipping it.\n",
      "\n",
      "███████████████████████████████████████████████████████████████| (done) 100%\n",
      "model_id                                         mae     rmse     mse    rmsle    mean_residual_deviance\n",
      "GBM_grid_1_AutoML_49_20240327_03459_model_4  265.037  378.831  143513      nan                    143513\n",
      "GBM_5_AutoML_49_20240327_03459               265.493  381.581  145604      nan                    145604\n",
      "GBM_2_AutoML_49_20240327_03459               267.794  381.698  145693      nan                    145693\n",
      "GBM_3_AutoML_49_20240327_03459               268.273  383.611  147157      nan                    147157\n",
      "GBM_4_AutoML_49_20240327_03459               269.071  383.301  146920      nan                    146920\n",
      "GBM_grid_1_AutoML_49_20240327_03459_model_1  269.549  383.087  146756      nan                    146756\n",
      "XRT_1_AutoML_49_20240327_03459               269.85   392.385  153966      nan                    153966\n",
      "GBM_grid_1_AutoML_49_20240327_03459_model_5  271.147  380.595  144853      nan                    144853\n",
      "DRF_1_AutoML_49_20240327_03459               271.293  390.71   152654      nan                    152654\n",
      "GBM_grid_1_AutoML_49_20240327_03459_model_3  271.944  392.126  153763      nan                    153763\n",
      "[16 rows x 6 columns]\n",
      "\n",
      "Parse progress: |████████████████████████████████████████████████████████████████| (done) 100%\n",
      "gbm prediction progress: |███████████████████████████████████████████████████████| (done) 100%\n",
      "Parse progress: |"
     ]
    },
    {
     "name": "stderr",
     "output_type": "stream",
     "text": [
      "c:\\Users\\JohnvanOsta\\Documents\\GitHub\\ml4rt\\.venv\\Lib\\site-packages\\h2o\\frame.py:1979: H2ODependencyWarning: converting H2O frame to pandas dataframe using single-thread.  For faster conversion using multi-thread, install datatable (for Python 3.9 or lower), or polars and pyarrow (for Python 3.10 or above).\n",
      "  warnings.warn(\"converting H2O frame to pandas dataframe using single-thread.  For faster conversion using\"\n"
     ]
    },
    {
     "name": "stdout",
     "output_type": "stream",
     "text": [
      "████████████████████████████████████████████████████████████████| (done) 100%\n",
      "AutoML progress: |\n",
      "00:40:00.659: AutoML: XGBoost is not available; skipping it.\n",
      "\n",
      "███████████████████████████████████████████████████████████████| (done) 100%\n",
      "model_id                                         mae     rmse     mse    rmsle    mean_residual_deviance\n",
      "GBM_2_AutoML_50_20240327_04000               277.5    406.587  165313      nan                    165313\n",
      "GBM_grid_1_AutoML_50_20240327_04000_model_4  277.921  411.215  169097      nan                    169097\n",
      "GBM_3_AutoML_50_20240327_04000               278.253  408.862  167168      nan                    167168\n",
      "GBM_5_AutoML_50_20240327_04000               279.365  409.116  167376      nan                    167376\n",
      "GBM_4_AutoML_50_20240327_04000               280.378  407.502  166058      nan                    166058\n",
      "GBM_grid_1_AutoML_50_20240327_04000_model_1  284.903  410.898  168837      nan                    168837\n",
      "GBM_grid_1_AutoML_50_20240327_04000_model_2  286.927  411.433  169277      nan                    169277\n",
      "GBM_grid_1_AutoML_50_20240327_04000_model_5  288.156  413.907  171319      nan                    171319\n",
      "XRT_1_AutoML_50_20240327_04000               289.328  432.029  186649      nan                    186649\n",
      "DRF_1_AutoML_50_20240327_04000               290.911  433.802  188185      nan                    188185\n",
      "[16 rows x 6 columns]\n",
      "\n",
      "Parse progress: |████████████████████████████████████████████████████████████████| (done) 100%\n",
      "gbm prediction progress: |███████████████████████████████████████████████████████| (done) 100%\n",
      "Mean error (+/-SE) = 308.86922837477454 (+/- 16.812252757265348)\n",
      "Parse progress: |"
     ]
    },
    {
     "name": "stderr",
     "output_type": "stream",
     "text": [
      "c:\\Users\\JohnvanOsta\\Documents\\GitHub\\ml4rt\\.venv\\Lib\\site-packages\\h2o\\frame.py:1979: H2ODependencyWarning: converting H2O frame to pandas dataframe using single-thread.  For faster conversion using multi-thread, install datatable (for Python 3.9 or lower), or polars and pyarrow (for Python 3.10 or above).\n",
      "  warnings.warn(\"converting H2O frame to pandas dataframe using single-thread.  For faster conversion using\"\n"
     ]
    },
    {
     "name": "stdout",
     "output_type": "stream",
     "text": [
      "████████████████████████████████████████████████████████████████| (done) 100%\n",
      "AutoML progress: |\n",
      "00:45:02.218: AutoML: XGBoost is not available; skipping it.\n",
      "\n",
      "███████████████████████████████████████████████████████████████| (done) 100%\n",
      "model_id                                         mae     rmse     mse    rmsle    mean_residual_deviance\n",
      "GBM_grid_1_AutoML_51_20240327_04502_model_4  267.368  371.166  137764      nan                    137764\n",
      "GBM_2_AutoML_51_20240327_04502               271.319  374.803  140477      nan                    140477\n",
      "GBM_grid_1_AutoML_51_20240327_04502_model_1  272.031  374.242  140057      nan                    140057\n",
      "GBM_3_AutoML_51_20240327_04502               273.113  376.857  142021      nan                    142021\n",
      "GBM_5_AutoML_51_20240327_04502               273.724  377.625  142600      nan                    142600\n",
      "DRF_1_AutoML_51_20240327_04502               275.189  390.474  152470      nan                    152470\n",
      "GBM_4_AutoML_51_20240327_04502               275.673  380.103  144478      nan                    144478\n",
      "GBM_grid_1_AutoML_51_20240327_04502_model_5  276.75   376.617  141841      nan                    141841\n",
      "XRT_1_AutoML_51_20240327_04502               278.593  391.658  153396      nan                    153396\n",
      "GBM_grid_1_AutoML_51_20240327_04502_model_3  280.17   390.474  152470      nan                    152470\n",
      "[16 rows x 6 columns]\n",
      "\n",
      "Parse progress: |████████████████████████████████████████████████████████████████| (done) 100%\n",
      "gbm prediction progress: |███████████████████████████████████████████████████████| (done) 100%\n",
      "Parse progress: |"
     ]
    },
    {
     "name": "stderr",
     "output_type": "stream",
     "text": [
      "c:\\Users\\JohnvanOsta\\Documents\\GitHub\\ml4rt\\.venv\\Lib\\site-packages\\h2o\\frame.py:1979: H2ODependencyWarning: converting H2O frame to pandas dataframe using single-thread.  For faster conversion using multi-thread, install datatable (for Python 3.9 or lower), or polars and pyarrow (for Python 3.10 or above).\n",
      "  warnings.warn(\"converting H2O frame to pandas dataframe using single-thread.  For faster conversion using\"\n"
     ]
    },
    {
     "name": "stdout",
     "output_type": "stream",
     "text": [
      "████████████████████████████████████████████████████████████████| (done) 100%\n",
      "AutoML progress: |\n",
      "00:50:04.14: AutoML: XGBoost is not available; skipping it.\n",
      "\n",
      "███████████████████████████████████████████████████████████████| (done) 100%\n",
      "model_id                                         mae     rmse     mse    rmsle    mean_residual_deviance\n",
      "GBM_grid_1_AutoML_52_20240327_05004_model_4  295.526  431.731  186392      nan                    186392\n",
      "GBM_5_AutoML_52_20240327_05004               296.073  432.004  186627      nan                    186627\n",
      "GBM_2_AutoML_52_20240327_05004               296.837  427.698  182925      nan                    182925\n",
      "GBM_4_AutoML_52_20240327_05004               296.939  432.868  187374      nan                    187374\n",
      "GBM_3_AutoML_52_20240327_05004               296.949  429.3    184299      nan                    184299\n",
      "DRF_1_AutoML_52_20240327_05004               302.59   452.318  204591      nan                    204591\n",
      "GBM_grid_1_AutoML_52_20240327_05004_model_1  304.441  434.542  188826      nan                    188826\n",
      "XRT_1_AutoML_52_20240327_05004               306.708  452.945  205159      nan                    205159\n",
      "GBM_grid_1_AutoML_52_20240327_05004_model_2  309.371  435.939  190043      nan                    190043\n",
      "GBM_grid_1_AutoML_52_20240327_05004_model_5  309.756  438.354  192154      nan                    192154\n",
      "[16 rows x 6 columns]\n",
      "\n",
      "Parse progress: |████████████████████████████████████████████████████████████████| (done) 100%\n",
      "gbm prediction progress: |███████████████████████████████████████████████████████| (done) 100%\n",
      "Mean error (+/-SE) = 318.7142521479862 (+/- 19.298101659180787)\n",
      "Parse progress: |"
     ]
    },
    {
     "name": "stderr",
     "output_type": "stream",
     "text": [
      "c:\\Users\\JohnvanOsta\\Documents\\GitHub\\ml4rt\\.venv\\Lib\\site-packages\\h2o\\frame.py:1979: H2ODependencyWarning: converting H2O frame to pandas dataframe using single-thread.  For faster conversion using multi-thread, install datatable (for Python 3.9 or lower), or polars and pyarrow (for Python 3.10 or above).\n",
      "  warnings.warn(\"converting H2O frame to pandas dataframe using single-thread.  For faster conversion using\"\n"
     ]
    },
    {
     "name": "stdout",
     "output_type": "stream",
     "text": [
      "████████████████████████████████████████████████████████████████| (done) 100%\n",
      "AutoML progress: |\n",
      "00:55:06.235: AutoML: XGBoost is not available; skipping it.\n",
      "\n",
      "███████████████████████████████████████████████████████████████| (done) 100%\n",
      "model_id                                         mae     rmse     mse    rmsle    mean_residual_deviance\n",
      "GBM_grid_1_AutoML_53_20240327_05506_model_4  274.019  395.372  156319      nan                    156319\n",
      "GBM_5_AutoML_53_20240327_05506               275.594  395.652  156540      nan                    156540\n",
      "GBM_2_AutoML_53_20240327_05506               276.963  397.217  157781      nan                    157781\n",
      "GBM_3_AutoML_53_20240327_05506               277.337  395.293  156257      nan                    156257\n",
      "GBM_grid_1_AutoML_53_20240327_05506_model_1  277.898  396.903  157532      nan                    157532\n",
      "GBM_4_AutoML_53_20240327_05506               278.865  397.392  157920      nan                    157920\n",
      "DRF_1_AutoML_53_20240327_05506               280.792  404.647  163739      nan                    163739\n",
      "GBM_grid_1_AutoML_53_20240327_05506_model_3  280.918  401.831  161468      nan                    161468\n",
      "GBM_grid_1_AutoML_53_20240327_05506_model_5  280.943  396.849  157489      nan                    157489\n",
      "XRT_1_AutoML_53_20240327_05506               282.007  404.007  163221      nan                    163221\n",
      "[16 rows x 6 columns]\n",
      "\n",
      "Parse progress: |████████████████████████████████████████████████████████████████| (done) 100%\n",
      "gbm prediction progress: |███████████████████████████████████████████████████████| (done) 100%\n",
      "Parse progress: |"
     ]
    },
    {
     "name": "stderr",
     "output_type": "stream",
     "text": [
      "c:\\Users\\JohnvanOsta\\Documents\\GitHub\\ml4rt\\.venv\\Lib\\site-packages\\h2o\\frame.py:1979: H2ODependencyWarning: converting H2O frame to pandas dataframe using single-thread.  For faster conversion using multi-thread, install datatable (for Python 3.9 or lower), or polars and pyarrow (for Python 3.10 or above).\n",
      "  warnings.warn(\"converting H2O frame to pandas dataframe using single-thread.  For faster conversion using\"\n"
     ]
    },
    {
     "name": "stdout",
     "output_type": "stream",
     "text": [
      "████████████████████████████████████████████████████████████████| (done) 100%\n",
      "AutoML progress: |\n",
      "01:00:07.922: AutoML: XGBoost is not available; skipping it.\n",
      "\n",
      "███████████████████████████████████████████████████████████████| (done) 100%\n",
      "model_id                                         mae     rmse     mse    rmsle    mean_residual_deviance\n",
      "GBM_grid_1_AutoML_54_20240327_10007_model_4  287.47   424.21   179954      nan                    179954\n",
      "GBM_2_AutoML_54_20240327_10007               290.444  427.139  182448      nan                    182448\n",
      "GBM_3_AutoML_54_20240327_10007               290.705  427.584  182828      nan                    182828\n",
      "GBM_5_AutoML_54_20240327_10007               290.738  430.85   185632      nan                    185632\n",
      "GBM_4_AutoML_54_20240327_10007               292.13   428.877  183935      nan                    183935\n",
      "GBM_grid_1_AutoML_54_20240327_10007_model_1  292.677  425.676  181200      nan                    181200\n",
      "GBM_grid_1_AutoML_54_20240327_10007_model_2  297.706  428.027  183207      nan                    183207\n",
      "GBM_grid_1_AutoML_54_20240327_10007_model_5  298.03   429.069  184100      nan                    184100\n",
      "GBM_grid_1_AutoML_54_20240327_10007_model_3  298.093  439.112  192820      nan                    192820\n",
      "DRF_1_AutoML_54_20240327_10007               301.111  452.034  204335      nan                    204335\n",
      "[17 rows x 6 columns]\n",
      "\n",
      "Parse progress: |████████████████████████████████████████████████████████████████| (done) 100%\n",
      "gbm prediction progress: |███████████████████████████████████████████████████████| (done) 100%\n",
      "Mean error (+/-SE) = 310.9439965566559 (+/- 17.941312833085412)\n",
      "Parse progress: |"
     ]
    },
    {
     "name": "stderr",
     "output_type": "stream",
     "text": [
      "c:\\Users\\JohnvanOsta\\Documents\\GitHub\\ml4rt\\.venv\\Lib\\site-packages\\h2o\\frame.py:1979: H2ODependencyWarning: converting H2O frame to pandas dataframe using single-thread.  For faster conversion using multi-thread, install datatable (for Python 3.9 or lower), or polars and pyarrow (for Python 3.10 or above).\n",
      "  warnings.warn(\"converting H2O frame to pandas dataframe using single-thread.  For faster conversion using\"\n"
     ]
    },
    {
     "name": "stdout",
     "output_type": "stream",
     "text": [
      "████████████████████████████████████████████████████████████████| (done) 100%\n",
      "AutoML progress: |\n",
      "01:05:10.167: AutoML: XGBoost is not available; skipping it.\n",
      "\n",
      "███████████████████████████████████████████████████████████████| (done) 100%\n",
      "model_id                                         mae     rmse     mse    rmsle    mean_residual_deviance\n",
      "GBM_grid_1_AutoML_55_20240327_10510_model_4  276.537  412.406  170079      nan                    170079\n",
      "GBM_grid_1_AutoML_55_20240327_10510_model_5  281.123  416.451  173432      nan                    173432\n",
      "GBM_5_AutoML_55_20240327_10510               281.874  420.528  176844      nan                    176844\n",
      "GBM_3_AutoML_55_20240327_10510               282.052  417.656  174436      nan                    174436\n",
      "GBM_grid_1_AutoML_55_20240327_10510_model_1  283.136  417.537  174337      nan                    174337\n",
      "GBM_2_AutoML_55_20240327_10510               283.308  421.356  177541      nan                    177541\n",
      "DRF_1_AutoML_55_20240327_10510               285.821  428.612  183708      nan                    183708\n",
      "GBM_4_AutoML_55_20240327_10510               286.37   420.977  177222      nan                    177222\n",
      "GBM_grid_1_AutoML_55_20240327_10510_model_2  286.723  420.731  177015      nan                    177015\n",
      "GBM_grid_1_AutoML_55_20240327_10510_model_3  289.812  426.159  181611      nan                    181611\n",
      "[16 rows x 6 columns]\n",
      "\n",
      "Parse progress: |████████████████████████████████████████████████████████████████| (done) 100%\n",
      "gbm prediction progress: |███████████████████████████████████████████████████████| (done) 100%\n",
      "Parse progress: |"
     ]
    },
    {
     "name": "stderr",
     "output_type": "stream",
     "text": [
      "c:\\Users\\JohnvanOsta\\Documents\\GitHub\\ml4rt\\.venv\\Lib\\site-packages\\h2o\\frame.py:1979: H2ODependencyWarning: converting H2O frame to pandas dataframe using single-thread.  For faster conversion using multi-thread, install datatable (for Python 3.9 or lower), or polars and pyarrow (for Python 3.10 or above).\n",
      "  warnings.warn(\"converting H2O frame to pandas dataframe using single-thread.  For faster conversion using\"\n"
     ]
    },
    {
     "name": "stdout",
     "output_type": "stream",
     "text": [
      "████████████████████████████████████████████████████████████████| (done) 100%\n",
      "AutoML progress: |\n",
      "01:10:11.247: AutoML: XGBoost is not available; skipping it.\n",
      "\n",
      "███████████████████████████████████████████████████████████████| (done) 100%\n",
      "model_id                                         mae     rmse     mse    rmsle    mean_residual_deviance\n",
      "GBM_2_AutoML_56_20240327_11011               296.485  441.477  194902      nan                    194902\n",
      "GBM_grid_1_AutoML_56_20240327_11011_model_4  297.189  442.679  195964      nan                    195964\n",
      "GBM_4_AutoML_56_20240327_11011               298.387  442.365  195687      nan                    195687\n",
      "GBM_3_AutoML_56_20240327_11011               298.394  444.466  197550      nan                    197550\n",
      "XRT_1_AutoML_56_20240327_11011               300.015  455.146  207158      nan                    207158\n",
      "GBM_5_AutoML_56_20240327_11011               300.489  447.339  200112      nan                    200112\n",
      "GBM_grid_1_AutoML_56_20240327_11011_model_1  303.097  445.074  198091      nan                    198091\n",
      "DRF_1_AutoML_56_20240327_11011               303.419  458.928  210615      nan                    210615\n",
      "GBM_grid_1_AutoML_56_20240327_11011_model_2  304.996  444.925  197958      nan                    197958\n",
      "GBM_grid_1_AutoML_56_20240327_11011_model_5  307.457  445.691  198641      nan                    198641\n",
      "[16 rows x 6 columns]\n",
      "\n",
      "Parse progress: |████████████████████████████████████████████████████████████████| (done) 100%\n",
      "gbm prediction progress: |███████████████████████████████████████████████████████| (done) 100%\n",
      "Mean error (+/-SE) = 300.95230115913915 (+/- 17.199984624438635)\n",
      "Parse progress: |"
     ]
    },
    {
     "name": "stderr",
     "output_type": "stream",
     "text": [
      "c:\\Users\\JohnvanOsta\\Documents\\GitHub\\ml4rt\\.venv\\Lib\\site-packages\\h2o\\frame.py:1979: H2ODependencyWarning: converting H2O frame to pandas dataframe using single-thread.  For faster conversion using multi-thread, install datatable (for Python 3.9 or lower), or polars and pyarrow (for Python 3.10 or above).\n",
      "  warnings.warn(\"converting H2O frame to pandas dataframe using single-thread.  For faster conversion using\"\n"
     ]
    },
    {
     "name": "stdout",
     "output_type": "stream",
     "text": [
      "████████████████████████████████████████████████████████████████| (done) 100%\n",
      "AutoML progress: |\n",
      "01:15:12.278: AutoML: XGBoost is not available; skipping it.\n",
      "\n",
      "███████████████████████████████████████████████████████████████| (done) 100%\n",
      "model_id                                         mae     rmse     mse    rmsle    mean_residual_deviance\n",
      "GBM_grid_1_AutoML_57_20240327_11512_model_4  257.758  373.415  139439      nan                    139439\n",
      "GBM_2_AutoML_57_20240327_11512               261.783  378.9    143566      nan                    143566\n",
      "GBM_5_AutoML_57_20240327_11512               262.718  379.229  143814      nan                    143814\n",
      "GBM_grid_1_AutoML_57_20240327_11512_model_1  264.986  379.311  143877      nan                    143877\n",
      "GBM_4_AutoML_57_20240327_11512               265.004  379.934  144350      nan                    144350\n",
      "GBM_grid_1_AutoML_57_20240327_11512_model_5  265.459  378.629  143360      nan                    143360\n",
      "GBM_3_AutoML_57_20240327_11512               265.739  382.795  146532      nan                    146532\n",
      "DRF_1_AutoML_57_20240327_11512               267.075  385.306  148461      nan                    148461\n",
      "XRT_1_AutoML_57_20240327_11512               268.072  389.9    152022      nan                    152022\n",
      "GBM_grid_1_AutoML_57_20240327_11512_model_2  269.688  380.39   144697      nan                    144697\n",
      "[16 rows x 6 columns]\n",
      "\n",
      "Parse progress: |████████████████████████████████████████████████████████████████| (done) 100%\n",
      "gbm prediction progress: |███████████████████████████████████████████████████████| (done) 100%\n",
      "Parse progress: |"
     ]
    },
    {
     "name": "stderr",
     "output_type": "stream",
     "text": [
      "c:\\Users\\JohnvanOsta\\Documents\\GitHub\\ml4rt\\.venv\\Lib\\site-packages\\h2o\\frame.py:1979: H2ODependencyWarning: converting H2O frame to pandas dataframe using single-thread.  For faster conversion using multi-thread, install datatable (for Python 3.9 or lower), or polars and pyarrow (for Python 3.10 or above).\n",
      "  warnings.warn(\"converting H2O frame to pandas dataframe using single-thread.  For faster conversion using\"\n"
     ]
    },
    {
     "name": "stdout",
     "output_type": "stream",
     "text": [
      "████████████████████████████████████████████████████████████████| (done) 100%\n",
      "AutoML progress: |\n",
      "01:20:14.513: AutoML: XGBoost is not available; skipping it.\n",
      "\n",
      "███████████████████████████████████████████████████████████████| (done) 100%\n",
      "model_id                                         mae     rmse     mse    rmsle    mean_residual_deviance\n",
      "GBM_grid_1_AutoML_58_20240327_12014_model_4  263.187  387.348  150039      nan                    150039\n",
      "GBM_5_AutoML_58_20240327_12014               263.499  388.031  150568      nan                    150568\n",
      "GBM_2_AutoML_58_20240327_12014               265.009  389.764  151916      nan                    151916\n",
      "GBM_3_AutoML_58_20240327_12014               266.677  391.282  153102      nan                    153102\n",
      "GBM_4_AutoML_58_20240327_12014               267.231  391.078  152942      nan                    152942\n",
      "GBM_grid_1_AutoML_58_20240327_12014_model_1  271.174  391.927  153607      nan                    153607\n",
      "GBM_grid_1_AutoML_58_20240327_12014_model_2  271.243  389.773  151923      nan                    151923\n",
      "XRT_1_AutoML_58_20240327_12014               271.628  406.956  165613      nan                    165613\n",
      "GBM_grid_1_AutoML_58_20240327_12014_model_5  271.862  388.165  150672      nan                    150672\n",
      "DRF_1_AutoML_58_20240327_12014               274.601  412.666  170293      nan                    170293\n",
      "[16 rows x 6 columns]\n",
      "\n",
      "Parse progress: |████████████████████████████████████████████████████████████████| (done) 100%\n",
      "gbm prediction progress: |███████████████████████████████████████████████████████| (done) 100%\n",
      "Mean error (+/-SE) = 311.4727055630321 (+/- 18.028871193103353)\n",
      "Parse progress: |"
     ]
    },
    {
     "name": "stderr",
     "output_type": "stream",
     "text": [
      "c:\\Users\\JohnvanOsta\\Documents\\GitHub\\ml4rt\\.venv\\Lib\\site-packages\\h2o\\frame.py:1979: H2ODependencyWarning: converting H2O frame to pandas dataframe using single-thread.  For faster conversion using multi-thread, install datatable (for Python 3.9 or lower), or polars and pyarrow (for Python 3.10 or above).\n",
      "  warnings.warn(\"converting H2O frame to pandas dataframe using single-thread.  For faster conversion using\"\n"
     ]
    },
    {
     "name": "stdout",
     "output_type": "stream",
     "text": [
      "████████████████████████████████████████████████████████████████| (done) 100%\n",
      "AutoML progress: |\n",
      "01:25:16.136: AutoML: XGBoost is not available; skipping it.\n",
      "\n",
      "███████████████████████████████████████████████████████████████| (done) 100%\n",
      "model_id                                         mae     rmse     mse    rmsle    mean_residual_deviance\n",
      "GBM_grid_1_AutoML_59_20240327_12516_model_4  263.856  401.755  161407      nan                    161407\n",
      "GBM_grid_1_AutoML_59_20240327_12516_model_1  266.071  400.284  160227      nan                    160227\n",
      "GBM_5_AutoML_59_20240327_12516               266.572  406.886  165556      nan                    165556\n",
      "GBM_2_AutoML_59_20240327_12516               268.021  408.282  166694      nan                    166694\n",
      "GBM_3_AutoML_59_20240327_12516               268.3    409.716  167867      nan                    167867\n",
      "GBM_4_AutoML_59_20240327_12516               268.569  409.336  167556      nan                    167556\n",
      "GBM_grid_1_AutoML_59_20240327_12516_model_5  269.874  405.77   164650      nan                    164650\n",
      "GBM_grid_1_AutoML_59_20240327_12516_model_2  270.189  402.785  162236      nan                    162236\n",
      "XRT_1_AutoML_59_20240327_12516               270.602  417.768  174530      nan                    174530\n",
      "GBM_grid_1_AutoML_59_20240327_12516_model_3  270.757  413.531  171008      nan                    171008\n",
      "[16 rows x 6 columns]\n",
      "\n",
      "Parse progress: |████████████████████████████████████████████████████████████████| (done) 100%\n",
      "gbm prediction progress: |███████████████████████████████████████████████████████| (done) 100%\n",
      "Parse progress: |"
     ]
    },
    {
     "name": "stderr",
     "output_type": "stream",
     "text": [
      "c:\\Users\\JohnvanOsta\\Documents\\GitHub\\ml4rt\\.venv\\Lib\\site-packages\\h2o\\frame.py:1979: H2ODependencyWarning: converting H2O frame to pandas dataframe using single-thread.  For faster conversion using multi-thread, install datatable (for Python 3.9 or lower), or polars and pyarrow (for Python 3.10 or above).\n",
      "  warnings.warn(\"converting H2O frame to pandas dataframe using single-thread.  For faster conversion using\"\n"
     ]
    },
    {
     "name": "stdout",
     "output_type": "stream",
     "text": [
      "████████████████████████████████████████████████████████████████| (done) 100%\n",
      "AutoML progress: |\n",
      "01:30:17.981: AutoML: XGBoost is not available; skipping it.\n",
      "\n",
      "███████████████████████████████████████████████████████████████| (done) 100%\n",
      "model_id                                         mae     rmse     mse    rmsle    mean_residual_deviance\n",
      "GBM_grid_1_AutoML_60_20240327_13017_model_4  277.873  423.103  179016      nan                    179016\n",
      "GBM_3_AutoML_60_20240327_13017               279.88   429.547  184511      nan                    184511\n",
      "GBM_4_AutoML_60_20240327_13017               280.109  428.03   183210      nan                    183210\n",
      "GBM_5_AutoML_60_20240327_13017               280.33   428.016  183198      nan                    183198\n",
      "GBM_2_AutoML_60_20240327_13017               281.64   431.868  186510      nan                    186510\n",
      "GBM_grid_1_AutoML_60_20240327_13017_model_2  285.61   431.022  185780      nan                    185780\n",
      "GBM_grid_1_AutoML_60_20240327_13017_model_5  287.477  432.485  187043      nan                    187043\n",
      "GBM_grid_1_AutoML_60_20240327_13017_model_1  287.566  434.026  188379      nan                    188379\n",
      "XRT_1_AutoML_60_20240327_13017               288.722  442.844  196111      nan                    196111\n",
      "DRF_1_AutoML_60_20240327_13017               290.744  447.09   199889      nan                    199889\n",
      "[16 rows x 6 columns]\n",
      "\n",
      "Parse progress: |████████████████████████████████████████████████████████████████| (done) 100%\n",
      "gbm prediction progress: |███████████████████████████████████████████████████████| (done) 100%\n",
      "Mean error (+/-SE) = 304.61755546013296 (+/- 17.931027938932576)\n",
      "Parse progress: |"
     ]
    },
    {
     "name": "stderr",
     "output_type": "stream",
     "text": [
      "c:\\Users\\JohnvanOsta\\Documents\\GitHub\\ml4rt\\.venv\\Lib\\site-packages\\h2o\\frame.py:1979: H2ODependencyWarning: converting H2O frame to pandas dataframe using single-thread.  For faster conversion using multi-thread, install datatable (for Python 3.9 or lower), or polars and pyarrow (for Python 3.10 or above).\n",
      "  warnings.warn(\"converting H2O frame to pandas dataframe using single-thread.  For faster conversion using\"\n"
     ]
    },
    {
     "name": "stdout",
     "output_type": "stream",
     "text": [
      "████████████████████████████████████████████████████████████████| (done) 100%\n",
      "AutoML progress: |\n",
      "01:35:19.645: AutoML: XGBoost is not available; skipping it.\n",
      "\n",
      "███████████████████████████████████████████████████████████████| (done) 100%\n",
      "model_id                                         mae     rmse     mse    rmsle    mean_residual_deviance\n",
      "GBM_grid_1_AutoML_61_20240327_13519_model_4  262.696  399.125  159301      nan                    159301\n",
      "GBM_2_AutoML_61_20240327_13519               263.471  402.403  161928      nan                    161928\n",
      "GBM_5_AutoML_61_20240327_13519               266.366  401.341  161075      nan                    161075\n",
      "GBM_grid_1_AutoML_61_20240327_13519_model_1  268.028  401.481  161187      nan                    161187\n",
      "GBM_3_AutoML_61_20240327_13519               268.321  408.055  166509      nan                    166509\n",
      "GBM_4_AutoML_61_20240327_13519               270.457  408.989  167272      nan                    167272\n",
      "GBM_grid_1_AutoML_61_20240327_13519_model_5  271.178  408.081  166530      nan                    166530\n",
      "XRT_1_AutoML_61_20240327_13519               271.66   416.002  173058      nan                    173058\n",
      "GBM_grid_1_AutoML_61_20240327_13519_model_2  274.128  408.007  166470      nan                    166470\n",
      "DRF_1_AutoML_61_20240327_13519               274.405  423.832  179634      nan                    179634\n",
      "[16 rows x 6 columns]\n",
      "\n",
      "Parse progress: |████████████████████████████████████████████████████████████████| (done) 100%\n",
      "gbm prediction progress: |███████████████████████████████████████████████████████| (done) 100%\n",
      "Parse progress: |"
     ]
    },
    {
     "name": "stderr",
     "output_type": "stream",
     "text": [
      "c:\\Users\\JohnvanOsta\\Documents\\GitHub\\ml4rt\\.venv\\Lib\\site-packages\\h2o\\frame.py:1979: H2ODependencyWarning: converting H2O frame to pandas dataframe using single-thread.  For faster conversion using multi-thread, install datatable (for Python 3.9 or lower), or polars and pyarrow (for Python 3.10 or above).\n",
      "  warnings.warn(\"converting H2O frame to pandas dataframe using single-thread.  For faster conversion using\"\n"
     ]
    },
    {
     "name": "stdout",
     "output_type": "stream",
     "text": [
      "████████████████████████████████████████████████████████████████| (done) 100%\n",
      "AutoML progress: |\n",
      "01:40:21.302: AutoML: XGBoost is not available; skipping it.\n",
      "\n",
      "███████████████████████████████████████████████████████████████| (done) 100%\n",
      "model_id                                         mae     rmse     mse    rmsle    mean_residual_deviance\n",
      "GBM_grid_1_AutoML_62_20240327_14021_model_4  260.952  398.286  158631      nan                    158631\n",
      "GBM_2_AutoML_62_20240327_14021               261.072  401.196  160958      nan                    160958\n",
      "GBM_3_AutoML_62_20240327_14021               261.343  399.897  159917      nan                    159917\n",
      "GBM_4_AutoML_62_20240327_14021               261.747  400.589  160472      nan                    160472\n",
      "GBM_5_AutoML_62_20240327_14021               263.386  403.808  163061      nan                    163061\n",
      "XRT_1_AutoML_62_20240327_14021               269.652  418.994  175556      nan                    175556\n",
      "GBM_grid_1_AutoML_62_20240327_14021_model_1  270.354  405.438  164380      nan                    164380\n",
      "DRF_1_AutoML_62_20240327_14021               270.741  414.974  172204      nan                    172204\n",
      "GBM_grid_1_AutoML_62_20240327_14021_model_2  271.779  404.423  163558      nan                    163558\n",
      "GBM_grid_1_AutoML_62_20240327_14021_model_5  274.043  408.163  166597      nan                    166597\n",
      "[16 rows x 6 columns]\n",
      "\n",
      "Parse progress: |████████████████████████████████████████████████████████████████| (done) 100%\n",
      "gbm prediction progress: |███████████████████████████████████████████████████████| (done) 100%\n",
      "Mean error (+/-SE) = 312.5811752900093 (+/- 18.179263549810216)\n",
      "Parse progress: |"
     ]
    },
    {
     "name": "stderr",
     "output_type": "stream",
     "text": [
      "c:\\Users\\JohnvanOsta\\Documents\\GitHub\\ml4rt\\.venv\\Lib\\site-packages\\h2o\\frame.py:1979: H2ODependencyWarning: converting H2O frame to pandas dataframe using single-thread.  For faster conversion using multi-thread, install datatable (for Python 3.9 or lower), or polars and pyarrow (for Python 3.10 or above).\n",
      "  warnings.warn(\"converting H2O frame to pandas dataframe using single-thread.  For faster conversion using\"\n"
     ]
    },
    {
     "name": "stdout",
     "output_type": "stream",
     "text": [
      "████████████████████████████████████████████████████████████████| (done) 100%\n",
      "AutoML progress: |\n",
      "01:45:23.570: AutoML: XGBoost is not available; skipping it.\n",
      "\n",
      "███████████████████████████████████████████████████████████████| (done) 100%\n",
      "model_id                                         mae     rmse     mse    rmsle    mean_residual_deviance\n",
      "GBM_grid_1_AutoML_63_20240327_14523_model_4  278.322  413.273  170795      nan                    170795\n",
      "GBM_5_AutoML_63_20240327_14523               279.255  416.323  173325      nan                    173325\n",
      "GBM_grid_1_AutoML_63_20240327_14523_model_1  280.806  413.907  171319      nan                    171319\n",
      "GBM_2_AutoML_63_20240327_14523               281.078  415.943  173009      nan                    173009\n",
      "GBM_3_AutoML_63_20240327_14523               282.37   417.705  174477      nan                    174477\n",
      "GBM_4_AutoML_63_20240327_14523               284.064  419.177  175709      nan                    175709\n",
      "GBM_grid_1_AutoML_63_20240327_14523_model_5  284.265  416.792  173716      nan                    173716\n",
      "GBM_grid_1_AutoML_63_20240327_14523_model_2  284.996  416.733  173666      nan                    173666\n",
      "GBM_grid_1_AutoML_63_20240327_14523_model_3  286.532  425.755  181267      nan                    181267\n",
      "XRT_1_AutoML_63_20240327_14523               290.044  434.621  188895      nan                    188895\n",
      "[16 rows x 6 columns]\n",
      "\n",
      "Parse progress: |████████████████████████████████████████████████████████████████| (done) 100%\n",
      "gbm prediction progress: |███████████████████████████████████████████████████████| (done) 100%\n",
      "Parse progress: |"
     ]
    },
    {
     "name": "stderr",
     "output_type": "stream",
     "text": [
      "c:\\Users\\JohnvanOsta\\Documents\\GitHub\\ml4rt\\.venv\\Lib\\site-packages\\h2o\\frame.py:1979: H2ODependencyWarning: converting H2O frame to pandas dataframe using single-thread.  For faster conversion using multi-thread, install datatable (for Python 3.9 or lower), or polars and pyarrow (for Python 3.10 or above).\n",
      "  warnings.warn(\"converting H2O frame to pandas dataframe using single-thread.  For faster conversion using\"\n"
     ]
    },
    {
     "name": "stdout",
     "output_type": "stream",
     "text": [
      "████████████████████████████████████████████████████████████████| (done) 100%\n",
      "AutoML progress: |\n",
      "01:50:25.825: AutoML: XGBoost is not available; skipping it.\n",
      "\n",
      "███████████████████████████████████████████████████████████████| (done) 100%\n",
      "model_id                                         mae     rmse     mse    rmsle    mean_residual_deviance\n",
      "GBM_grid_1_AutoML_64_20240327_15025_model_4  295.719  441.629  195036      nan                    195036\n",
      "GBM_5_AutoML_64_20240327_15025               297.702  445.403  198384      nan                    198384\n",
      "GBM_3_AutoML_64_20240327_15025               300.451  446.062  198972      nan                    198972\n",
      "GBM_2_AutoML_64_20240327_15025               302.204  448.842  201459      nan                    201459\n",
      "GBM_4_AutoML_64_20240327_15025               302.326  448.954  201559      nan                    201559\n",
      "XRT_1_AutoML_64_20240327_15025               304.312  459.098  210771      nan                    210771\n",
      "GBM_grid_1_AutoML_64_20240327_15025_model_1  305.995  447.324  200099      nan                    200099\n",
      "DRF_1_AutoML_64_20240327_15025               306.561  463.822  215131      nan                    215131\n",
      "GBM_grid_1_AutoML_64_20240327_15025_model_5  307.382  446.941  199757      nan                    199757\n",
      "GBM_grid_1_AutoML_64_20240327_15025_model_2  308.609  448.93   201538      nan                    201538\n",
      "[16 rows x 6 columns]\n",
      "\n",
      "Parse progress: |████████████████████████████████████████████████████████████████| (done) 100%\n",
      "gbm prediction progress: |███████████████████████████████████████████████████████| (done) 100%\n",
      "Mean error (+/-SE) = 310.1452606983288 (+/- 18.72292495468231)\n",
      "Parse progress: |"
     ]
    },
    {
     "name": "stderr",
     "output_type": "stream",
     "text": [
      "c:\\Users\\JohnvanOsta\\Documents\\GitHub\\ml4rt\\.venv\\Lib\\site-packages\\h2o\\frame.py:1979: H2ODependencyWarning: converting H2O frame to pandas dataframe using single-thread.  For faster conversion using multi-thread, install datatable (for Python 3.9 or lower), or polars and pyarrow (for Python 3.10 or above).\n",
      "  warnings.warn(\"converting H2O frame to pandas dataframe using single-thread.  For faster conversion using\"\n"
     ]
    },
    {
     "name": "stdout",
     "output_type": "stream",
     "text": [
      "████████████████████████████████████████████████████████████████| (done) 100%\n",
      "AutoML progress: |\n",
      "01:55:27.501: AutoML: XGBoost is not available; skipping it.\n",
      "\n",
      "███████████████████████████████████████████████████████████████| (done) 100%\n",
      "model_id                                         mae     rmse     mse    rmsle    mean_residual_deviance\n",
      "GBM_grid_1_AutoML_65_20240327_15527_model_4  276.465  409.292  167520      nan                    167520\n",
      "GBM_grid_1_AutoML_65_20240327_15527_model_1  278.931  410.93   168863      nan                    168863\n",
      "GBM_5_AutoML_65_20240327_15527               279.016  412.593  170233      nan                    170233\n",
      "GBM_2_AutoML_65_20240327_15527               279.096  413.158  170700      nan                    170700\n",
      "GBM_grid_1_AutoML_65_20240327_15527_model_5  279.667  411.647  169453      nan                    169453\n",
      "GBM_3_AutoML_65_20240327_15527               279.719  411.857  169626      nan                    169626\n",
      "GBM_4_AutoML_65_20240327_15527               281.331  415.541  172674      nan                    172674\n",
      "GBM_grid_1_AutoML_65_20240327_15527_model_2  282.475  413.446  170938      nan                    170938\n",
      "XRT_1_AutoML_65_20240327_15527               284.136  429.352  184344      nan                    184344\n",
      "DRF_1_AutoML_65_20240327_15527               288.419  434.224  188550      nan                    188550\n",
      "[16 rows x 6 columns]\n",
      "\n",
      "Parse progress: |████████████████████████████████████████████████████████████████| (done) 100%\n",
      "gbm prediction progress: |███████████████████████████████████████████████████████| (done) 100%\n",
      "Parse progress: |"
     ]
    },
    {
     "name": "stderr",
     "output_type": "stream",
     "text": [
      "c:\\Users\\JohnvanOsta\\Documents\\GitHub\\ml4rt\\.venv\\Lib\\site-packages\\h2o\\frame.py:1979: H2ODependencyWarning: converting H2O frame to pandas dataframe using single-thread.  For faster conversion using multi-thread, install datatable (for Python 3.9 or lower), or polars and pyarrow (for Python 3.10 or above).\n",
      "  warnings.warn(\"converting H2O frame to pandas dataframe using single-thread.  For faster conversion using\"\n"
     ]
    },
    {
     "name": "stdout",
     "output_type": "stream",
     "text": [
      "████████████████████████████████████████████████████████████████| (done) 100%\n",
      "AutoML progress: |\n",
      "02:00:28.539: AutoML: XGBoost is not available; skipping it.\n",
      "\n",
      "███████████████████████████████████████████████████████████████| (done) 100%\n",
      "model_id                                         mae     rmse     mse    rmsle    mean_residual_deviance\n",
      "GBM_grid_1_AutoML_66_20240327_20028_model_4  289.305  436.495  190528      nan                    190528\n",
      "GBM_2_AutoML_66_20240327_20028               291.107  435.651  189791      nan                    189791\n",
      "GBM_5_AutoML_66_20240327_20028               291.248  439.251  192941      nan                    192941\n",
      "GBM_4_AutoML_66_20240327_20028               291.746  436.935  190912      nan                    190912\n",
      "GBM_3_AutoML_66_20240327_20028               292.114  436.917  190897      nan                    190897\n",
      "GBM_grid_1_AutoML_66_20240327_20028_model_1  296.337  438.376  192174      nan                    192174\n",
      "GBM_grid_1_AutoML_66_20240327_20028_model_5  296.958  434.138  188475      nan                    188475\n",
      "GBM_grid_1_AutoML_66_20240327_20028_model_2  297.289  436.475  190511      nan                    190511\n",
      "XRT_1_AutoML_66_20240327_20028               298.627  455.003  207028      nan                    207028\n",
      "DRF_1_AutoML_66_20240327_20028               300.554  457.217  209047      nan                    209047\n",
      "[16 rows x 6 columns]\n",
      "\n",
      "Parse progress: |████████████████████████████████████████████████████████████████| (done) 100%\n",
      "gbm prediction progress: |███████████████████████████████████████████████████████| (done) 100%\n",
      "Mean error (+/-SE) = 304.2697505343414 (+/- 16.93679220014496)\n",
      "Parse progress: |"
     ]
    },
    {
     "name": "stderr",
     "output_type": "stream",
     "text": [
      "c:\\Users\\JohnvanOsta\\Documents\\GitHub\\ml4rt\\.venv\\Lib\\site-packages\\h2o\\frame.py:1979: H2ODependencyWarning: converting H2O frame to pandas dataframe using single-thread.  For faster conversion using multi-thread, install datatable (for Python 3.9 or lower), or polars and pyarrow (for Python 3.10 or above).\n",
      "  warnings.warn(\"converting H2O frame to pandas dataframe using single-thread.  For faster conversion using\"\n"
     ]
    },
    {
     "name": "stdout",
     "output_type": "stream",
     "text": [
      "████████████████████████████████████████████████████████████████| (done) 100%\n",
      "AutoML progress: |\n",
      "02:05:29.706: AutoML: XGBoost is not available; skipping it.\n",
      "\n",
      "███████████████████████████████████████████████████████████████| (done) 100%\n",
      "model_id                                         mae     rmse     mse    rmsle    mean_residual_deviance\n",
      "GBM_grid_1_AutoML_67_20240327_20529_model_4  269.135  401.01   160809      nan                    160809\n",
      "GBM_5_AutoML_67_20240327_20529               272.639  404.369  163515      nan                    163515\n",
      "GBM_grid_1_AutoML_67_20240327_20529_model_5  272.918  403.973  163194      nan                    163194\n",
      "GBM_2_AutoML_67_20240327_20529               273.621  406.525  165263      nan                    165263\n",
      "GBM_grid_1_AutoML_67_20240327_20529_model_1  274.78   405.11   164114      nan                    164114\n",
      "GBM_3_AutoML_67_20240327_20529               275.22   408.526  166893      nan                    166893\n",
      "GBM_4_AutoML_67_20240327_20529               278.639  409.266  167499      nan                    167499\n",
      "DRF_1_AutoML_67_20240327_20529               279.025  419.613  176075      nan                    176075\n",
      "GBM_grid_1_AutoML_67_20240327_20529_model_2  279.568  408.449  166830      nan                    166830\n",
      "XRT_1_AutoML_67_20240327_20529               280.548  421.707  177837      nan                    177837\n",
      "[16 rows x 6 columns]\n",
      "\n",
      "Parse progress: |████████████████████████████████████████████████████████████████| (done) 100%\n",
      "gbm prediction progress: |███████████████████████████████████████████████████████| (done) 100%\n",
      "Parse progress: |"
     ]
    },
    {
     "name": "stderr",
     "output_type": "stream",
     "text": [
      "c:\\Users\\JohnvanOsta\\Documents\\GitHub\\ml4rt\\.venv\\Lib\\site-packages\\h2o\\frame.py:1979: H2ODependencyWarning: converting H2O frame to pandas dataframe using single-thread.  For faster conversion using multi-thread, install datatable (for Python 3.9 or lower), or polars and pyarrow (for Python 3.10 or above).\n",
      "  warnings.warn(\"converting H2O frame to pandas dataframe using single-thread.  For faster conversion using\"\n"
     ]
    },
    {
     "name": "stdout",
     "output_type": "stream",
     "text": [
      "████████████████████████████████████████████████████████████████| (done) 100%\n",
      "AutoML progress: |\n",
      "02:10:30.908: AutoML: XGBoost is not available; skipping it.\n",
      "\n",
      "███████████████████████████████████████████████████████████████| (done) 100%\n",
      "model_id                                         mae     rmse     mse    rmsle    mean_residual_deviance\n",
      "GBM_2_AutoML_68_20240327_21030               281.342  427.95   183142      nan                    183142\n",
      "GBM_grid_1_AutoML_68_20240327_21030_model_4  281.985  430.316  185172      nan                    185172\n",
      "GBM_5_AutoML_68_20240327_21030               283.034  430.025  184921      nan                    184921\n",
      "GBM_3_AutoML_68_20240327_21030               283.958  432.315  186896      nan                    186896\n",
      "GBM_4_AutoML_68_20240327_21030               284.385  427.99   183176      nan                    183176\n",
      "DRF_1_AutoML_68_20240327_21030               288.252  449.144  201730      nan                    201730\n",
      "GBM_grid_1_AutoML_68_20240327_21030_model_1  289.279  432.053  186670      nan                    186670\n",
      "GBM_grid_1_AutoML_68_20240327_21030_model_2  289.614  431.014  185773      nan                    185773\n",
      "GBM_grid_1_AutoML_68_20240327_21030_model_5  290.386  432.16   186762      nan                    186762\n",
      "XRT_1_AutoML_68_20240327_21030               292.042  449.472  202025      nan                    202025\n",
      "[16 rows x 6 columns]\n",
      "\n",
      "Parse progress: |████████████████████████████████████████████████████████████████| (done) 100%\n",
      "gbm prediction progress: |███████████████████████████████████████████████████████| (done) 100%\n",
      "Mean error (+/-SE) = 315.887964242586 (+/- 18.249051209104252)\n",
      "Parse progress: |"
     ]
    },
    {
     "name": "stderr",
     "output_type": "stream",
     "text": [
      "c:\\Users\\JohnvanOsta\\Documents\\GitHub\\ml4rt\\.venv\\Lib\\site-packages\\h2o\\frame.py:1979: H2ODependencyWarning: converting H2O frame to pandas dataframe using single-thread.  For faster conversion using multi-thread, install datatable (for Python 3.9 or lower), or polars and pyarrow (for Python 3.10 or above).\n",
      "  warnings.warn(\"converting H2O frame to pandas dataframe using single-thread.  For faster conversion using\"\n"
     ]
    },
    {
     "name": "stdout",
     "output_type": "stream",
     "text": [
      "████████████████████████████████████████████████████████████████| (done) 100%\n",
      "AutoML progress: |\n",
      "02:15:32.571: AutoML: XGBoost is not available; skipping it.\n",
      "\n",
      "███████████████████████████████████████████████████████████████| (done) 100%\n",
      "model_id                                         mae     rmse     mse    rmsle    mean_residual_deviance\n",
      "GBM_grid_1_AutoML_69_20240327_21532_model_4  275.58   410.067  168155      nan                    168155\n",
      "GBM_grid_1_AutoML_69_20240327_21532_model_1  280.242  413.973  171373      nan                    171373\n",
      "GBM_grid_1_AutoML_69_20240327_21532_model_5  280.412  412.213  169919      nan                    169919\n",
      "GBM_2_AutoML_69_20240327_21532               281.322  416.793  173717      nan                    173717\n",
      "GBM_3_AutoML_69_20240327_21532               281.574  416.746  173677      nan                    173677\n",
      "GBM_5_AutoML_69_20240327_21532               282.31   418.844  175430      nan                    175430\n",
      "GBM_4_AutoML_69_20240327_21532               282.649  417.593  174384      nan                    174384\n",
      "GBM_grid_1_AutoML_69_20240327_21532_model_2  283.285  416.142  173174      nan                    173174\n",
      "XRT_1_AutoML_69_20240327_21532               284.348  429.432  184412      nan                    184412\n",
      "DRF_1_AutoML_69_20240327_21532               285.821  431.278  186001      nan                    186001\n",
      "[16 rows x 6 columns]\n",
      "\n",
      "Parse progress: |████████████████████████████████████████████████████████████████| (done) 100%\n",
      "gbm prediction progress: |███████████████████████████████████████████████████████| (done) 100%\n",
      "Parse progress: |"
     ]
    },
    {
     "name": "stderr",
     "output_type": "stream",
     "text": [
      "c:\\Users\\JohnvanOsta\\Documents\\GitHub\\ml4rt\\.venv\\Lib\\site-packages\\h2o\\frame.py:1979: H2ODependencyWarning: converting H2O frame to pandas dataframe using single-thread.  For faster conversion using multi-thread, install datatable (for Python 3.9 or lower), or polars and pyarrow (for Python 3.10 or above).\n",
      "  warnings.warn(\"converting H2O frame to pandas dataframe using single-thread.  For faster conversion using\"\n"
     ]
    },
    {
     "name": "stdout",
     "output_type": "stream",
     "text": [
      "████████████████████████████████████████████████████████████████| (done) 100%\n",
      "AutoML progress: |\n",
      "02:20:34.204: AutoML: XGBoost is not available; skipping it.\n",
      "\n",
      "███████████████████████████████████████████████████████████████| (done) 100%\n",
      "model_id                                         mae     rmse     mse    rmsle    mean_residual_deviance\n",
      "GBM_grid_1_AutoML_70_20240327_22034_model_4  287.94   431.827  186475      nan                    186475\n",
      "GBM_5_AutoML_70_20240327_22034               288.488  430.034  184929      nan                    184929\n",
      "GBM_2_AutoML_70_20240327_22034               289.374  428.09   183261      nan                    183261\n",
      "GBM_3_AutoML_70_20240327_22034               289.539  429.673  184619      nan                    184619\n",
      "GBM_4_AutoML_70_20240327_22034               290.876  431.652  186324      nan                    186324\n",
      "XRT_1_AutoML_70_20240327_22034               295.236  447.443  200206      nan                    200206\n",
      "GBM_grid_1_AutoML_70_20240327_22034_model_1  295.947  432.813  187327      nan                    187327\n",
      "GBM_grid_1_AutoML_70_20240327_22034_model_2  296.102  430.799  185587      nan                    185587\n",
      "GBM_grid_1_AutoML_70_20240327_22034_model_5  296.127  430.513  185342      nan                    185342\n",
      "DRF_1_AutoML_70_20240327_22034               297.424  454.661  206717      nan                    206717\n",
      "[16 rows x 6 columns]\n",
      "\n",
      "Parse progress: |████████████████████████████████████████████████████████████████| (done) 100%\n",
      "gbm prediction progress: |███████████████████████████████████████████████████████| (done) 100%\n",
      "Mean error (+/-SE) = 308.06889669943416 (+/- 18.12474627098763)\n",
      "Parse progress: |"
     ]
    },
    {
     "name": "stderr",
     "output_type": "stream",
     "text": [
      "c:\\Users\\JohnvanOsta\\Documents\\GitHub\\ml4rt\\.venv\\Lib\\site-packages\\h2o\\frame.py:1979: H2ODependencyWarning: converting H2O frame to pandas dataframe using single-thread.  For faster conversion using multi-thread, install datatable (for Python 3.9 or lower), or polars and pyarrow (for Python 3.10 or above).\n",
      "  warnings.warn(\"converting H2O frame to pandas dataframe using single-thread.  For faster conversion using\"\n"
     ]
    },
    {
     "name": "stdout",
     "output_type": "stream",
     "text": [
      "████████████████████████████████████████████████████████████████| (done) 100%\n",
      "AutoML progress: |\n",
      "02:25:35.278: AutoML: XGBoost is not available; skipping it.\n",
      "\n",
      "███████████████████████████████████████████████████████████████| (done) 100%\n",
      "model_id                                         mae     rmse     mse    rmsle    mean_residual_deviance\n",
      "GBM_grid_1_AutoML_71_20240327_22535_model_4  266.612  392.434  154005      nan                    154005\n",
      "GBM_5_AutoML_71_20240327_22535               268.904  397.538  158036      nan                    158036\n",
      "GBM_2_AutoML_71_20240327_22535               269.025  395.776  156639      nan                    156639\n",
      "GBM_grid_1_AutoML_71_20240327_22535_model_1  270.014  394.889  155937      nan                    155937\n",
      "GBM_3_AutoML_71_20240327_22535               271.76   399.829  159863      nan                    159863\n",
      "GBM_grid_1_AutoML_71_20240327_22535_model_5  272.519  397.846  158281      nan                    158281\n",
      "GBM_grid_1_AutoML_71_20240327_22535_model_2  273.933  398.895  159117      nan                    159117\n",
      "GBM_4_AutoML_71_20240327_22535               274.845  402.763  162218      nan                    162218\n",
      "DRF_1_AutoML_71_20240327_22535               275.227  412.149  169867      nan                    169867\n",
      "GBM_grid_1_AutoML_71_20240327_22535_model_3  275.25   405.433  164376      nan                    164376\n",
      "[16 rows x 6 columns]\n",
      "\n",
      "Parse progress: |████████████████████████████████████████████████████████████████| (done) 100%\n",
      "gbm prediction progress: |███████████████████████████████████████████████████████| (done) 100%\n",
      "Parse progress: |"
     ]
    },
    {
     "name": "stderr",
     "output_type": "stream",
     "text": [
      "c:\\Users\\JohnvanOsta\\Documents\\GitHub\\ml4rt\\.venv\\Lib\\site-packages\\h2o\\frame.py:1979: H2ODependencyWarning: converting H2O frame to pandas dataframe using single-thread.  For faster conversion using multi-thread, install datatable (for Python 3.9 or lower), or polars and pyarrow (for Python 3.10 or above).\n",
      "  warnings.warn(\"converting H2O frame to pandas dataframe using single-thread.  For faster conversion using\"\n"
     ]
    },
    {
     "name": "stdout",
     "output_type": "stream",
     "text": [
      "████████████████████████████████████████████████████████████████| (done) 100%\n",
      "AutoML progress: |\n",
      "02:30:36.971: AutoML: XGBoost is not available; skipping it.\n",
      "\n",
      "███████████████████████████████████████████████████████████████| (done) 100%\n",
      "model_id                                         mae     rmse     mse    rmsle    mean_residual_deviance\n",
      "GBM_grid_1_AutoML_72_20240327_23036_model_4  281.989  425.349  180922      nan                    180922\n",
      "GBM_5_AutoML_72_20240327_23036               284.21   425.938  181423      nan                    181423\n",
      "GBM_2_AutoML_72_20240327_23036               286.253  427.111  182424      nan                    182424\n",
      "GBM_3_AutoML_72_20240327_23036               286.379  427.507  182762      nan                    182762\n",
      "GBM_4_AutoML_72_20240327_23036               288.383  432.396  186967      nan                    186967\n",
      "GBM_grid_1_AutoML_72_20240327_23036_model_1  291.032  428.961  184008      nan                    184008\n",
      "GBM_grid_1_AutoML_72_20240327_23036_model_2  291.892  428.589  183688      nan                    183688\n",
      "XRT_1_AutoML_72_20240327_23036               292.756  445.765  198706      nan                    198706\n",
      "GBM_grid_1_AutoML_72_20240327_23036_model_5  293.28   431.295  186016      nan                    186016\n",
      "DRF_1_AutoML_72_20240327_23036               294.462  449.855  202370      nan                    202370\n",
      "[16 rows x 6 columns]\n",
      "\n",
      "Parse progress: |████████████████████████████████████████████████████████████████| (done) 100%\n",
      "gbm prediction progress: |███████████████████████████████████████████████████████| (done) 100%\n",
      "Mean error (+/-SE) = 313.5128878163696 (+/- 18.244907635292144)\n",
      "Parse progress: |"
     ]
    },
    {
     "name": "stderr",
     "output_type": "stream",
     "text": [
      "c:\\Users\\JohnvanOsta\\Documents\\GitHub\\ml4rt\\.venv\\Lib\\site-packages\\h2o\\frame.py:1979: H2ODependencyWarning: converting H2O frame to pandas dataframe using single-thread.  For faster conversion using multi-thread, install datatable (for Python 3.9 or lower), or polars and pyarrow (for Python 3.10 or above).\n",
      "  warnings.warn(\"converting H2O frame to pandas dataframe using single-thread.  For faster conversion using\"\n"
     ]
    },
    {
     "name": "stdout",
     "output_type": "stream",
     "text": [
      "████████████████████████████████████████████████████████████████| (done) 100%\n",
      "AutoML progress: |\n",
      "02:35:38.667: AutoML: XGBoost is not available; skipping it.\n",
      "\n",
      "███████████████████████████████████████████████████████████████| (done) 100%\n",
      "model_id                                         mae     rmse     mse    rmsle    mean_residual_deviance\n",
      "GBM_grid_1_AutoML_73_20240327_23538_model_4  267.833  398.265  158615      nan                    158615\n",
      "GBM_2_AutoML_73_20240327_23538               273.453  404.931  163969      nan                    163969\n",
      "GBM_grid_1_AutoML_73_20240327_23538_model_1  273.495  402.917  162342      nan                    162342\n",
      "GBM_grid_1_AutoML_73_20240327_23538_model_5  273.525  403.425  162752      nan                    162752\n",
      "GBM_3_AutoML_73_20240327_23538               275.11   407.704  166222      nan                    166222\n",
      "GBM_5_AutoML_73_20240327_23538               275.721  408.403  166793      nan                    166793\n",
      "GBM_4_AutoML_73_20240327_23538               276.78   408.778  167099      nan                    167099\n",
      "GBM_grid_1_AutoML_73_20240327_23538_model_2  277.657  406.438  165192      nan                    165192\n",
      "XRT_1_AutoML_73_20240327_23538               279.318  420.609  176912      nan                    176912\n",
      "GBM_grid_1_AutoML_73_20240327_23538_model_3  280.419  418.335  175004      nan                    175004\n",
      "[16 rows x 6 columns]\n",
      "\n",
      "Parse progress: |████████████████████████████████████████████████████████████████| (done) 100%\n",
      "gbm prediction progress: |███████████████████████████████████████████████████████| (done) 100%\n",
      "Parse progress: |"
     ]
    },
    {
     "name": "stderr",
     "output_type": "stream",
     "text": [
      "c:\\Users\\JohnvanOsta\\Documents\\GitHub\\ml4rt\\.venv\\Lib\\site-packages\\h2o\\frame.py:1979: H2ODependencyWarning: converting H2O frame to pandas dataframe using single-thread.  For faster conversion using multi-thread, install datatable (for Python 3.9 or lower), or polars and pyarrow (for Python 3.10 or above).\n",
      "  warnings.warn(\"converting H2O frame to pandas dataframe using single-thread.  For faster conversion using\"\n"
     ]
    },
    {
     "name": "stdout",
     "output_type": "stream",
     "text": [
      "████████████████████████████████████████████████████████████████| (done) 100%\n",
      "AutoML progress: |\n",
      "02:40:40.591: AutoML: XGBoost is not available; skipping it.\n",
      "\n",
      "███████████████████████████████████████████████████████████████| (done) 100%\n",
      "model_id                                         mae     rmse     mse    rmsle    mean_residual_deviance\n",
      "GBM_3_AutoML_74_20240327_24040               285.893  429.658  184606      nan                    184606\n",
      "GBM_grid_1_AutoML_74_20240327_24040_model_4  286.338  428.935  183986      nan                    183986\n",
      "GBM_2_AutoML_74_20240327_24040               286.432  428.883  183941      nan                    183941\n",
      "GBM_5_AutoML_74_20240327_24040               286.919  428.204  183358      nan                    183358\n",
      "GBM_4_AutoML_74_20240327_24040               290.122  432.926  187425      nan                    187425\n",
      "GBM_grid_1_AutoML_74_20240327_24040_model_5  292.738  428.324  183461      nan                    183461\n",
      "XRT_1_AutoML_74_20240327_24040               293.233  444.379  197472      nan                    197472\n",
      "GBM_grid_1_AutoML_74_20240327_24040_model_2  293.431  429.012  184051      nan                    184051\n",
      "GBM_grid_1_AutoML_74_20240327_24040_model_1  294.417  432.8    187316      nan                    187316\n",
      "DRF_1_AutoML_74_20240327_24040               295.573  450.05   202545      nan                    202545\n",
      "[16 rows x 6 columns]\n",
      "\n",
      "Parse progress: |████████████████████████████████████████████████████████████████| (done) 100%\n",
      "gbm prediction progress: |███████████████████████████████████████████████████████| (done) 100%\n",
      "Mean error (+/-SE) = 311.02808753755744 (+/- 17.113923267581676)\n",
      "H2O session _sid_8171 closed.\n"
     ]
    },
    {
     "name": "stderr",
     "output_type": "stream",
     "text": [
      "c:\\Users\\JohnvanOsta\\Documents\\GitHub\\ml4rt\\.venv\\Lib\\site-packages\\h2o\\frame.py:1979: H2ODependencyWarning: converting H2O frame to pandas dataframe using single-thread.  For faster conversion using multi-thread, install datatable (for Python 3.9 or lower), or polars and pyarrow (for Python 3.10 or above).\n",
      "  warnings.warn(\"converting H2O frame to pandas dataframe using single-thread.  For faster conversion using\"\n"
     ]
    }
   ],
   "source": [
    "# Preprocess the training and testing data\n",
    "train_data_preproc, predictors_train = preprocess_sim_data(train_data, freq, tower_locs, routine)\n",
    "test_data_preproc, predictors_test = preprocess_sim_data(test_data, freq, tower_locs, routine)\n",
    "\n",
    "unique_ids = train_data_preproc['Point_ID'].unique().tolist()\n",
    "\n",
    "# Initialise h2o\n",
    "h2o.init(nthreads = 2)\n",
    "\n",
    "# For loop to sample training data, train, and test the models and export the result\n",
    "train_data_length = len(unique_ids)\n",
    "n = 5\n",
    "run = 1\n",
    "\n",
    "while n <= train_data_length:\n",
    "    # Create a random subset of the training dataframe based on random Point_IDs, with the number of points equal to n\n",
    "    random.shuffle(unique_ids)\n",
    "    subset = unique_ids[:n]\n",
    "    train_data_preproc_sample = train_data_preproc[train_data_preproc['Point_ID'].isin(subset)]\n",
    "\n",
    "    test_data_preproc_n = test_data_preproc.copy()\n",
    "    results = []\n",
    "\n",
    "    # Train, save and test the models for each dimension\n",
    "    for dimension in dimensions:\n",
    "        # print(f\"Training model for {dimension}\")\n",
    "        # Train the model\n",
    "        variables = predictors_train + [dimension]\n",
    "        training_input = train_data_preproc_sample[variables]\n",
    "        train = h2o.H2OFrame(training_input)\n",
    "        aml = H2OAutoML(max_models=20, seed=seed, stopping_metric='MAE', sort_metric='MAE', max_runtime_secs=600)\n",
    "        aml.train(x=predictors_train, y=dimension, training_frame=train)\n",
    "        print(aml.leaderboard)\n",
    "\n",
    "        # Save the leader model\n",
    "        # h2o.save_model(aml.leader, path = f\"Example_data\\Output\\Trained_models\\{dimension}\", force=True)\n",
    "\n",
    "        # Make predictions on the test data\n",
    "        test = h2o.H2OFrame(test_data_preproc_n)\n",
    "        preds = aml.leader.predict(test)\n",
    "\n",
    "        # Save predictions to a new column in the test dataframe\n",
    "        pred_column_name = f\"{dimension}_pred\"\n",
    "        test_data_preproc_n[pred_column_name] = preds.as_data_frame()\n",
    "\n",
    "    # Post process the test predictions to calculate location from the radio tower locations\n",
    "    test_predictions_tower = postprocess_data(test_data_preproc_n, tower_locs)\n",
    "\n",
    "    # Location averaging functions\n",
    "    test_location_estimates = location_averaging(test_predictions_tower)\n",
    "    test_location_estimates = calculate_error(test_location_estimates)\n",
    "\n",
    "    # Calculate the mean absolute error of UTM_predictions['distance'] and the standard error\n",
    "    mean_error = np.mean(test_location_estimates['error_m'])\n",
    "    std_error = stats.sem(test_location_estimates['error_m'])\n",
    "\n",
    "    results.append({'r': run, 'n': n, 'mean_error': mean_error, 'std_error': std_error})\n",
    "    results_df = pd.DataFrame(results)\n",
    "    results_df.to_csv(f'SBTF_data/ml4rt_output/predictions/sample_size_analysis_fingerprinting/{n}_{run}_error.csv', index=False)\n",
    "\n",
    "    print(f'Mean error (+/-SE) = {mean_error} (+/- {std_error})')\n",
    "    \n",
    "    n = n+5\n",
    "\n",
    "# Stop h2o\n",
    "h2o.cluster().shutdown()\n"
   ]
  },
  {
   "cell_type": "code",
   "execution_count": null,
   "metadata": {},
   "outputs": [],
   "source": [
    "test_predictions_tower.to_excel(\"test_tower_predictions.xlsx\", index=False)\n",
    "test_location_estimates.to_excel(\"UTM_predictions.xlsx\", index=False)"
   ]
  },
  {
   "cell_type": "code",
   "execution_count": null,
   "metadata": {},
   "outputs": [],
   "source": [
    "# sorted_df = test_location_estimates.sort_values(by='error_m', ascending=False)\n",
    "# sorted_df"
   ]
  },
  {
   "cell_type": "code",
   "execution_count": null,
   "metadata": {},
   "outputs": [],
   "source": [
    "train_data_preproc.to_excel(\"train_data_preproc.xlsx\", index=False)"
   ]
  }
 ],
 "metadata": {
  "kernelspec": {
   "display_name": ".venv",
   "language": "python",
   "name": "python3"
  },
  "language_info": {
   "codemirror_mode": {
    "name": "ipython",
    "version": 3
   },
   "file_extension": ".py",
   "mimetype": "text/x-python",
   "name": "python",
   "nbconvert_exporter": "python",
   "pygments_lexer": "ipython3",
   "version": "3.11.8"
  },
  "orig_nbformat": 4,
  "vscode": {
   "interpreter": {
    "hash": "5c9c44150708f88dcc61b6a40c517040b165081f9891458623fe805b4ae9321d"
   }
  }
 },
 "nbformat": 4,
 "nbformat_minor": 2
}
