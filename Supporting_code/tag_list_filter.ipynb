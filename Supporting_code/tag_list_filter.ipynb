{
 "cells": [
  {
   "cell_type": "code",
   "execution_count": 10,
   "metadata": {},
   "outputs": [],
   "source": [
    "import pandas as pd"
   ]
  },
  {
   "cell_type": "code",
   "execution_count": 11,
   "metadata": {},
   "outputs": [],
   "source": [
    "predictions_file = r\"C:\\Users\\John\\Documents\\GitHub\\ml4rt\\Example_data\\Output\\Predictions\\MovementEcologyPaper\\predictions_20231209.xlsx\"\n",
    "tag_list_file = r\"C:\\Users\\John\\SynologyDrive\\JOBS\\~2019\\QEJ19152\\DATA ANALYSIS\\MOVEMENT_ECOLOGY\\MASTER_DATA\\Tag_List.xlsx\"\n",
    "\n",
    "predictions = pd.read_excel(predictions_file)\n",
    "tag_list = pd.read_excel(tag_list_file)"
   ]
  },
  {
   "cell_type": "code",
   "execution_count": 12,
   "metadata": {},
   "outputs": [],
   "source": [
    "# Create an empty dataframe to store the subset\n",
    "subset = pd.DataFrame()\n",
    "\n",
    "# Iterate through each unique TagID in the tag_list\n",
    "for tag in tag_list['Report_Tag_ID'].unique():\n",
    "    # Get the start and end datetime for the current TagID\n",
    "    start_time = tag_list.loc[tag_list['Report_Tag_ID'] == tag, 'Start_Date'].values[0]\n",
    "    end_time = tag_list.loc[tag_list['Report_Tag_ID'] == tag, 'End_Date'].values[0]\n",
    "\n",
    "    # Create a mask to filter the predictions dataframe\n",
    "    mask = (predictions['TagID'] == tag) & (predictions['DateTime'] >= start_time) & (predictions['DateTime'] <= end_time)\n",
    "\n",
    "    # Append the filtered data to the subset dataframe\n",
    "    subset = pd.concat([subset, predictions[mask]])\n"
   ]
  },
  {
   "cell_type": "code",
   "execution_count": 14,
   "metadata": {},
   "outputs": [],
   "source": [
    "output_file = r\"C:\\Users\\John\\Documents\\GitHub\\ml4rt\\Example_data\\Output\\Predictions\\MovementEcologyPaper\\predictions_active_tags_20231209.xlsx\"\n",
    "subset.to_excel(output_file, index=False)\n"
   ]
  }
 ],
 "metadata": {
  "kernelspec": {
   "display_name": ".venv",
   "language": "python",
   "name": "python3"
  },
  "language_info": {
   "codemirror_mode": {
    "name": "ipython",
    "version": 3
   },
   "file_extension": ".py",
   "mimetype": "text/x-python",
   "name": "python",
   "nbconvert_exporter": "python",
   "pygments_lexer": "ipython3",
   "version": "3.9.13"
  }
 },
 "nbformat": 4,
 "nbformat_minor": 2
}
