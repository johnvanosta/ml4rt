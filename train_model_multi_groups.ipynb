{
 "cells": [
  {
   "cell_type": "code",
   "execution_count": 14,
   "metadata": {},
   "outputs": [],
   "source": [
    "import pandas as pd\n",
    "import utm\n",
    "import numpy as np\n",
    "from scipy import stats\n",
    "import seaborn as sns\n",
    "import matplotlib.pyplot as plt\n",
    "import h2o\n",
    "from h2o.automl import H2OAutoML\n",
    "from utils.from_latlon import from_latlon\n",
    "from utils.preprocessing import preprocess\n",
    "from utils.postprocessing import postprocess_data, location_averaging, calculate_error\n",
    "\n",
    "seed = 38 # Seed for train/val split"
   ]
  },
  {
   "cell_type": "code",
   "execution_count": 15,
   "metadata": {},
   "outputs": [],
   "source": [
    "# Specify data paths\n",
    "train_data = 'Example_data\\Output\\Train_test_data\\Training_Test_Combined_for_final_run.xlsx'\n",
    "test_data = 'Example_data\\Output\\Train_test_data\\Testing_Tag_GPS_locations.xlsx'\n",
    "radio_tower_xy_path = 'Example_data\\Input\\Radio_tower_locations\\RTEastNorth_2groups.xlsx'\n",
    "model_save_path = 'Example_data\\Output\\Trained_models\\MovEcolPaper'\n",
    "\n",
    "# Variable parameters\n",
    "freq = '3min' # Frequency of data\n",
    "\n",
    "# Fixed parameters\n",
    "routine = 'training'\n",
    "data_type = ['Simulated BTFS', 'BTFS'] # Simulation or Live BTF, or could do both 'Simulated BTFS', 'BTFS'\n",
    "dimensions = ['xOffset', 'yOffset']\n",
    "# predictors = ['ant1_mean', 'ant2_mean', 'ant3_mean', 'ant4_mean', 'ant1_count', 'ant2_count', 'ant3_count', 'ant4_count', 'ant1_std', 'ant2_std', 'ant3_std', 'ant4_std', 'mean_std', 'total_count']"
   ]
  },
  {
   "cell_type": "code",
   "execution_count": 16,
   "metadata": {},
   "outputs": [],
   "source": [
    "def preprocess_sim_data(sim_data, data_type, freq, tower_locs, routine):\n",
    "    # Get data\n",
    "    sim_dat_filt = sim_data[sim_data['Data_type'].isin(data_type)]\n",
    "    \n",
    "    sim_dat_filt, predictors = preprocess(sim_dat_filt, freq, routine)\n",
    "     \n",
    "    # Calculate easting and northing from lat long\n",
    "    sim_dat_filt['easting'], sim_dat_filt['northing'], sim_dat_filt['zone_num'], sim_dat_filt['zone_letter'] = from_latlon(sim_dat_filt['POINT_Y'].values, sim_dat_filt['POINT_X'].values)\n",
    "\n",
    "    # Create a dictionary of the coordinates of the towers\n",
    "    offset_dict = tower_locs.set_index('TowerID').to_dict()\n",
    "    point_x = offset_dict['POINT_X']\n",
    "    point_y = offset_dict['POINT_Y']\n",
    "    tower_g = offset_dict['tower_group']\n",
    "\n",
    "    # Standardise the coordinates so that the tower location == 0 on both the x and y axes.\n",
    "    sim_dat_filt['xOffset'] = sim_dat_filt['easting'] - sim_dat_filt['TowerID'].map(point_x).fillna(0)\n",
    "    sim_dat_filt['yOffset'] = sim_dat_filt['northing'] - sim_dat_filt['TowerID'].map(point_y).fillna(0)\n",
    "    \n",
    "    # Add the model group\n",
    "    sim_dat_filt['tower_group'] = sim_dat_filt['TowerID'].map(tower_g).fillna(0)\n",
    "\n",
    "    return sim_dat_filt, predictors\n"
   ]
  },
  {
   "cell_type": "code",
   "execution_count": 17,
   "metadata": {},
   "outputs": [],
   "source": [
    "# Get training data\n",
    "train_data = pd.read_excel(train_data)\n",
    "train_data['DateAndTime'] = pd.to_datetime(train_data['DateAndTime'])\n",
    "\n",
    "# Get testing data\n",
    "test_data = pd.read_excel(test_data)\n",
    "test_data['DateAndTime'] = pd.to_datetime(test_data['DateAndTime'])\n",
    "\n",
    "# Get tower locations\n",
    "tower_locs = pd.read_excel(radio_tower_xy_path)"
   ]
  },
  {
   "cell_type": "code",
   "execution_count": 18,
   "metadata": {},
   "outputs": [],
   "source": [
    "# filtered_df_test = train_data_preproc[train_data_preproc['Data_type'] == 'Simulated BTFS']\n",
    "# filtered_df_test = train_data_preproc[(train_data_preproc['Data_type'] == 'Simulated BTFS') & (train_data_preproc['Tag_type'] == 'Nanotag')]\n",
    "# filtered_df_test"
   ]
  },
  {
   "cell_type": "code",
   "execution_count": 19,
   "metadata": {},
   "outputs": [
    {
     "name": "stdout",
     "output_type": "stream",
     "text": [
      "Checking whether there is an H2O instance running at http://localhost:54321."
     ]
    },
    {
     "name": "stdout",
     "output_type": "stream",
     "text": [
      " connected.\n",
      "Warning: Your H2O cluster version is (7 months and 6 days) old.  There may be a newer version available.\n",
      "Please download and install the latest version from: https://h2o-release.s3.amazonaws.com/h2o/latest_stable.html\n"
     ]
    },
    {
     "data": {
      "text/html": [
       "\n",
       "<style>\n",
       "\n",
       "#h2o-table-3.h2o-container {\n",
       "  overflow-x: auto;\n",
       "}\n",
       "#h2o-table-3 .h2o-table {\n",
       "  /* width: 100%; */\n",
       "  margin-top: 1em;\n",
       "  margin-bottom: 1em;\n",
       "}\n",
       "#h2o-table-3 .h2o-table caption {\n",
       "  white-space: nowrap;\n",
       "  caption-side: top;\n",
       "  text-align: left;\n",
       "  /* margin-left: 1em; */\n",
       "  margin: 0;\n",
       "  font-size: larger;\n",
       "}\n",
       "#h2o-table-3 .h2o-table thead {\n",
       "  white-space: nowrap; \n",
       "  position: sticky;\n",
       "  top: 0;\n",
       "  box-shadow: 0 -1px inset;\n",
       "}\n",
       "#h2o-table-3 .h2o-table tbody {\n",
       "  overflow: auto;\n",
       "}\n",
       "#h2o-table-3 .h2o-table th,\n",
       "#h2o-table-3 .h2o-table td {\n",
       "  text-align: right;\n",
       "  /* border: 1px solid; */\n",
       "}\n",
       "#h2o-table-3 .h2o-table tr:nth-child(even) {\n",
       "  /* background: #F5F5F5 */\n",
       "}\n",
       "\n",
       "</style>      \n",
       "<div id=\"h2o-table-3\" class=\"h2o-container\">\n",
       "  <table class=\"h2o-table\">\n",
       "    <caption></caption>\n",
       "    <thead></thead>\n",
       "    <tbody><tr><td>H2O_cluster_uptime:</td>\n",
       "<td>39 mins 10 secs</td></tr>\n",
       "<tr><td>H2O_cluster_timezone:</td>\n",
       "<td>Australia/Sydney</td></tr>\n",
       "<tr><td>H2O_data_parsing_timezone:</td>\n",
       "<td>UTC</td></tr>\n",
       "<tr><td>H2O_cluster_version:</td>\n",
       "<td>3.40.0.4</td></tr>\n",
       "<tr><td>H2O_cluster_version_age:</td>\n",
       "<td>7 months and 6 days</td></tr>\n",
       "<tr><td>H2O_cluster_name:</td>\n",
       "<td>H2O_from_python_John_osanh2</td></tr>\n",
       "<tr><td>H2O_cluster_total_nodes:</td>\n",
       "<td>1</td></tr>\n",
       "<tr><td>H2O_cluster_free_memory:</td>\n",
       "<td>3.353 Gb</td></tr>\n",
       "<tr><td>H2O_cluster_total_cores:</td>\n",
       "<td>8</td></tr>\n",
       "<tr><td>H2O_cluster_allowed_cores:</td>\n",
       "<td>2</td></tr>\n",
       "<tr><td>H2O_cluster_status:</td>\n",
       "<td>locked, healthy</td></tr>\n",
       "<tr><td>H2O_connection_url:</td>\n",
       "<td>http://localhost:54321</td></tr>\n",
       "<tr><td>H2O_connection_proxy:</td>\n",
       "<td>{\"http\": null, \"https\": null}</td></tr>\n",
       "<tr><td>H2O_internal_security:</td>\n",
       "<td>False</td></tr>\n",
       "<tr><td>Python_version:</td>\n",
       "<td>3.9.13 final</td></tr></tbody>\n",
       "  </table>\n",
       "</div>\n"
      ],
      "text/plain": [
       "--------------------------  -----------------------------\n",
       "H2O_cluster_uptime:         39 mins 10 secs\n",
       "H2O_cluster_timezone:       Australia/Sydney\n",
       "H2O_data_parsing_timezone:  UTC\n",
       "H2O_cluster_version:        3.40.0.4\n",
       "H2O_cluster_version_age:    7 months and 6 days\n",
       "H2O_cluster_name:           H2O_from_python_John_osanh2\n",
       "H2O_cluster_total_nodes:    1\n",
       "H2O_cluster_free_memory:    3.353 Gb\n",
       "H2O_cluster_total_cores:    8\n",
       "H2O_cluster_allowed_cores:  2\n",
       "H2O_cluster_status:         locked, healthy\n",
       "H2O_connection_url:         http://localhost:54321\n",
       "H2O_connection_proxy:       {\"http\": null, \"https\": null}\n",
       "H2O_internal_security:      False\n",
       "Python_version:             3.9.13 final\n",
       "--------------------------  -----------------------------"
      ]
     },
     "metadata": {},
     "output_type": "display_data"
    },
    {
     "name": "stdout",
     "output_type": "stream",
     "text": [
      "Training model for xOffset in tower group 1\n",
      "Parse progress: |████████████████████████████████████████████████████████████████| (done) 100%\n",
      "AutoML progress: |█\n",
      "17:24:03.101: AutoML: XGBoost is not available; skipping it.\n",
      "\n",
      "██████████████████████████████████████████████████████████████| (done) 100%\n",
      "Parse progress: |████████████████████████████████████████████████████████████████| (done) 100%\n",
      "stackedensemble prediction progress: |███████████████████████████████████████████| (done) 100%\n",
      "Training model for yOffset in tower group 1\n",
      "Parse progress: |████████████████████████████████████████████████████████████████| (done) 100%\n",
      "AutoML progress: |█\n",
      "17:37:58.292: AutoML: XGBoost is not available; skipping it.\n",
      "\n",
      "██████████████████████████████████████████████████████████████| (done) 100%\n",
      "Parse progress: |████████████████████████████████████████████████████████████████| (done) 100%\n",
      "stackedensemble prediction progress: |███████████████████████████████████████████| (done) 100%\n",
      "Training model for xOffset in tower group 2\n",
      "Parse progress: |████████████████████████████████████████████████████████████████| (done) 100%\n",
      "AutoML progress: |█\n",
      "17:51:20.29: AutoML: XGBoost is not available; skipping it.\n",
      "\n",
      "██████████████████████████████████████████████████████████████| (done) 100%\n",
      "Parse progress: |████████████████████████████████████████████████████████████████| (done) 100%\n",
      "stackedensemble prediction progress: |███████████████████████████████████████████| (done) 100%\n",
      "Training model for yOffset in tower group 2\n",
      "Parse progress: |████████████████████████████████████████████████████████████████| (done) 100%\n",
      "AutoML progress: |█\n",
      "18:00:30.32: AutoML: XGBoost is not available; skipping it.\n",
      "\n",
      "██████████████████████████████████████████████████████████████| (done) 100%\n",
      "Parse progress: |████████████████████████████████████████████████████████████████| (done) 100%\n",
      "gbm prediction progress: |███████████████████████████████████████████████████████| (done) 100%\n",
      "H2O session _sid_8cf9 closed.\n"
     ]
    }
   ],
   "source": [
    "# Preprocess the training and testing data\n",
    "train_data_preproc, predictors_train = preprocess_sim_data(train_data, data_type, freq, tower_locs, routine)\n",
    "test_data_preproc, predictors_test = preprocess_sim_data(test_data, data_type, freq, tower_locs, routine)\n",
    "\n",
    "train_data_preproc = train_data_preproc[train_data_preproc['Tag_type'] == 'Nanotag']\n",
    "\n",
    "tower_groups = tower_locs['tower_group'].unique()\n",
    "\n",
    "# Initialise h2o\n",
    "h2o.init(nthreads = 2)\n",
    "\n",
    "# Train, save and test the models for each dimension for each model grouping\n",
    "for tower_group in tower_groups:\n",
    "    for dimension in dimensions:\n",
    "        print(f\"Training model for {dimension} in tower group {tower_group}\")\n",
    "        # Train the model\n",
    "        variables = predictors_train + [dimension]\n",
    "        training_input = train_data_preproc[train_data_preproc['tower_group'] == tower_group]\n",
    "        training_input = training_input[variables]\n",
    "        train = h2o.H2OFrame(training_input)\n",
    "        aml = H2OAutoML(max_models=20, seed=seed, stopping_metric='MAE', sort_metric='MAE')\n",
    "        aml.train(x=predictors_train, y=dimension, training_frame=train)\n",
    "        # print(aml.leaderboard)\n",
    "\n",
    "        # Save the leader model\n",
    "        h2o.save_model(aml.leader, path = model_save_path, force=True, filename=f'{dimension}_group_{tower_group}_model')\n",
    "\n",
    "        # Make predictions on the test data\n",
    "        test_input = test_data_preproc[test_data_preproc['tower_group'] == tower_group]\n",
    "        test = h2o.H2OFrame(test_input)\n",
    "        preds = aml.leader.predict(test)\n",
    "\n",
    "        # Save predictions to a new column in the test dataframe\n",
    "        pred_column_name = f\"{dimension}_pred\"\n",
    "        test_data_preproc.loc[test_data_preproc['tower_group'] == tower_group, pred_column_name] = preds.as_data_frame().values\n",
    "\n",
    "# Stop h2o\n",
    "h2o.cluster().shutdown()\n"
   ]
  },
  {
   "cell_type": "code",
   "execution_count": 20,
   "metadata": {},
   "outputs": [
    {
     "name": "stdout",
     "output_type": "stream",
     "text": [
      "Mean error (+/-SE) = 244.36771649297617 (+/- 17.213496561634344)\n"
     ]
    }
   ],
   "source": [
    "# Post process the test predictions to calculate location from the radio tower locations\n",
    "test_predictions_tower = postprocess_data(test_data_preproc, tower_locs)\n",
    "\n",
    "# Location averaging functions\n",
    "test_location_estimates = location_averaging(test_predictions_tower)\n",
    "test_location_estimates = calculate_error(test_location_estimates)\n",
    "\n",
    "# Calculate the mean absolute error of UTM_predictions['distance'] and the standard error\n",
    "mean_error = np.mean(test_location_estimates['error_m'])\n",
    "std_error = stats.sem(test_location_estimates['error_m'])\n",
    "\n",
    "print(f'Mean error (+/-SE) = {mean_error} (+/- {std_error})')"
   ]
  },
  {
   "cell_type": "code",
   "execution_count": 21,
   "metadata": {},
   "outputs": [],
   "source": [
    "test_predictions_tower.to_excel(\"test_tower_predictions.xlsx\", index=False)\n",
    "test_location_estimates.to_excel(\"UTM_predictions.xlsx\", index=False)"
   ]
  },
  {
   "cell_type": "code",
   "execution_count": 22,
   "metadata": {},
   "outputs": [],
   "source": [
    "# sorted_df = test_location_estimates.sort_values(by='error_m', ascending=False)\n",
    "# sorted_df"
   ]
  },
  {
   "cell_type": "code",
   "execution_count": 23,
   "metadata": {},
   "outputs": [],
   "source": [
    "# sorted_df.to_excel(\"sorted_df.xlsx\", index=False)"
   ]
  }
 ],
 "metadata": {
  "kernelspec": {
   "display_name": ".venv",
   "language": "python",
   "name": "python3"
  },
  "language_info": {
   "codemirror_mode": {
    "name": "ipython",
    "version": 3
   },
   "file_extension": ".py",
   "mimetype": "text/x-python",
   "name": "python",
   "nbconvert_exporter": "python",
   "pygments_lexer": "ipython3",
   "version": "3.9.13"
  },
  "orig_nbformat": 4,
  "vscode": {
   "interpreter": {
    "hash": "5c9c44150708f88dcc61b6a40c517040b165081f9891458623fe805b4ae9321d"
   }
  }
 },
 "nbformat": 4,
 "nbformat_minor": 2
}
