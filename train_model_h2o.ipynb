{
 "cells": [
  {
   "cell_type": "code",
   "execution_count": null,
   "metadata": {},
   "outputs": [],
   "source": [
    "import pandas as pd\n",
    "import utm\n",
    "import numpy as np\n",
    "from scipy import stats\n",
    "import h2o\n",
    "from h2o.automl import H2OAutoML\n",
    "\n",
    "seed = 38 # Seed for train/val split"
   ]
  },
  {
   "cell_type": "code",
   "execution_count": null,
   "metadata": {},
   "outputs": [],
   "source": [
    "# Specify data paths\n",
    "train_data = 'Example_data\\Output\\Train_test_data\\Training_Tag_GPS_locations.xlsx'\n",
    "test_data = 'Example_data\\Output\\Train_test_data\\Testing_Tag_GPS_locations.xlsx'\n",
    "radio_tower_xy_path = 'H:\\My Drive\\Colab Notebooks\\RadioTelemetry\\Tower_data\\RTEastNorth.xlsx'\n",
    "\n",
    "# Variable parameters\n",
    "freq = '5min' # Frequency of data\n",
    "\n",
    "# Fixed parameters\n",
    "data_type = ['Simulated BTFS', 'BTFS'] # Simulation or Live BTF, or could do both\n",
    "dimensions = ['xOffset', 'yOffset']\n",
    "predictors = ['ant1_mean', 'ant2_mean', 'ant3_mean', 'ant4_mean', 'ant1_count', 'ant2_count', 'ant3_count', 'ant4_count', 'ant1_std', 'ant2_std', 'ant3_std', 'ant4_std', 'mean_std', 'total_count']\n",
    "# responses = ['xOffset', 'yOffset']\n",
    "# scoring = 'neg_mean_absolute_error'"
   ]
  },
  {
   "cell_type": "code",
   "execution_count": null,
   "metadata": {},
   "outputs": [],
   "source": [
    "#Function to convert geographic to projected coordinates\n",
    "def from_latlon(lat, lon):\n",
    "    easting, northing, zone_num, zone_letter = utm.from_latlon(lat, lon)\n",
    "    return easting, northing, zone_num, zone_letter"
   ]
  },
  {
   "cell_type": "code",
   "execution_count": null,
   "metadata": {},
   "outputs": [],
   "source": [
    "def preprocess_sim_data(sim_data, data_type, freq, tower_locs):\n",
    "    # Get data\n",
    "    sim_dat_filt = sim_data[sim_data['Data_type'].isin(data_type)]\n",
    "    \n",
    "    # make column with the datetime to nearest 'freq' value (e.g. 5min)\n",
    "    sim_dat_filt = sim_dat_filt.assign(DateTime = sim_dat_filt['DateAndTime'].dt.floor(freq=freq))\n",
    "  \n",
    "    # group by datetime, tag, tower and antenna, compute mean power and std power, pivot to antennas\n",
    "    sim_dat_filt = (\n",
    "            sim_dat_filt.groupby(['DateTime', 'TowerID', 'TagID', 'Antenna', 'POINT_X', 'POINT_Y'])['Power']\n",
    "            .agg(['mean', 'count', np.std])\n",
    "            .reset_index()\n",
    "            .pivot_table(index=['DateTime', 'TowerID', 'TagID', 'POINT_X', 'POINT_Y'], columns='Antenna', values=['mean', 'count', 'std'])\n",
    "            .reset_index()\n",
    "        )\n",
    "    \n",
    "    # Rename columns\n",
    "    sim_dat_filt.columns = [f\"{col[0]}{col[1]}\" if col[1] != \"\" else col[0] for col in sim_dat_filt.columns.values]\n",
    "    sim_dat_filt = sim_dat_filt.rename(columns={ 'mean1': 'ant1_mean', 'mean2': 'ant2_mean', 'mean3': 'ant3_mean', 'mean4': 'ant4_mean',\n",
    "                                                  'count1': 'ant1_count', 'count2': 'ant2_count', 'count3': 'ant3_count', 'count4': 'ant4_count',\n",
    "                                                  'std1': 'ant1_std', 'std2': 'ant2_std', 'std3': 'ant3_std', 'std4': 'ant4_std'})\n",
    "    \n",
    "    # Calculate the mean std and total count across the antennas\n",
    "    sim_dat_filt['mean_std'] = sim_dat_filt[['ant1_std', 'ant2_std', 'ant3_std', 'ant4_std']].mean(axis=1)\n",
    "    sim_dat_filt['total_count'] = sim_dat_filt[['ant1_count', 'ant2_count', 'ant3_count', 'ant4_count']].sum(axis=1)\n",
    "\n",
    "    # Fill missing values with 0\n",
    "    sim_dat_filt = sim_dat_filt.fillna(value=0)\n",
    "     \n",
    "    # Calculate easting and northing from lat long\n",
    "    sim_dat_filt['easting'], sim_dat_filt['northing'], sim_dat_filt['zone_num'], sim_dat_filt['zone_letter'] = from_latlon(sim_dat_filt['POINT_Y'].values, sim_dat_filt['POINT_X'].values)\n",
    "\n",
    "    # Create a dictionary of the coordinates of the towers\n",
    "    offset_dict = tower_locs.set_index('TowerID').to_dict()\n",
    "    point_x = offset_dict['POINT_X']\n",
    "    point_y = offset_dict['POINT_Y']\n",
    "\n",
    "    # Standardise the coordinates so that the tower location == 0 on both the x and y axes.\n",
    "    sim_dat_filt['xOffset'] = sim_dat_filt['easting'] - sim_dat_filt['TowerID'].map(point_x).fillna(0)\n",
    "    sim_dat_filt['yOffset'] = sim_dat_filt['northing'] - sim_dat_filt['TowerID'].map(point_y).fillna(0)\n",
    "    \n",
    "    return sim_dat_filt"
   ]
  },
  {
   "cell_type": "code",
   "execution_count": null,
   "metadata": {},
   "outputs": [],
   "source": [
    "#Convert locations predictions back to easting northings\n",
    "\n",
    "def postprocess_data(prediction_data, tower_locs):\n",
    "    # Create a dictionary of the coordinates of the towers\n",
    "    offset_dict = tower_locs.set_index('TowerID').to_dict()\n",
    "    point_x = offset_dict['POINT_X']\n",
    "    point_y = offset_dict['POINT_Y']\n",
    "\n",
    "    # Change predicted x/y offset values to their respective easting/northing considering the location of the tower\n",
    "    prediction_data['easting_pred'] = prediction_data['xOffset_pred'] + prediction_data['TowerID'].map(point_x).fillna(0)\n",
    "    prediction_data['northing_pred'] = prediction_data['yOffset_pred'] + prediction_data['TowerID'].map(point_y).fillna(0)\n",
    "    \n",
    "    return prediction_data"
   ]
  },
  {
   "cell_type": "code",
   "execution_count": null,
   "metadata": {},
   "outputs": [],
   "source": [
    "# Get training data\n",
    "train_data = pd.read_excel(train_data)\n",
    "train_data['DateAndTime'] = pd.to_datetime(train_data['DateAndTime'])\n",
    "\n",
    "# Get testing data\n",
    "test_data = pd.read_excel(test_data)\n",
    "test_data['DateAndTime'] = pd.to_datetime(test_data['DateAndTime'])\n",
    "\n",
    "# Get tower locations\n",
    "tower_locs = pd.read_excel(radio_tower_xy_path)"
   ]
  },
  {
   "cell_type": "code",
   "execution_count": null,
   "metadata": {},
   "outputs": [],
   "source": [
    "# Preprocess the training and testing data\n",
    "train_data_preproc = preprocess_sim_data(train_data, data_type, freq, tower_locs)\n",
    "test_data_preproc = preprocess_sim_data(test_data, data_type, freq, tower_locs)\n",
    "\n",
    "# Initialise h2o\n",
    "h2o.init()\n",
    "\n",
    "# Train, save and test the models for each dimension\n",
    "for dimension in dimensions:\n",
    "    print(f\"Training model for {dimension}\")\n",
    "    # Train the model\n",
    "    variables = predictors + [dimension]\n",
    "    training_input = train_data_preproc[variables]\n",
    "    train = h2o.H2OFrame(training_input)\n",
    "    aml = H2OAutoML(max_models=20, seed=seed, stopping_metric='MAE', sort_metric='MAE')\n",
    "    aml.train(x=predictors, y=dimension, training_frame=train)\n",
    "    print(aml.leaderboard)\n",
    "\n",
    "    # Save the leader model\n",
    "    h2o.save_model(aml.leader, path = f\"Example_data\\Output\\Trained_models\\{dimension}\", force=True)\n",
    "\n",
    "    # Make predictions on the test data\n",
    "    test = h2o.H2OFrame(test_data_preproc)\n",
    "    preds = aml.leader.predict(test)\n",
    "\n",
    "    # Save predictions to a new column in the test dataframe\n",
    "    pred_column_name = f\"{dimension}_pred\"\n",
    "    test_data_preproc[pred_column_name] = preds.as_data_frame()\n",
    "\n",
    "# Stop h2o\n",
    "h2o.cluster().shutdown()\n"
   ]
  },
  {
   "cell_type": "code",
   "execution_count": null,
   "metadata": {},
   "outputs": [],
   "source": [
    "# Calculate the accuracy of the predictions\n",
    "\n",
    "test_predictions = postprocess_data(test_data_preproc, tower_locs)\n",
    "\n",
    "UTM_predictions = (test_predictions.groupby(['DateTime', 'TagID'], as_index=False)\n",
    "    .agg({'easting':'first',\n",
    "        'northing':'first',\n",
    "        'easting_pred':'mean',\n",
    "        'northing_pred':'mean'\n",
    "        })\n",
    ")\n",
    "\n",
    "# Calculate the Eucledian distance between the predicted and actual locations\n",
    "UTM_predictions['distance'] = np.sqrt((UTM_predictions['easting'] - UTM_predictions['easting_pred']) ** 2\n",
    "                    + (UTM_predictions['northing'] - UTM_predictions['northing_pred']) ** 2)\n",
    "\n",
    "# Calculate the mean absolute error of UTM_predictions['distance'] and the standard error\n",
    "mean_error = np.mean(UTM_predictions['distance'])\n",
    "std_error = stats.sem(UTM_predictions['distance'])\n",
    "\n",
    "print(f'Mean error (+/-SE) = {mean_error} (+/- {std_error})')"
   ]
  },
  {
   "cell_type": "code",
   "execution_count": null,
   "metadata": {},
   "outputs": [],
   "source": [
    "# Plot the predicted and actual locations\n",
    "sns.set_style('whitegrid')\n",
    "\n",
    "fig, ax = plt.subplots(figsize=(10,10))\n",
    "sns.scatterplot(data=UTM_predictions, x='easting', y='northing', hue='TagID', ax=ax)\n",
    "sns.scatterplot(data=UTM_predictions, x='easting_pred', y='northing_pred', hue='TagID', ax=ax, marker='x')\n",
    "ax.set_title('Predicted vs Actual Locations')\n",
    "ax.set_xlabel('Easting')\n",
    "ax.set_ylabel('Northing')\n",
    "plt.show()"
   ]
  },
  {
   "cell_type": "code",
   "execution_count": null,
   "metadata": {},
   "outputs": [],
   "source": [
    "# Plot the distribution of the errors\n",
    "def plot_error_distribution(distances):\n",
    "    fig, ax = plt.subplots()\n",
    "    ax.boxplot(distances)\n",
    "    ax.set_ylabel('Distance (m)')\n",
    "    ax.set_title('Distribution of errors')\n",
    "    plt.show()\n",
    "\n",
    "plot_error_distribution(UTM_predictions['distance'])"
   ]
  }
 ],
 "metadata": {
  "kernelspec": {
   "display_name": ".venv",
   "language": "python",
   "name": "python3"
  },
  "language_info": {
   "codemirror_mode": {
    "name": "ipython",
    "version": 3
   },
   "file_extension": ".py",
   "mimetype": "text/x-python",
   "name": "python",
   "nbconvert_exporter": "python",
   "pygments_lexer": "ipython3",
   "version": "3.11.2"
  },
  "orig_nbformat": 4,
  "vscode": {
   "interpreter": {
    "hash": "5c9c44150708f88dcc61b6a40c517040b165081f9891458623fe805b4ae9321d"
   }
  }
 },
 "nbformat": 4,
 "nbformat_minor": 2
}
