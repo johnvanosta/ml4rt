{
 "cells": [
  {
   "cell_type": "code",
   "execution_count": 1,
   "metadata": {},
   "outputs": [],
   "source": [
    "import pandas as pd"
   ]
  },
  {
   "cell_type": "code",
   "execution_count": 3,
   "metadata": {},
   "outputs": [],
   "source": [
    "# Import data\n",
    "rt_data_path = r'C:\\Users\\John\\SynologyDrive\\JOBS\\~2019\\QEJ19152\\DATA ANALYSIS\\MOVEMENT_ECOLOGY\\MASTER_DATA\\ART_DATA\\RTdatMaster20231205.csv'\n",
    "\n",
    "# Define the date format for Australian dates (day first)\n",
    "australian_date_format = lambda x: pd.to_datetime(x, dayfirst=True, errors='coerce')\n",
    "\n",
    "# Read the CSV file and parse dates using the Australian format\n",
    "rt_data = pd.read_csv(rt_data_path, parse_dates=['DateAndTime', 'Date_QA'], date_parser=australian_date_format)\n",
    "\n",
    "# rt_data['DateAndTime'] = pd.to_datetime(rt_data['DateAndTime'])\n",
    "# rt_data['Date_QA'] = pd.to_datetime(rt_data['Date_QA'])\n",
    "\n",
    "# Define path to save new excel files to\n",
    "save_path = 'C:/Users/John/SynologyDrive/JOBS/~2019/QEJ19152/DATA ANALYSIS/MOVEMENT_ECOLOGY/MASTER_DATA/ART_DATA/ALL_TAGS_V2'"
   ]
  },
  {
   "cell_type": "code",
   "execution_count": 35,
   "metadata": {},
   "outputs": [],
   "source": [
    "# Remove duplicates\n",
    "rt_data = rt_data.drop_duplicates()\n",
    "\n",
    "# Sort data by 'DateAndTime' and then 'TowerID'\n",
    "rt_data = rt_data.sort_values(by=['DateAndTime', 'TowerID'])"
   ]
  },
  {
   "cell_type": "code",
   "execution_count": null,
   "metadata": {},
   "outputs": [],
   "source": [
    "# Split rt_data into separate Excel files for each 'TagID' and save with Australian date format\n",
    "for tag_id, data in rt_data.groupby('TagID'):\n",
    "    file_name = f\"{save_path}/TagID_{tag_id}.xlsx\"\n",
    "    \n",
    "    # Create a Pandas Excel writer object with Australian date format\n",
    "    with pd.ExcelWriter(file_name, engine='xlsxwriter', datetime_format='dd/mm/yyyy') as writer:\n",
    "        data.to_excel(writer, sheet_name='Sheet1', index=False)\n"
   ]
  }
 ],
 "metadata": {
  "kernelspec": {
   "display_name": ".venv",
   "language": "python",
   "name": "python3"
  },
  "language_info": {
   "codemirror_mode": {
    "name": "ipython",
    "version": 3
   },
   "file_extension": ".py",
   "mimetype": "text/x-python",
   "name": "python",
   "nbconvert_exporter": "python",
   "pygments_lexer": "ipython3",
   "version": "3.9.13"
  }
 },
 "nbformat": 4,
 "nbformat_minor": 2
}
