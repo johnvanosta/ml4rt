{
 "cells": [
  {
   "cell_type": "code",
   "execution_count": 1,
   "metadata": {},
   "outputs": [],
   "source": [
    "# Useful resources\n",
    "# https://medium.com/analytics-vidhya/testing-multiple-machine-learning-models-at-once-without-getting-a-headache-5aefb0e7df03\n",
    "# Potentially look into ensemble models"
   ]
  },
  {
   "cell_type": "code",
   "execution_count": 2,
   "metadata": {},
   "outputs": [],
   "source": [
    "# In prep\n",
    "import pandas as pd\n",
    "import utm\n",
    "import numpy as np\n",
    "import matplotlib.pyplot as plt\n",
    "import seaborn as sns\n",
    "from sklearn.model_selection import train_test_split\n",
    "from sklearn.metrics import mean_squared_error, mean_absolute_error\n",
    "from sklearn import preprocessing\n",
    "\n",
    "seed = 38 # Seed for train/val split"
   ]
  },
  {
   "cell_type": "code",
   "execution_count": 3,
   "metadata": {},
   "outputs": [],
   "source": [
    "#Function to convert geographic to projected coordinates\n",
    "def from_latlon(lat, lon):\n",
    "    easting, northing, zone_num, zone_letter = utm.from_latlon(lat, lon)\n",
    "    return easting, northing, zone_num, zone_letter"
   ]
  },
  {
   "cell_type": "code",
   "execution_count": 4,
   "metadata": {},
   "outputs": [],
   "source": [
    "def preprocess_sim_data(sim_data, data_type, freq, tower_locs):\n",
    "    # Get data\n",
    "    sim_dat_filt = sim_data[sim_data['Data_type'].isin(data_type)]\n",
    "\n",
    "    # make column with the datetime to nearest 'freq' value (e.g. 5min)\n",
    "    sim_dat_filt = sim_dat_filt.assign(DateTime = sim_dat_filt['DateAndTime'].dt.floor(freq=freq))\n",
    "\n",
    "    # group by datetime, tag, tower and antenna, compute mean power, pivot to antennas\n",
    "    sim_dat_filt = (\n",
    "        sim_dat_filt.groupby(['DateTime', 'TowerID', 'TagID', 'Antenna', 'POINT_X', 'POINT_Y'])['Power']\n",
    "        .mean()\n",
    "        .reset_index()\n",
    "        .pivot_table(index=['DateTime', 'TowerID', 'TagID', 'POINT_X', 'POINT_Y'], columns='Antenna', values='Power')\n",
    "        .reset_index()\n",
    "        .rename(columns={1: 'ant1', 2: 'ant2', 3: 'ant3', 4: 'ant4'})\n",
    "        .fillna(value=0) # Need to check the impact of this\n",
    "    )\n",
    "    # Calculate easting and northing from lat long\n",
    "    sim_dat_filt['easting'], sim_dat_filt['northing'], sim_dat_filt['zone_num'], sim_dat_filt['zone_letter'] = from_latlon(sim_dat_filt['POINT_Y'].values, sim_dat_filt['POINT_X'].values)\n",
    "\n",
    "    # Create a dictionary of the coordinates of the towers\n",
    "    offset_dict = tower_locs.set_index('TowerID').to_dict()\n",
    "    point_x = offset_dict['POINT_X']\n",
    "    point_y = offset_dict['POINT_Y']\n",
    "\n",
    "    # Standardise the coordinates so that the tower location == 0 on both the x and y axes.\n",
    "    sim_dat_filt['xOffset'] = sim_dat_filt['easting'] - sim_dat_filt['TowerID'].map(point_x).fillna(0)\n",
    "    sim_dat_filt['yOffset'] = sim_dat_filt['northing'] - sim_dat_filt['TowerID'].map(point_y).fillna(0)\n",
    "\n",
    "    return sim_dat_filt"
   ]
  },
  {
   "cell_type": "code",
   "execution_count": 5,
   "metadata": {},
   "outputs": [],
   "source": [
    "# Get simulation data\n",
    "sim_data_path = 'H:\\My Drive\\Colab Notebooks\\RadioTelemetry\\Simul_data\\RTdat_sim_only_20230202.xlsx'\n",
    "sim_data = pd.read_excel(sim_data_path)\n",
    "sim_data['DateAndTime'] = pd.to_datetime(sim_data['DateAndTime'])\n",
    "\n",
    "# Get tower locations\n",
    "radio_tower_xy_path = 'H:\\My Drive\\Colab Notebooks\\RadioTelemetry\\Tower_data\\RTEastNorth.xlsx'\n",
    "tower_locs = pd.read_excel(radio_tower_xy_path)\n"
   ]
  },
  {
   "cell_type": "code",
   "execution_count": 7,
   "metadata": {},
   "outputs": [],
   "source": [
    "#Create train/test split\n",
    "predictors = ['ant1', 'ant2', 'ant3', 'ant4']\n",
    "responses = ['xOffset', 'yOffset']\n",
    "\n",
    "x = sim_data_preproc[predictors]\n",
    "y = sim_data_preproc['xOffset'] # Will need to adjust this to iterate over responses rather than just use xOffset\n",
    "\n",
    "X_train, X_test, y_train, y_test = train_test_split(x, y, test_size=0.3, random_state=seed)"
   ]
  },
  {
   "cell_type": "code",
   "execution_count": null,
   "metadata": {},
   "outputs": [],
   "source": [
    "# Initial pass over the data using lazy predict to identify possible options\n",
    "# import lazypredict\n",
    "# from lazypredict.Supervised import LazyRegressor\n",
    "# reg = LazyRegressor(verbose=0, ignore_warnings=False, custom_metric=None)\n",
    "# models, predictions = reg.fit(X_train, X_test, y_train, y_test)\n",
    "# print(models)"
   ]
  },
  {
   "cell_type": "code",
   "execution_count": 14,
   "metadata": {},
   "outputs": [],
   "source": [
    "# Drilling into top performing models for paramater optimisation\n",
    "from sklearn.neighbors import KNeighborsRegressor\n",
    "from sklearn.ensemble import AdaBoostRegressor\n",
    "\n",
    "# Create a list of test dictionaries\n",
    "KNeighborsRegressor_params = [{\"n_neighbors\":3}, {\"n_neighbors\":5}, {\"n_neighbors\":7}]\n",
    "AdaBoostRegressor_params = [{\"n_estimators\":25}, {\"n_estimators\":50}, {\"n_estimators\":75}]\n",
    "\n",
    "# Create classes for the models\n",
    "modelclasses = [\n",
    "    [\"K neighbours regressor\", KNeighborsRegressor, KNeighborsRegressor_params],\n",
    "    [\"Ada boost regressor\", AdaBoostRegressor, AdaBoostRegressor_params]\n",
    "]"
   ]
  },
  {
   "cell_type": "code",
   "execution_count": 18,
   "metadata": {},
   "outputs": [],
   "source": [
    "# Pre-processing parameters to test\n",
    "data_type = ['Live BTF']\n",
    "frequencies = ['1min', '3min', '5min', '10min']"
   ]
  },
  {
   "cell_type": "code",
   "execution_count": 27,
   "metadata": {},
   "outputs": [],
   "source": [
    "insights = []\n",
    "for freq in frequencies:\n",
    "    sim_data_preproc = preprocess_sim_data(sim_data, data_type, freq, tower_locs)\n",
    "    for modelname, Model, params_list in modelclasses:\n",
    "        for params in params_list:\n",
    "            model = Model(**params)\n",
    "            model.fit(X_train, y_train)\n",
    "            score = model.score(X_test, y_test)\n",
    "            insights.append((modelname, model, params, freq, score))"
   ]
  },
  {
   "cell_type": "code",
   "execution_count": 24,
   "metadata": {},
   "outputs": [
    {
     "name": "stdout",
     "output_type": "stream",
     "text": [
      "K neighbours regressor {'n_neighbors': 5} 1min 0.27174475199856485\n",
      "K neighbours regressor {'n_neighbors': 5} 3min 0.27174475199856485\n",
      "K neighbours regressor {'n_neighbors': 5} 5min 0.27174475199856485\n",
      "K neighbours regressor {'n_neighbors': 5} 10min 0.27174475199856485\n",
      "K neighbours regressor {'n_neighbors': 7} 1min 0.25599440922501204\n",
      "K neighbours regressor {'n_neighbors': 7} 3min 0.25599440922501204\n",
      "K neighbours regressor {'n_neighbors': 7} 5min 0.25599440922501204\n",
      "K neighbours regressor {'n_neighbors': 7} 10min 0.25599440922501204\n",
      "Ada boost regressor {'n_estimators': 50} 5min 0.17389820830051816\n",
      "Ada boost regressor {'n_estimators': 75} 3min 0.1727129887683112\n",
      "Ada boost regressor {'n_estimators': 25} 10min 0.17074274147358492\n",
      "Ada boost regressor {'n_estimators': 50} 3min 0.17010088690838088\n",
      "Ada boost regressor {'n_estimators': 25} 3min 0.1616260467948043\n",
      "K neighbours regressor {'n_neighbors': 3} 1min 0.15653636580594088\n",
      "K neighbours regressor {'n_neighbors': 3} 3min 0.15653636580594088\n",
      "K neighbours regressor {'n_neighbors': 3} 5min 0.15653636580594088\n",
      "K neighbours regressor {'n_neighbors': 3} 10min 0.15653636580594088\n",
      "Ada boost regressor {'n_estimators': 75} 5min 0.14354516751906732\n",
      "Ada boost regressor {'n_estimators': 50} 10min 0.12837901136070773\n",
      "Ada boost regressor {'n_estimators': 75} 10min 0.11904665913923573\n",
      "Ada boost regressor {'n_estimators': 25} 1min 0.11538134614832463\n",
      "Ada boost regressor {'n_estimators': 25} 5min 0.10300291631336145\n",
      "Ada boost regressor {'n_estimators': 50} 1min 0.08855653776577421\n",
      "Ada boost regressor {'n_estimators': 75} 1min 0.03663182909745599\n"
     ]
    }
   ],
   "source": [
    "insights.sort(key=lambda x:x[-1], reverse=True)\n",
    "for modelname, model, params, freq, score in insights:\n",
    "    print(modelname, params, freq, score)"
   ]
  }
 ],
 "metadata": {
  "kernelspec": {
   "display_name": ".venv",
   "language": "python",
   "name": "python3"
  },
  "language_info": {
   "codemirror_mode": {
    "name": "ipython",
    "version": 3
   },
   "file_extension": ".py",
   "mimetype": "text/x-python",
   "name": "python",
   "nbconvert_exporter": "python",
   "pygments_lexer": "ipython3",
   "version": "3.11.2"
  },
  "orig_nbformat": 4,
  "vscode": {
   "interpreter": {
    "hash": "5c9c44150708f88dcc61b6a40c517040b165081f9891458623fe805b4ae9321d"
   }
  }
 },
 "nbformat": 4,
 "nbformat_minor": 2
}
