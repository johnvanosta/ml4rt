{
 "cells": [
  {
   "cell_type": "code",
   "execution_count": 1,
   "metadata": {},
   "outputs": [],
   "source": [
    "# Useful resources\n",
    "# https://medium.com/analytics-vidhya/testing-multiple-machine-learning-models-at-once-without-getting-a-headache-5aefb0e7df03\n",
    "# Potentially look into ensemble models"
   ]
  },
  {
   "cell_type": "code",
   "execution_count": 2,
   "metadata": {},
   "outputs": [],
   "source": [
    "# In prep\n",
    "import pandas as pd\n",
    "import utm\n",
    "import numpy as np\n",
    "import matplotlib.pyplot as plt\n",
    "import seaborn as sns\n",
    "from sklearn.model_selection import train_test_split\n",
    "from sklearn.metrics import mean_squared_error, mean_absolute_error\n",
    "from sklearn import preprocessing\n",
    "\n",
    "seed = 38 # Seed for train/val split"
   ]
  },
  {
   "cell_type": "code",
   "execution_count": 3,
   "metadata": {},
   "outputs": [],
   "source": [
    "#Function to convert geographic to projected coordinates\n",
    "def from_latlon(lat, lon):\n",
    "    easting, northing, zone_num, zone_letter = utm.from_latlon(lat, lon)\n",
    "    return easting, northing, zone_num, zone_letter"
   ]
  },
  {
   "cell_type": "code",
   "execution_count": 4,
   "metadata": {},
   "outputs": [],
   "source": [
    "def preprocess_sim_data(sim_data, data_type, freq, tower_locs):\n",
    "    # Get data\n",
    "    sim_dat_filt = sim_data[sim_data['Data_type'].isin(data_type)]\n",
    "\n",
    "    # make column with the datetime to nearest 'freq' value (e.g. 5min)\n",
    "    sim_dat_filt = sim_dat_filt.assign(DateTime = sim_dat_filt['DateAndTime'].dt.floor(freq=freq))\n",
    "\n",
    "    # group by datetime, tag, tower and antenna, compute mean power, pivot to antennas\n",
    "    sim_dat_filt = (\n",
    "        sim_dat_filt.groupby(['DateTime', 'TowerID', 'TagID', 'Antenna', 'POINT_X', 'POINT_Y'])['Power']\n",
    "        .mean()\n",
    "        .reset_index()\n",
    "        .pivot_table(index=['DateTime', 'TowerID', 'TagID', 'POINT_X', 'POINT_Y'], columns='Antenna', values='Power')\n",
    "        .reset_index()\n",
    "        .rename(columns={1: 'ant1', 2: 'ant2', 3: 'ant3', 4: 'ant4'})\n",
    "        .fillna(value=0) # Need to check the impact of this\n",
    "    )\n",
    "    # Calculate easting and northing from lat long\n",
    "    sim_dat_filt['easting'], sim_dat_filt['northing'], sim_dat_filt['zone_num'], sim_dat_filt['zone_letter'] = from_latlon(sim_dat_filt['POINT_Y'].values, sim_dat_filt['POINT_X'].values)\n",
    "\n",
    "    # Create a dictionary of the coordinates of the towers\n",
    "    offset_dict = tower_locs.set_index('TowerID').to_dict()\n",
    "    point_x = offset_dict['POINT_X']\n",
    "    point_y = offset_dict['POINT_Y']\n",
    "\n",
    "    # Standardise the coordinates so that the tower location == 0 on both the x and y axes.\n",
    "    sim_dat_filt['xOffset'] = sim_dat_filt['easting'] - sim_dat_filt['TowerID'].map(point_x).fillna(0)\n",
    "    sim_dat_filt['yOffset'] = sim_dat_filt['northing'] - sim_dat_filt['TowerID'].map(point_y).fillna(0)\n",
    "\n",
    "    return sim_dat_filt"
   ]
  },
  {
   "cell_type": "code",
   "execution_count": 5,
   "metadata": {},
   "outputs": [],
   "source": [
    "# Get simulation data\n",
    "sim_data_path = 'H:\\My Drive\\Colab Notebooks\\RadioTelemetry\\Simul_data\\RTdat_sim_only_20230202.xlsx'\n",
    "sim_data = pd.read_excel(sim_data_path)\n",
    "sim_data['DateAndTime'] = pd.to_datetime(sim_data['DateAndTime'])\n",
    "\n",
    "# Get tower locations\n",
    "radio_tower_xy_path = 'H:\\My Drive\\Colab Notebooks\\RadioTelemetry\\Tower_data\\RTEastNorth.xlsx'\n",
    "tower_locs = pd.read_excel(radio_tower_xy_path)\n"
   ]
  },
  {
   "cell_type": "code",
   "execution_count": 7,
   "metadata": {},
   "outputs": [],
   "source": [
    "# Initial pass over the data using lazy predict to identify possible options\n",
    "# import lazypredict\n",
    "# from lazypredict.Supervised import LazyRegressor\n",
    "# reg = LazyRegressor(verbose=0, ignore_warnings=False, custom_metric=None)\n",
    "# models, predictions = reg.fit(X_train, X_test, y_train, y_test)\n",
    "# print(models)"
   ]
  },
  {
   "cell_type": "code",
   "execution_count": 21,
   "metadata": {},
   "outputs": [],
   "source": [
    "from sklearn.model_selection import cross_val_predict\n",
    "from sklearn.model_selection import cross_val_score"
   ]
  },
  {
   "cell_type": "code",
   "execution_count": null,
   "metadata": {},
   "outputs": [],
   "source": [
    "scoring = ['mean_squared_error', 'mean_absolute_error']"
   ]
  },
  {
   "cell_type": "code",
   "execution_count": 8,
   "metadata": {},
   "outputs": [],
   "source": [
    "# Drilling into top performing models for paramater optimisation\n",
    "from sklearn.neighbors import KNeighborsRegressor\n",
    "from sklearn.ensemble import AdaBoostRegressor\n",
    "\n",
    "# Create a list of test dictionaries\n",
    "KNeighborsRegressor_params = [{\"n_neighbors\":3}, {\"n_neighbors\":5}, {\"n_neighbors\":7}]\n",
    "AdaBoostRegressor_params = [{\"n_estimators\":25}, {\"n_estimators\":50}, {\"n_estimators\":75}]\n",
    "\n",
    "# Create classes for the models\n",
    "modelclasses = [\n",
    "    [\"K neighbours regressor\", KNeighborsRegressor, KNeighborsRegressor_params],\n",
    "    [\"Ada boost regressor\", AdaBoostRegressor, AdaBoostRegressor_params]\n",
    "]"
   ]
  },
  {
   "cell_type": "code",
   "execution_count": 48,
   "metadata": {},
   "outputs": [],
   "source": [
    "# Pre-processing parameters to test\n",
    "# Variable parameters\n",
    "data_type = ['Simulation'] # Simulation or Live BTF, or could do both\n",
    "frequencies = ['1min', '5min']\n",
    "cv = [] #To be updated\n",
    "\n",
    "# Fixed parameters\n",
    "predictors = ['ant1', 'ant2', 'ant3', 'ant4']\n",
    "responses = ['xOffset', 'yOffset']"
   ]
  },
  {
   "cell_type": "code",
   "execution_count": 49,
   "metadata": {},
   "outputs": [],
   "source": [
    "trained_models = []\n",
    "for freq in frequencies:\n",
    "    sim_data_preproc = preprocess_sim_data(sim_data, data_type, freq, tower_locs)\n",
    "    x = sim_data_preproc[predictors]\n",
    "    y = sim_data_preproc['xOffset'] # Will need to adjust this to iterate over x and y xOffset\n",
    "\n",
    "    X_train, X_test, y_train, y_test = train_test_split(x, y, test_size=0.3, random_state=seed)\n",
    "\n",
    "    for modelname, Model, params_list in modelclasses:\n",
    "        for params in params_list:\n",
    "            model = Model(**params)\n",
    "            scores = cross_val_score(model, X_train, y_train, cv=3)\n",
    "            score = np.mean(scores)\n",
    "            trained_models.append((modelname, model, params, freq, score))"
   ]
  },
  {
   "cell_type": "code",
   "execution_count": 33,
   "metadata": {},
   "outputs": [
    {
     "name": "stdout",
     "output_type": "stream",
     "text": [
      "K neighbours regressor {'n_neighbors': 7} 10min 0.18977129589222608\n",
      "K neighbours regressor {'n_neighbors': 7} 3min 0.15069430520867144\n",
      "K neighbours regressor {'n_neighbors': 3} 5min 0.14641551911210912\n",
      "Ada boost regressor {'n_estimators': 75} 3min 0.14426671402217264\n",
      "Ada boost regressor {'n_estimators': 75} 5min 0.13352588908293572\n",
      "Ada boost regressor {'n_estimators': 50} 5min 0.13114078428353956\n",
      "K neighbours regressor {'n_neighbors': 3} 3min 0.12485813941406114\n",
      "Ada boost regressor {'n_estimators': 50} 3min 0.1127175156072973\n",
      "K neighbours regressor {'n_neighbors': 3} 10min 0.11022100683669182\n",
      "Ada boost regressor {'n_estimators': 25} 3min 0.09278710874213252\n",
      "K neighbours regressor {'n_neighbors': 5} 3min 0.08707488405614976\n",
      "K neighbours regressor {'n_neighbors': 7} 5min 0.07829964213343658\n",
      "K neighbours regressor {'n_neighbors': 5} 1min 0.07383227623564086\n",
      "K neighbours regressor {'n_neighbors': 5} 10min 0.05678162736144451\n",
      "Ada boost regressor {'n_estimators': 25} 5min 0.05275225887165136\n",
      "Ada boost regressor {'n_estimators': 75} 10min 0.045408853997450094\n",
      "K neighbours regressor {'n_neighbors': 7} 1min 0.03666395473205101\n",
      "Ada boost regressor {'n_estimators': 25} 10min 0.03493855753583167\n",
      "Ada boost regressor {'n_estimators': 50} 10min 0.03224534735614334\n",
      "K neighbours regressor {'n_neighbors': 5} 5min 0.021005911563013457\n",
      "Ada boost regressor {'n_estimators': 75} 1min -0.06421388793086491\n",
      "Ada boost regressor {'n_estimators': 50} 1min -0.07833968518888446\n",
      "Ada boost regressor {'n_estimators': 25} 1min -0.09607899046035029\n",
      "K neighbours regressor {'n_neighbors': 3} 1min -0.17174489994468853\n"
     ]
    }
   ],
   "source": [
    "trained_models.sort(key=lambda x:x[-1], reverse=True)\n",
    "for modelname, model, params, freq, score in trained_models:\n",
    "    print(modelname, params, freq, score)"
   ]
  },
  {
   "cell_type": "code",
   "execution_count": 51,
   "metadata": {},
   "outputs": [
    {
     "data": {
      "image/png": "[encoded data removed]",
      "text/plain": [
       "<Figure size 640x480 with 1 Axes>"
      ]
     },
     "metadata": {},
     "output_type": "display_data"
    },
    {
     "data": {
      "image/png": "[encoded data removed]",
      "text/plain": [
       "<Figure size 640x480 with 1 Axes>"
      ]
     },
     "metadata": {},
     "output_type": "display_data"
    }
   ],
   "source": [
    "# Select a model from trained_models\n",
    "selected_model = trained_models[0][1]\n",
    "freq = trained_models[0][3]\n",
    "\n",
    "sim_data_preproc = preprocess_sim_data(sim_data, data_type, freq, tower_locs)\n",
    "x = sim_data_preproc[predictors]\n",
    "y = sim_data_preproc['xOffset'] # Will need to adjust this to iterate over x and y xOffset\n",
    "\n",
    "X_train, X_test, y_train, y_test = train_test_split(x, y, test_size=0.3, random_state=seed)\n",
    "\n",
    "#Fit the model on the training data\n",
    "selected_model.fit(X_train, y_train)\n",
    "\n",
    "# Make predictions on the test data\n",
    "y_pred = selected_model.predict(X_test)\n",
    "\n",
    "# Plot the estimated vs actual predictions\n",
    "plt.scatter(y_test, y_pred)\n",
    "plt.xlabel(\"Actual y_test Values\")\n",
    "plt.ylabel(\"Predicted y_test Values\")\n",
    "plt.title(\"Actual vs Predicted Values for y_test\")\n",
    "plt.show()\n",
    "\n",
    "# Plot the residuals\n",
    "residuals = y_test - y_pred\n",
    "plt.subplot(1, 2, 2)\n",
    "plt.scatter(y_test, residuals)\n",
    "plt.xlabel(\"Actual y_test Values\")\n",
    "plt.ylabel(\"Residuals\")\n",
    "plt.title(\"Residual Plot\")\n",
    "plt.show()"
   ]
  },
  {
   "cell_type": "code",
   "execution_count": null,
   "metadata": {},
   "outputs": [],
   "source": []
  },
  {
   "cell_type": "code",
   "execution_count": null,
   "metadata": {},
   "outputs": [],
   "source": []
  },
  {
   "cell_type": "code",
   "execution_count": null,
   "metadata": {},
   "outputs": [],
   "source": []
  },
  {
   "attachments": {},
   "cell_type": "markdown",
   "metadata": {},
   "source": [
    "Superseded"
   ]
  },
  {
   "cell_type": "code",
   "execution_count": 25,
   "metadata": {},
   "outputs": [],
   "source": [
    "insights = []\n",
    "for freq in frequencies:\n",
    "    sim_data_preproc = preprocess_sim_data(sim_data, data_type, freq, tower_locs)\n",
    "    x = sim_data_preproc[predictors]\n",
    "    y = sim_data_preproc['xOffset'] # Will need to adjust this to iterate over x and y xOffset\n",
    "\n",
    "    X_train, X_test, y_train, y_test = train_test_split(x, y, test_size=0.3, random_state=seed)\n",
    "\n",
    "    for modelname, Model, params_list in modelclasses:\n",
    "        for params in params_list:\n",
    "            model = Model(**params)\n",
    "            model.fit(X_train, y_train)\n",
    "            score = model.score(X_test, y_test)\n",
    "            insights.append((modelname, model, params, freq, score))"
   ]
  }
 ],
 "metadata": {
  "kernelspec": {
   "display_name": ".venv",
   "language": "python",
   "name": "python3"
  },
  "language_info": {
   "codemirror_mode": {
    "name": "ipython",
    "version": 3
   },
   "file_extension": ".py",
   "mimetype": "text/x-python",
   "name": "python",
   "nbconvert_exporter": "python",
   "pygments_lexer": "ipython3",
   "version": "3.11.2"
  },
  "orig_nbformat": 4,
  "vscode": {
   "interpreter": {
    "hash": "5c9c44150708f88dcc61b6a40c517040b165081f9891458623fe805b4ae9321d"
   }
  }
 },
 "nbformat": 4,
 "nbformat_minor": 2
}
