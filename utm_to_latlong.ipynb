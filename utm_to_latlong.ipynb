{
 "cells": [
  {
   "cell_type": "code",
   "execution_count": 2,
   "metadata": {},
   "outputs": [],
   "source": [
    "import pandas as pd\n",
    "import utm"
   ]
  },
  {
   "cell_type": "code",
   "execution_count": 6,
   "metadata": {},
   "outputs": [],
   "source": [
    "# Get data\n",
    "utm_data = '//192.168.100.3/Data/JOBS/~2019/QEJ19152/DATA ANALYSIS/RADIO TELEMETRY/MASTER DATA/RTpredLocs_20230317.xlsx'\n",
    "utm_data = pd.read_excel(utm_data)\n",
    "utm_data['DateTime'] = pd.to_datetime(utm_data['DateTime'])"
   ]
  },
  {
   "cell_type": "code",
   "execution_count": 7,
   "metadata": {},
   "outputs": [
    {
     "data": {
      "text/html": [
       "<div>\n",
       "<style scoped>\n",
       "    .dataframe tbody tr th:only-of-type {\n",
       "        vertical-align: middle;\n",
       "    }\n",
       "\n",
       "    .dataframe tbody tr th {\n",
       "        vertical-align: top;\n",
       "    }\n",
       "\n",
       "    .dataframe thead th {\n",
       "        text-align: right;\n",
       "    }\n",
       "</style>\n",
       "<table border=\"1\" class=\"dataframe\">\n",
       "  <thead>\n",
       "    <tr style=\"text-align: right;\">\n",
       "      <th></th>\n",
       "      <th>DateTime</th>\n",
       "      <th>TagID</th>\n",
       "      <th>X_Pred</th>\n",
       "      <th>Y_Pred</th>\n",
       "    </tr>\n",
       "  </thead>\n",
       "  <tbody>\n",
       "    <tr>\n",
       "      <th>0</th>\n",
       "      <td>2021-02-08 08:57:00</td>\n",
       "      <td>8</td>\n",
       "      <td>431375.114332</td>\n",
       "      <td>7.572700e+06</td>\n",
       "    </tr>\n",
       "    <tr>\n",
       "      <th>1</th>\n",
       "      <td>2021-02-08 08:58:00</td>\n",
       "      <td>8</td>\n",
       "      <td>431326.986895</td>\n",
       "      <td>7.572695e+06</td>\n",
       "    </tr>\n",
       "    <tr>\n",
       "      <th>2</th>\n",
       "      <td>2021-02-08 08:59:00</td>\n",
       "      <td>8</td>\n",
       "      <td>431290.774336</td>\n",
       "      <td>7.572667e+06</td>\n",
       "    </tr>\n",
       "    <tr>\n",
       "      <th>3</th>\n",
       "      <td>2021-02-08 09:00:00</td>\n",
       "      <td>8</td>\n",
       "      <td>431292.615901</td>\n",
       "      <td>7.572651e+06</td>\n",
       "    </tr>\n",
       "    <tr>\n",
       "      <th>4</th>\n",
       "      <td>2021-02-08 09:01:00</td>\n",
       "      <td>8</td>\n",
       "      <td>431299.830999</td>\n",
       "      <td>7.572648e+06</td>\n",
       "    </tr>\n",
       "    <tr>\n",
       "      <th>...</th>\n",
       "      <td>...</td>\n",
       "      <td>...</td>\n",
       "      <td>...</td>\n",
       "      <td>...</td>\n",
       "    </tr>\n",
       "    <tr>\n",
       "      <th>357371</th>\n",
       "      <td>2023-03-03 16:04:00</td>\n",
       "      <td>223</td>\n",
       "      <td>421136.239573</td>\n",
       "      <td>7.573920e+06</td>\n",
       "    </tr>\n",
       "    <tr>\n",
       "      <th>357372</th>\n",
       "      <td>2023-03-03 16:14:00</td>\n",
       "      <td>223</td>\n",
       "      <td>421135.148102</td>\n",
       "      <td>7.573970e+06</td>\n",
       "    </tr>\n",
       "    <tr>\n",
       "      <th>357373</th>\n",
       "      <td>2023-03-03 16:22:00</td>\n",
       "      <td>223</td>\n",
       "      <td>421133.394398</td>\n",
       "      <td>7.573970e+06</td>\n",
       "    </tr>\n",
       "    <tr>\n",
       "      <th>357374</th>\n",
       "      <td>2023-03-03 16:23:00</td>\n",
       "      <td>223</td>\n",
       "      <td>421147.611377</td>\n",
       "      <td>7.574025e+06</td>\n",
       "    </tr>\n",
       "    <tr>\n",
       "      <th>357375</th>\n",
       "      <td>2023-03-03 16:27:00</td>\n",
       "      <td>223</td>\n",
       "      <td>421146.956996</td>\n",
       "      <td>7.573943e+06</td>\n",
       "    </tr>\n",
       "  </tbody>\n",
       "</table>\n",
       "<p>357376 rows × 4 columns</p>\n",
       "</div>"
      ],
      "text/plain": [
       "                  DateTime  TagID         X_Pred        Y_Pred\n",
       "0      2021-02-08 08:57:00      8  431375.114332  7.572700e+06\n",
       "1      2021-02-08 08:58:00      8  431326.986895  7.572695e+06\n",
       "2      2021-02-08 08:59:00      8  431290.774336  7.572667e+06\n",
       "3      2021-02-08 09:00:00      8  431292.615901  7.572651e+06\n",
       "4      2021-02-08 09:01:00      8  431299.830999  7.572648e+06\n",
       "...                    ...    ...            ...           ...\n",
       "357371 2023-03-03 16:04:00    223  421136.239573  7.573920e+06\n",
       "357372 2023-03-03 16:14:00    223  421135.148102  7.573970e+06\n",
       "357373 2023-03-03 16:22:00    223  421133.394398  7.573970e+06\n",
       "357374 2023-03-03 16:23:00    223  421147.611377  7.574025e+06\n",
       "357375 2023-03-03 16:27:00    223  421146.956996  7.573943e+06\n",
       "\n",
       "[357376 rows x 4 columns]"
      ]
     },
     "execution_count": 7,
     "metadata": {},
     "output_type": "execute_result"
    }
   ],
   "source": [
    "utm_data"
   ]
  },
  {
   "cell_type": "code",
   "execution_count": 8,
   "metadata": {},
   "outputs": [],
   "source": [
    "#Function to convert geographic to projected coordinates\n",
    "def to_latlong(easting, northing, zone_number, letter):\n",
    "    latitude, longitude = utm.to_latlon(easting, northing, zone_number, letter)\n",
    "    return latitude, longitude"
   ]
  },
  {
   "cell_type": "code",
   "execution_count": 9,
   "metadata": {},
   "outputs": [],
   "source": [
    "#UTM zones for Bravus is Zone 55 Letter k\n",
    "utm_data['latitude'], utm_data['longitude'] = to_latlong(utm_data['X_Pred'].values, utm_data['Y_Pred'].values, 55, 'k')\n",
    "\n"
   ]
  },
  {
   "cell_type": "code",
   "execution_count": null,
   "metadata": {},
   "outputs": [],
   "source": [
    "utm_data"
   ]
  },
  {
   "cell_type": "code",
   "execution_count": 12,
   "metadata": {},
   "outputs": [],
   "source": [
    "output_path = '//192.168.100.3/Data/JOBS/~2019/QEJ19152/DATA ANALYSIS/RADIO TELEMETRY/MASTER DATA/RTpredLocs_LatLon_20230317.xlsx'\n",
    "\n",
    "utm_data.to_excel(output_path, index=False)"
   ]
  }
 ],
 "metadata": {
  "kernelspec": {
   "display_name": ".venv",
   "language": "python",
   "name": "python3"
  },
  "language_info": {
   "codemirror_mode": {
    "name": "ipython",
    "version": 3
   },
   "file_extension": ".py",
   "mimetype": "text/x-python",
   "name": "python",
   "nbconvert_exporter": "python",
   "pygments_lexer": "ipython3",
   "version": "3.9.13"
  },
  "orig_nbformat": 4
 },
 "nbformat": 4,
 "nbformat_minor": 2
}
