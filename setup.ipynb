{
 "cells": [
  {
   "cell_type": "code",
   "execution_count": 1,
   "metadata": {},
   "outputs": [
    {
     "name": "stdout",
     "output_type": "stream",
     "text": [
      "Requirement already satisfied: pandas in c:\\users\\s5236256\\documents\\github\\ml4rt\\.conda\\lib\\site-packages (from -r requirements.txt (line 1)) (1.5.3)\n",
      "Requirement already satisfied: numpy in c:\\users\\s5236256\\documents\\github\\ml4rt\\.conda\\lib\\site-packages (from -r requirements.txt (line 2)) (1.24.2)\n",
      "Requirement already satisfied: matplotlib in c:\\users\\s5236256\\documents\\github\\ml4rt\\.conda\\lib\\site-packages (from -r requirements.txt (line 3)) (3.6.3)\n",
      "Requirement already satisfied: seaborn in c:\\users\\s5236256\\documents\\github\\ml4rt\\.conda\\lib\\site-packages (from -r requirements.txt (line 4)) (0.12.2)\n",
      "Requirement already satisfied: scikit-learn in c:\\users\\s5236256\\documents\\github\\ml4rt\\.conda\\lib\\site-packages (from -r requirements.txt (line 5)) (1.2.1)\n",
      "Requirement already satisfied: openpyxl in c:\\users\\s5236256\\documents\\github\\ml4rt\\.conda\\lib\\site-packages (from -r requirements.txt (line 6)) (3.1.0)\n",
      "Collecting utm\n",
      "  Downloading utm-0.7.0.tar.gz (8.7 kB)\n",
      "  Preparing metadata (setup.py): started\n",
      "  Preparing metadata (setup.py): finished with status 'done'\n",
      "Requirement already satisfied: python-dateutil>=2.8.1 in c:\\users\\s5236256\\documents\\github\\ml4rt\\.conda\\lib\\site-packages (from pandas->-r requirements.txt (line 1)) (2.8.2)\n",
      "Requirement already satisfied: pytz>=2020.1 in c:\\users\\s5236256\\documents\\github\\ml4rt\\.conda\\lib\\site-packages (from pandas->-r requirements.txt (line 1)) (2022.7.1)\n",
      "Requirement already satisfied: packaging>=20.0 in c:\\users\\s5236256\\documents\\github\\ml4rt\\.conda\\lib\\site-packages (from matplotlib->-r requirements.txt (line 3)) (23.0)\n",
      "Requirement already satisfied: pillow>=6.2.0 in c:\\users\\s5236256\\documents\\github\\ml4rt\\.conda\\lib\\site-packages (from matplotlib->-r requirements.txt (line 3)) (9.4.0)\n",
      "Requirement already satisfied: kiwisolver>=1.0.1 in c:\\users\\s5236256\\documents\\github\\ml4rt\\.conda\\lib\\site-packages (from matplotlib->-r requirements.txt (line 3)) (1.4.4)\n",
      "Requirement already satisfied: cycler>=0.10 in c:\\users\\s5236256\\documents\\github\\ml4rt\\.conda\\lib\\site-packages (from matplotlib->-r requirements.txt (line 3)) (0.11.0)\n",
      "Requirement already satisfied: pyparsing>=2.2.1 in c:\\users\\s5236256\\documents\\github\\ml4rt\\.conda\\lib\\site-packages (from matplotlib->-r requirements.txt (line 3)) (3.0.9)\n",
      "Requirement already satisfied: fonttools>=4.22.0 in c:\\users\\s5236256\\documents\\github\\ml4rt\\.conda\\lib\\site-packages (from matplotlib->-r requirements.txt (line 3)) (4.38.0)\n",
      "Requirement already satisfied: contourpy>=1.0.1 in c:\\users\\s5236256\\documents\\github\\ml4rt\\.conda\\lib\\site-packages (from matplotlib->-r requirements.txt (line 3)) (1.0.7)\n",
      "Requirement already satisfied: scipy>=1.3.2 in c:\\users\\s5236256\\documents\\github\\ml4rt\\.conda\\lib\\site-packages (from scikit-learn->-r requirements.txt (line 5)) (1.10.0)\n",
      "Requirement already satisfied: joblib>=1.1.1 in c:\\users\\s5236256\\documents\\github\\ml4rt\\.conda\\lib\\site-packages (from scikit-learn->-r requirements.txt (line 5)) (1.2.0)\n",
      "Requirement already satisfied: threadpoolctl>=2.0.0 in c:\\users\\s5236256\\documents\\github\\ml4rt\\.conda\\lib\\site-packages (from scikit-learn->-r requirements.txt (line 5)) (3.1.0)\n",
      "Requirement already satisfied: et-xmlfile in c:\\users\\s5236256\\documents\\github\\ml4rt\\.conda\\lib\\site-packages (from openpyxl->-r requirements.txt (line 6)) (1.1.0)\n",
      "Requirement already satisfied: six>=1.5 in c:\\users\\s5236256\\documents\\github\\ml4rt\\.conda\\lib\\site-packages (from python-dateutil>=2.8.1->pandas->-r requirements.txt (line 1)) (1.16.0)\n",
      "Building wheels for collected packages: utm\n",
      "  Building wheel for utm (setup.py): started\n",
      "  Building wheel for utm (setup.py): finished with status 'done'\n",
      "  Created wheel for utm: filename=utm-0.7.0-py3-none-any.whl size=6092 sha256=c85c3fa1a6b24960e051c1a0cd2c1db6cde2601de248933be35446ea49c7121f\n",
      "  Stored in directory: c:\\users\\s5236256\\appdata\\local\\pip\\cache\\wheels\\45\\32\\60\\17655df214d7e5eeea1f5f76a8f590d9849a903f24b377c290\n",
      "Successfully built utm\n",
      "Installing collected packages: utm\n",
      "Successfully installed utm-0.7.0\n",
      "Note: you may need to restart the kernel to use updated packages.\n"
     ]
    }
   ],
   "source": [
    "pip install -r requirements.txt"
   ]
  }
 ],
 "metadata": {
  "kernelspec": {
   "display_name": "Python 3",
   "language": "python",
   "name": "python3"
  },
  "language_info": {
   "codemirror_mode": {
    "name": "ipython",
    "version": 3
   },
   "file_extension": ".py",
   "mimetype": "text/x-python",
   "name": "python",
   "nbconvert_exporter": "python",
   "pygments_lexer": "ipython3",
   "version": "3.10.9"
  },
  "orig_nbformat": 4,
  "vscode": {
   "interpreter": {
    "hash": "45f0d1641d5c6cec730b012d54027b3031614da7f9c0ec7cf694ea3b9c4b9924"
   }
  }
 },
 "nbformat": 4,
 "nbformat_minor": 2
}
