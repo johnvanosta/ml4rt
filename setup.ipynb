{
 "cells": [
  {
   "cell_type": "code",
   "execution_count": 2,
   "metadata": {},
   "outputs": [
    {
     "name": "stdout",
     "output_type": "stream",
     "text": [
      "Requirement already satisfied: pandas in c:\\users\\s5236256\\documents\\github\\ml4rt\\.conda\\lib\\site-packages (from -r requirements.txt (line 1)) (1.5.3)\n",
      "Requirement already satisfied: numpy in c:\\users\\s5236256\\documents\\github\\ml4rt\\.conda\\lib\\site-packages (from -r requirements.txt (line 2)) (1.24.2)\n",
      "Requirement already satisfied: matplotlib in c:\\users\\s5236256\\documents\\github\\ml4rt\\.conda\\lib\\site-packages (from -r requirements.txt (line 3)) (3.6.3)\n",
      "Requirement already satisfied: seaborn in c:\\users\\s5236256\\documents\\github\\ml4rt\\.conda\\lib\\site-packages (from -r requirements.txt (line 4)) (0.12.2)\n",
      "Requirement already satisfied: scikit-learn in c:\\users\\s5236256\\documents\\github\\ml4rt\\.conda\\lib\\site-packages (from -r requirements.txt (line 5)) (1.2.1)\n",
      "Requirement already satisfied: openpyxl in c:\\users\\s5236256\\documents\\github\\ml4rt\\.conda\\lib\\site-packages (from -r requirements.txt (line 6)) (3.1.0)\n",
      "Requirement already satisfied: utm in c:\\users\\s5236256\\documents\\github\\ml4rt\\.conda\\lib\\site-packages (from -r requirements.txt (line 7)) (0.7.0)\n",
      "Collecting statsmodels\n",
      "  Downloading statsmodels-0.13.5-cp310-cp310-win_amd64.whl (9.1 MB)\n",
      "     ---------------------------------------- 9.1/9.1 MB 3.2 MB/s eta 0:00:00\n",
      "Requirement already satisfied: python-dateutil>=2.8.1 in c:\\users\\s5236256\\documents\\github\\ml4rt\\.conda\\lib\\site-packages (from pandas->-r requirements.txt (line 1)) (2.8.2)\n",
      "Requirement already satisfied: pytz>=2020.1 in c:\\users\\s5236256\\documents\\github\\ml4rt\\.conda\\lib\\site-packages (from pandas->-r requirements.txt (line 1)) (2022.7.1)\n",
      "Requirement already satisfied: cycler>=0.10 in c:\\users\\s5236256\\documents\\github\\ml4rt\\.conda\\lib\\site-packages (from matplotlib->-r requirements.txt (line 3)) (0.11.0)\n",
      "Requirement already satisfied: pillow>=6.2.0 in c:\\users\\s5236256\\documents\\github\\ml4rt\\.conda\\lib\\site-packages (from matplotlib->-r requirements.txt (line 3)) (9.4.0)\n",
      "Requirement already satisfied: packaging>=20.0 in c:\\users\\s5236256\\documents\\github\\ml4rt\\.conda\\lib\\site-packages (from matplotlib->-r requirements.txt (line 3)) (23.0)\n",
      "Requirement already satisfied: kiwisolver>=1.0.1 in c:\\users\\s5236256\\documents\\github\\ml4rt\\.conda\\lib\\site-packages (from matplotlib->-r requirements.txt (line 3)) (1.4.4)\n",
      "Requirement already satisfied: fonttools>=4.22.0 in c:\\users\\s5236256\\documents\\github\\ml4rt\\.conda\\lib\\site-packages (from matplotlib->-r requirements.txt (line 3)) (4.38.0)\n",
      "Requirement already satisfied: contourpy>=1.0.1 in c:\\users\\s5236256\\documents\\github\\ml4rt\\.conda\\lib\\site-packages (from matplotlib->-r requirements.txt (line 3)) (1.0.7)\n",
      "Requirement already satisfied: pyparsing>=2.2.1 in c:\\users\\s5236256\\documents\\github\\ml4rt\\.conda\\lib\\site-packages (from matplotlib->-r requirements.txt (line 3)) (3.0.9)\n",
      "Requirement already satisfied: joblib>=1.1.1 in c:\\users\\s5236256\\documents\\github\\ml4rt\\.conda\\lib\\site-packages (from scikit-learn->-r requirements.txt (line 5)) (1.2.0)\n",
      "Requirement already satisfied: scipy>=1.3.2 in c:\\users\\s5236256\\documents\\github\\ml4rt\\.conda\\lib\\site-packages (from scikit-learn->-r requirements.txt (line 5)) (1.10.0)\n",
      "Requirement already satisfied: threadpoolctl>=2.0.0 in c:\\users\\s5236256\\documents\\github\\ml4rt\\.conda\\lib\\site-packages (from scikit-learn->-r requirements.txt (line 5)) (3.1.0)\n",
      "Requirement already satisfied: et-xmlfile in c:\\users\\s5236256\\documents\\github\\ml4rt\\.conda\\lib\\site-packages (from openpyxl->-r requirements.txt (line 6)) (1.1.0)\n",
      "Collecting patsy>=0.5.2\n",
      "  Downloading patsy-0.5.3-py2.py3-none-any.whl (233 kB)\n",
      "     -------------------------------------- 233.8/233.8 kB 3.5 MB/s eta 0:00:00\n",
      "Requirement already satisfied: six in c:\\users\\s5236256\\documents\\github\\ml4rt\\.conda\\lib\\site-packages (from patsy>=0.5.2->statsmodels->-r requirements.txt (line 8)) (1.16.0)\n",
      "Installing collected packages: patsy, statsmodels\n",
      "Successfully installed patsy-0.5.3 statsmodels-0.13.5\n",
      "Note: you may need to restart the kernel to use updated packages.\n"
     ]
    }
   ],
   "source": [
    "pip install -r requirements.txt"
   ]
  }
 ],
 "metadata": {
  "kernelspec": {
   "display_name": "Python 3",
   "language": "python",
   "name": "python3"
  },
  "language_info": {
   "codemirror_mode": {
    "name": "ipython",
    "version": 3
   },
   "file_extension": ".py",
   "mimetype": "text/x-python",
   "name": "python",
   "nbconvert_exporter": "python",
   "pygments_lexer": "ipython3",
   "version": "3.10.9"
  },
  "orig_nbformat": 4,
  "vscode": {
   "interpreter": {
    "hash": "45f0d1641d5c6cec730b012d54027b3031614da7f9c0ec7cf694ea3b9c4b9924"
   }
  }
 },
 "nbformat": 4,
 "nbformat_minor": 2
}
