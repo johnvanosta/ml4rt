{
 "cells": [
  {
   "cell_type": "code",
   "execution_count": 1,
   "metadata": {},
   "outputs": [],
   "source": [
    "import pandas as pd\n",
    "import h2o\n",
    "import os\n",
    "import utm\n",
    "import numpy as np\n",
    "from utils.to_latlon import to_latlon\n",
    "from utils.preprocessing import preprocess\n",
    "from utils.postprocessing import postprocess_data, location_averaging_inference\n",
    "import tkinter as tk\n",
    "from tkinter import filedialog\n",
    "from tkinter.simpledialog import askstring"
   ]
  },
  {
   "cell_type": "code",
   "execution_count": 2,
   "metadata": {},
   "outputs": [
    {
     "name": "stdout",
     "output_type": "stream",
     "text": [
      "Frequency: 3min\n"
     ]
    }
   ],
   "source": [
    "# User input of data paths and temporal resolution\n",
    "\n",
    "# Initialize Tkinter\n",
    "root = tk.Tk()\n",
    "root.attributes('-topmost', True)\n",
    "root.withdraw()\n",
    "\n",
    "# Ask the user to select the train data file\n",
    "receiver_data = filedialog.askopenfilename(\n",
    "    title=\"Select receiver data\",\n",
    "    filetypes=[(\"Excel files\", \"*.xlsx\")]\n",
    ")\n",
    "\n",
    "# Ask the user to select the radio tower XY data file\n",
    "radio_tower_xy_path = filedialog.askopenfilename(\n",
    "    title=\"Select radio tower location data\",\n",
    "    filetypes=[(\"Excel files\", \"*.xlsx\")]\n",
    ")\n",
    "\n",
    "# Ask the user to select the model save path\n",
    "model_save_path = filedialog.askdirectory(\n",
    "    title=\"Select folder that contains trained models from the 'train_model.ipynb' notebook\"\n",
    ")\n",
    "\n",
    "# Ask the user to select the model save path\n",
    "predictions_save_path = filedialog.askdirectory(\n",
    "    title=\"Select save path for output file with location predictions\"\n",
    ")\n",
    "\n",
    "# Function to get minutes from user\n",
    "def get_minutes():\n",
    "    while True:\n",
    "        minutes = askstring(\"Time (in minutes) to compile location data (t)\", \"Enter time period (t) in minutes (must be an integer):\")\n",
    "        if minutes and minutes.isdigit():\n",
    "            return minutes\n",
    "        messagebox.showerror(\"Error\", \"Invalid input. Please enter a number.\")\n",
    "\n",
    "# Prompt the user and get the validated input\n",
    "minutes = get_minutes()\n",
    "\n",
    "# Append the input number to 'min'\n",
    "freq = minutes + 'min'\n",
    "\n",
    "# Print freq to verify (optional)\n",
    "print(\"Frequency:\", freq)"
   ]
  },
  {
   "cell_type": "code",
   "execution_count": 3,
   "metadata": {},
   "outputs": [],
   "source": [
    "# Get training data\n",
    "pred_data = pd.read_excel(receiver_data)\n",
    "pred_data['DateAndTime'] = pd.to_datetime(pred_data['DateAndTime'])\n",
    "\n",
    "# Get tower locations\n",
    "tower_locs = pd.read_excel(radio_tower_xy_path)"
   ]
  },
  {
   "cell_type": "code",
   "execution_count": 4,
   "metadata": {},
   "outputs": [],
   "source": [
    "routine = 'prediction'\n",
    "dimensions = ['xOffset', 'yOffset']"
   ]
  },
  {
   "cell_type": "code",
   "execution_count": 5,
   "metadata": {},
   "outputs": [
    {
     "name": "stderr",
     "output_type": "stream",
     "text": [
      "c:\\Users\\JohnvanOsta\\Documents\\GitHub\\ml4rt\\utils\\preprocessing.py:29: FutureWarning: The provided callable <function std at 0x0000026367C8A980> is currently using SeriesGroupBy.std. In a future version of pandas, the provided callable will be used directly. To keep current behavior pass the string \"std\" instead.\n",
      "  .agg(['mean', 'count', np.std])\n"
     ]
    }
   ],
   "source": [
    "# Preprocess the unlabelled data\n",
    "pred_data_preproc, predictors_predict = preprocess(pred_data, freq, routine)\n",
    "\n",
    "# Create a dictionary of the coordinates of the towers\n",
    "offset_dict = tower_locs.set_index('TowerID').to_dict()\n",
    "tower_g = offset_dict['tower_group']\n",
    "\n",
    "# Add the model group\n",
    "pred_data_preproc['tower_group'] = pred_data_preproc['TowerID'].map(tower_g).fillna(0)"
   ]
  },
  {
   "cell_type": "code",
   "execution_count": 6,
   "metadata": {},
   "outputs": [
    {
     "name": "stdout",
     "output_type": "stream",
     "text": [
      "Checking whether there is an H2O instance running at http://localhost:54321."
     ]
    },
    {
     "name": "stderr",
     "output_type": "stream",
     "text": [
      "<string>:12: SyntaxWarning: invalid escape sequence '\\{'\n",
      "<string>:15: SyntaxWarning: invalid escape sequence '\\{'\n",
      "<>:12: SyntaxWarning: invalid escape sequence '\\{'\n",
      "<>:15: SyntaxWarning: invalid escape sequence '\\{'\n",
      "<string>:12: SyntaxWarning: invalid escape sequence '\\{'\n",
      "<string>:15: SyntaxWarning: invalid escape sequence '\\{'\n",
      "<>:12: SyntaxWarning: invalid escape sequence '\\{'\n",
      "<>:15: SyntaxWarning: invalid escape sequence '\\{'\n",
      "C:\\Users\\JohnvanOsta\\AppData\\Local\\Temp\\ipykernel_1508\\390266125.py:12: SyntaxWarning: invalid escape sequence '\\{'\n",
      "  model = h2o.load_model(f\"{model_save_path}\\{dimension}_group_{tower_group}_model\")\n",
      "C:\\Users\\JohnvanOsta\\AppData\\Local\\Temp\\ipykernel_1508\\390266125.py:15: SyntaxWarning: invalid escape sequence '\\{'\n",
      "  model = h2o.load_model(f\"{model_save_path}\\{dimension}_group_{tower_group}_model\")\n"
     ]
    },
    {
     "name": "stdout",
     "output_type": "stream",
     "text": [
      ".... not found.\n",
      "Attempting to start a local H2O server...\n",
      "; Java HotSpot(TM) 64-Bit Server VM (build 17.0.10+11-LTS-240, mixed mode, sharing)\n",
      "  Starting server from C:\\Users\\JohnvanOsta\\Documents\\GitHub\\ml4rt\\.venv\\Lib\\site-packages\\h2o\\backend\\bin\\h2o.jar\n",
      "  Ice root: C:\\Users\\JOHNVA~1\\AppData\\Local\\Temp\\tmp2nb53u2a\n",
      "  JVM stdout: C:\\Users\\JOHNVA~1\\AppData\\Local\\Temp\\tmp2nb53u2a\\h2o_JohnvanOsta_started_from_python.out\n",
      "  JVM stderr: C:\\Users\\JOHNVA~1\\AppData\\Local\\Temp\\tmp2nb53u2a\\h2o_JohnvanOsta_started_from_python.err\n",
      "  Server is running at http://127.0.0.1:54321\n",
      "Connecting to H2O server at http://127.0.0.1:54321 ... successful.\n",
      "Warning: Your H2O cluster version is (4 months and 28 days) old.  There may be a newer version available.\n",
      "Please download and install the latest version from: https://h2o-release.s3.amazonaws.com/h2o/latest_stable.html\n"
     ]
    },
    {
     "data": {
      "text/html": [
       "\n",
       "<style>\n",
       "\n",
       "#h2o-table-1.h2o-container {\n",
       "  overflow-x: auto;\n",
       "}\n",
       "#h2o-table-1 .h2o-table {\n",
       "  /* width: 100%; */\n",
       "  margin-top: 1em;\n",
       "  margin-bottom: 1em;\n",
       "}\n",
       "#h2o-table-1 .h2o-table caption {\n",
       "  white-space: nowrap;\n",
       "  caption-side: top;\n",
       "  text-align: left;\n",
       "  /* margin-left: 1em; */\n",
       "  margin: 0;\n",
       "  font-size: larger;\n",
       "}\n",
       "#h2o-table-1 .h2o-table thead {\n",
       "  white-space: nowrap; \n",
       "  position: sticky;\n",
       "  top: 0;\n",
       "  box-shadow: 0 -1px inset;\n",
       "}\n",
       "#h2o-table-1 .h2o-table tbody {\n",
       "  overflow: auto;\n",
       "}\n",
       "#h2o-table-1 .h2o-table th,\n",
       "#h2o-table-1 .h2o-table td {\n",
       "  text-align: right;\n",
       "  /* border: 1px solid; */\n",
       "}\n",
       "#h2o-table-1 .h2o-table tr:nth-child(even) {\n",
       "  /* background: #F5F5F5 */\n",
       "}\n",
       "\n",
       "</style>      \n",
       "<div id=\"h2o-table-1\" class=\"h2o-container\">\n",
       "  <table class=\"h2o-table\">\n",
       "    <caption></caption>\n",
       "    <thead></thead>\n",
       "    <tbody><tr><td>H2O_cluster_uptime:</td>\n",
       "<td>02 secs</td></tr>\n",
       "<tr><td>H2O_cluster_timezone:</td>\n",
       "<td>Australia/Brisbane</td></tr>\n",
       "<tr><td>H2O_data_parsing_timezone:</td>\n",
       "<td>UTC</td></tr>\n",
       "<tr><td>H2O_cluster_version:</td>\n",
       "<td>3.44.0.3</td></tr>\n",
       "<tr><td>H2O_cluster_version_age:</td>\n",
       "<td>4 months and 28 days</td></tr>\n",
       "<tr><td>H2O_cluster_name:</td>\n",
       "<td>H2O_from_python_JohnvanOsta_wbv1ye</td></tr>\n",
       "<tr><td>H2O_cluster_total_nodes:</td>\n",
       "<td>1</td></tr>\n",
       "<tr><td>H2O_cluster_free_memory:</td>\n",
       "<td>3.963 Gb</td></tr>\n",
       "<tr><td>H2O_cluster_total_cores:</td>\n",
       "<td>0</td></tr>\n",
       "<tr><td>H2O_cluster_allowed_cores:</td>\n",
       "<td>0</td></tr>\n",
       "<tr><td>H2O_cluster_status:</td>\n",
       "<td>locked, healthy</td></tr>\n",
       "<tr><td>H2O_connection_url:</td>\n",
       "<td>http://127.0.0.1:54321</td></tr>\n",
       "<tr><td>H2O_connection_proxy:</td>\n",
       "<td>{\"http\": null, \"https\": null}</td></tr>\n",
       "<tr><td>H2O_internal_security:</td>\n",
       "<td>False</td></tr>\n",
       "<tr><td>Python_version:</td>\n",
       "<td>3.12.3 final</td></tr></tbody>\n",
       "  </table>\n",
       "</div>\n"
      ],
      "text/plain": [
       "--------------------------  ----------------------------------\n",
       "H2O_cluster_uptime:         02 secs\n",
       "H2O_cluster_timezone:       Australia/Brisbane\n",
       "H2O_data_parsing_timezone:  UTC\n",
       "H2O_cluster_version:        3.44.0.3\n",
       "H2O_cluster_version_age:    4 months and 28 days\n",
       "H2O_cluster_name:           H2O_from_python_JohnvanOsta_wbv1ye\n",
       "H2O_cluster_total_nodes:    1\n",
       "H2O_cluster_free_memory:    3.963 Gb\n",
       "H2O_cluster_total_cores:    0\n",
       "H2O_cluster_allowed_cores:  0\n",
       "H2O_cluster_status:         locked, healthy\n",
       "H2O_connection_url:         http://127.0.0.1:54321\n",
       "H2O_connection_proxy:       {\"http\": null, \"https\": null}\n",
       "H2O_internal_security:      False\n",
       "Python_version:             3.12.3 final\n",
       "--------------------------  ----------------------------------"
      ]
     },
     "metadata": {},
     "output_type": "display_data"
    },
    {
     "name": "stdout",
     "output_type": "stream",
     "text": [
      "Parse progress: |████████████████████████████████████████████████████████████████| (done) 100%\n",
      "gbm prediction progress: |███████████████████████████████████████████████████████| (done) 100%\n"
     ]
    },
    {
     "name": "stderr",
     "output_type": "stream",
     "text": [
      "c:\\Users\\JohnvanOsta\\Documents\\GitHub\\ml4rt\\.venv\\Lib\\site-packages\\h2o\\frame.py:1979: H2ODependencyWarning: converting H2O frame to pandas dataframe using single-thread.  For faster conversion using multi-thread, install datatable (for Python 3.9 or lower), or polars and pyarrow (for Python 3.10 or above).\n",
      "  warnings.warn(\"converting H2O frame to pandas dataframe using single-thread.  For faster conversion using\"\n"
     ]
    },
    {
     "name": "stdout",
     "output_type": "stream",
     "text": [
      "Parse progress: |████████████████████████████████████████████████████████████████| (done) 100%\n",
      "stackedensemble prediction progress: |███████████████████████████████████████████| (done) 100%\n",
      "H2O session _sid_b2e3 closed.\n"
     ]
    },
    {
     "name": "stderr",
     "output_type": "stream",
     "text": [
      "c:\\Users\\JohnvanOsta\\Documents\\GitHub\\ml4rt\\.venv\\Lib\\site-packages\\h2o\\frame.py:1979: H2ODependencyWarning: converting H2O frame to pandas dataframe using single-thread.  For faster conversion using multi-thread, install datatable (for Python 3.9 or lower), or polars and pyarrow (for Python 3.10 or above).\n",
      "  warnings.warn(\"converting H2O frame to pandas dataframe using single-thread.  For faster conversion using\"\n"
     ]
    }
   ],
   "source": [
    "tower_groups = tower_locs['tower_group'].unique()\n",
    "\n",
    "# Initialise h2o\n",
    "h2o.init(nthreads = 2)\n",
    "\n",
    "# Make predictions for each tower group and dimension\n",
    "for tower_group in tower_groups:\n",
    "    for dimension in dimensions:\n",
    "        # Load the trained model\n",
    "        try:\n",
    "            if dimension == 'xOffset':\n",
    "                model = h2o.load_model(f\"{model_save_path}\\{dimension}_group_{tower_group}_model\")\n",
    "                \n",
    "            elif dimension == 'yOffset':\n",
    "                model = h2o.load_model(f\"{model_save_path}\\{dimension}_group_{tower_group}_model\")\n",
    "            else:\n",
    "                raise ValueError(f\"Error loading the model: {dimension}\")\n",
    "        except Exception as e:\n",
    "            print(f\"Error loading model for dimension '{dimension}': {str(e)}\")\n",
    "    \n",
    "        # Make predictions on the test data\n",
    "        data_input = pred_data_preproc[pred_data_preproc['tower_group'] == tower_group]\n",
    "        data_input['unique_index'] = data_input.index ## Delete once bug tested\n",
    "        unlabelled_data = h2o.H2OFrame(data_input, header=1)\n",
    "        preds = model.predict(unlabelled_data)\n",
    "\n",
    "        # Save predictions to a new column in the test dataframe\n",
    "        pred_column_name = f\"{dimension}_pred\"\n",
    "        pred_data_preproc.loc[pred_data_preproc['tower_group'] == tower_group, pred_column_name] = preds.as_data_frame().values\n",
    "        \n",
    "\n",
    "# Stop h2o\n",
    "h2o.cluster().shutdown()"
   ]
  },
  {
   "cell_type": "code",
   "execution_count": 7,
   "metadata": {},
   "outputs": [],
   "source": [
    "# Post process the data and save the predictions\n",
    "predictions = postprocess_data(pred_data_preproc, tower_locs)\n",
    "location_estimates = location_averaging_inference(predictions)\n",
    "location_estimates[['latitude_pred', 'longitude_pred']] = location_estimates.apply(lambda row: pd.Series(to_latlon(row['easting_pred'], row['northing_pred'], row['zone_number'], row['zone_letter'])), axis=1)\n",
    "location_estimates.to_excel(os.path.join(predictions_save_path, \"predictions.xlsx\"), index=False)"
   ]
  }
 ],
 "metadata": {
  "kernelspec": {
   "display_name": ".venv",
   "language": "python",
   "name": "python3"
  },
  "language_info": {
   "codemirror_mode": {
    "name": "ipython",
    "version": 3
   },
   "file_extension": ".py",
   "mimetype": "text/x-python",
   "name": "python",
   "nbconvert_exporter": "python",
   "pygments_lexer": "ipython3",
   "version": "3.12.3"
  },
  "orig_nbformat": 4
 },
 "nbformat": 4,
 "nbformat_minor": 2
}
