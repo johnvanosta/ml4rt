{
 "cells": [
  {
   "cell_type": "code",
   "execution_count": 1,
   "metadata": {},
   "outputs": [],
   "source": [
    "import pandas as pd\n",
    "import h2o\n",
    "import utm\n",
    "from utils.from_latlon import from_latlon"
   ]
  },
  {
   "cell_type": "code",
   "execution_count": 2,
   "metadata": {},
   "outputs": [
    {
     "name": "stdout",
     "output_type": "stream",
     "text": [
      "224920.91212243412\n"
     ]
    }
   ],
   "source": [
    "lat = -22.3846\n",
    "longitude = 156.32847\n",
    "\n",
    "easting, northing, zone_num, zone_letter = from_latlon(lat, longitude)\n",
    "\n",
    "print(easting)"
   ]
  },
  {
   "cell_type": "code",
   "execution_count": 3,
   "metadata": {},
   "outputs": [
    {
     "name": "stdout",
     "output_type": "stream",
     "text": [
      "7\n"
     ]
    }
   ],
   "source": [
    "x = 3\n",
    "y = 4\n",
    "print(add(x, y))"
   ]
  },
  {
   "cell_type": "code",
   "execution_count": null,
   "metadata": {},
   "outputs": [],
   "source": [
    "pred_data = 'Example_data\\Input\\Lotek_combined_csv\\sampled_data.csv'\n",
    "\n",
    "# Variable parameters\n",
    "freq = '5min' # Frequency of data\n",
    "\n",
    "dimensions = ['xOffset', 'yOffset']\n",
    "predictors = ['ant1_mean', 'ant2_mean', 'ant3_mean', 'ant4_mean', 'ant1_count', 'ant2_count', 'ant3_count', 'ant4_count', 'ant1_std', 'ant2_std', 'ant3_std', 'ant4_std', 'mean_std', 'total_count']"
   ]
  },
  {
   "cell_type": "code",
   "execution_count": null,
   "metadata": {},
   "outputs": [],
   "source": [
    "# Get prediction data\n",
    "pred_data = pd.read_csv(pred_data)\n",
    "pred_data['DateAndTime'] = pd.to_datetime(train_data['DateAndTime'])"
   ]
  },
  {
   "cell_type": "code",
   "execution_count": null,
   "metadata": {},
   "outputs": [],
   "source": [
    "# Preprocess the training and testing data\n",
    "train_data_preproc = preprocess_sim_data(train_data, data_type, freq, tower_locs)\n",
    "test_data_preproc = preprocess_sim_data(test_data, data_type, freq, tower_locs)\n",
    "\n",
    "# Initialise h2o\n",
    "h2o.init()\n",
    "\n",
    "# Train, save and test the models for each dimension\n",
    "for dimension in dimensions:\n",
    "    print(f\"Training model for {dimension}\")\n",
    "    # Train the model\n",
    "    variables = predictors + [dimension]\n",
    "    training_input = train_data_preproc[variables]\n",
    "    train = h2o.H2OFrame(training_input)\n",
    "    aml = H2OAutoML(max_models=20, seed=seed, stopping_metric='MAE', sort_metric='MAE')\n",
    "    aml.train(x=predictors, y=dimension, training_frame=train)\n",
    "    print(aml.leaderboard)\n",
    "\n",
    "    # Save the leader model\n",
    "    h2o.save_model(aml.leader, path = f\"Example_data\\Output\\Trained_models\\{dimension}\", force=True)\n",
    "\n",
    "    # Make predictions on the test data\n",
    "    test = h2o.H2OFrame(test_data_preproc)\n",
    "    preds = aml.leader.predict(test)\n",
    "\n",
    "    # Save predictions to a new column in the test dataframe\n",
    "    pred_column_name = f\"{dimension}_pred\"\n",
    "    test_data_preproc[pred_column_name] = preds.as_data_frame()\n",
    "\n",
    "# Stop h2o\n",
    "h2o.cluster().shutdown()"
   ]
  }
 ],
 "metadata": {
  "kernelspec": {
   "display_name": ".venv",
   "language": "python",
   "name": "python3"
  },
  "language_info": {
   "codemirror_mode": {
    "name": "ipython",
    "version": 3
   },
   "file_extension": ".py",
   "mimetype": "text/x-python",
   "name": "python",
   "nbconvert_exporter": "python",
   "pygments_lexer": "ipython3",
   "version": "3.9.13"
  },
  "orig_nbformat": 4
 },
 "nbformat": 4,
 "nbformat_minor": 2
}
