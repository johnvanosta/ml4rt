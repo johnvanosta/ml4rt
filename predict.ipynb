{
 "cells": [
  {
   "cell_type": "code",
   "execution_count": 3,
   "metadata": {},
   "outputs": [],
   "source": [
    "import pandas as pd\n",
    "import h2o\n",
    "import utm\n",
    "import numpy as np\n",
    "from utils.to_latlon import to_latlon\n",
    "from utils.preprocessing import preprocess\n",
    "from utils.postprocessing import postprocess_data"
   ]
  },
  {
   "cell_type": "code",
   "execution_count": 1,
   "metadata": {},
   "outputs": [],
   "source": [
    "# Filepaths to input data\n",
    "pred_data_path = 'Example_data\\Input\\Lotek_combined_csv\\sampled_data.csv'\n",
    "radio_tower_xy_path = 'Example_data\\Input\\Radio_tower_locations\\RTEastNorth.xlsx'\n",
    "\n",
    "# Filepaths to trained models\n",
    "xOffset_model_path = r'Example_data\\Output\\Trained_models\\xOffset\\DeepLearning_grid_3_AutoML_1_20230528_210520_model_1'\n",
    "yOffset_model_path = r'Example_data\\Output\\Trained_models\\yOffset\\StackedEnsemble_AllModels_1_AutoML_2_20230528_210956'\n",
    "\n",
    "# Variable parameters\n",
    "freq = '5min' # Frequency of data\n",
    "data_type = None\n",
    "\n",
    "routine = 'prediction'\n",
    "dimensions = ['xOffset', 'yOffset']\n",
    "predictors = ['ant1_mean', 'ant2_mean', 'ant3_mean', 'ant4_mean', 'ant1_count', 'ant2_count', 'ant3_count', 'ant4_count', 'ant1_std', 'ant2_std', 'ant3_std', 'ant4_std', 'mean_std', 'total_count']"
   ]
  },
  {
   "cell_type": "code",
   "execution_count": 4,
   "metadata": {},
   "outputs": [],
   "source": [
    "# Get prediction data\n",
    "pred_data = pd.read_csv(pred_data_path)\n",
    "pred_data['DateAndTime'] = pd.to_datetime(pred_data['DateAndTime'])\n",
    "\n",
    "# Get tower locations\n",
    "tower_locs = pd.read_excel(radio_tower_xy_path)"
   ]
  },
  {
   "cell_type": "code",
   "execution_count": 5,
   "metadata": {},
   "outputs": [],
   "source": [
    "# Preprocess the unlabelled data\n",
    "pred_data_preproc = preprocess(pred_data, freq, routine)"
   ]
  },
  {
   "cell_type": "code",
   "execution_count": 7,
   "metadata": {},
   "outputs": [
    {
     "name": "stdout",
     "output_type": "stream",
     "text": [
      "Checking whether there is an H2O instance running at http://localhost:54321..... not found.\n",
      "Attempting to start a local H2O server...\n",
      "; OpenJDK 64-Bit Server VM Zulu17.36+17-CA (build 17.0.4.1+1-LTS, mixed mode, sharing)\n",
      "  Starting server from C:\\Users\\s5236256\\Documents\\GitHub\\ml4rt\\.venv\\Lib\\site-packages\\h2o\\backend\\bin\\h2o.jar\n",
      "  Ice root: C:\\Users\\s5236256\\AppData\\Local\\Temp\\tmpys8f61oe\n",
      "  JVM stdout: C:\\Users\\s5236256\\AppData\\Local\\Temp\\tmpys8f61oe\\h2o_s5236256_started_from_python.out\n",
      "  JVM stderr: C:\\Users\\s5236256\\AppData\\Local\\Temp\\tmpys8f61oe\\h2o_s5236256_started_from_python.err\n",
      "  Server is running at http://127.0.0.1:54321\n",
      "Connecting to H2O server at http://127.0.0.1:54321 ... successful.\n"
     ]
    },
    {
     "data": {
      "text/html": [
       "\n",
       "<style>\n",
       "\n",
       "#h2o-table-1.h2o-container {\n",
       "  overflow-x: auto;\n",
       "}\n",
       "#h2o-table-1 .h2o-table {\n",
       "  /* width: 100%; */\n",
       "  margin-top: 1em;\n",
       "  margin-bottom: 1em;\n",
       "}\n",
       "#h2o-table-1 .h2o-table caption {\n",
       "  white-space: nowrap;\n",
       "  caption-side: top;\n",
       "  text-align: left;\n",
       "  /* margin-left: 1em; */\n",
       "  margin: 0;\n",
       "  font-size: larger;\n",
       "}\n",
       "#h2o-table-1 .h2o-table thead {\n",
       "  white-space: nowrap; \n",
       "  position: sticky;\n",
       "  top: 0;\n",
       "  box-shadow: 0 -1px inset;\n",
       "}\n",
       "#h2o-table-1 .h2o-table tbody {\n",
       "  overflow: auto;\n",
       "}\n",
       "#h2o-table-1 .h2o-table th,\n",
       "#h2o-table-1 .h2o-table td {\n",
       "  text-align: right;\n",
       "  /* border: 1px solid; */\n",
       "}\n",
       "#h2o-table-1 .h2o-table tr:nth-child(even) {\n",
       "  /* background: #F5F5F5 */\n",
       "}\n",
       "\n",
       "</style>      \n",
       "<div id=\"h2o-table-1\" class=\"h2o-container\">\n",
       "  <table class=\"h2o-table\">\n",
       "    <caption></caption>\n",
       "    <thead></thead>\n",
       "    <tbody><tr><td>H2O_cluster_uptime:</td>\n",
       "<td>10 secs</td></tr>\n",
       "<tr><td>H2O_cluster_timezone:</td>\n",
       "<td>Australia/Brisbane</td></tr>\n",
       "<tr><td>H2O_data_parsing_timezone:</td>\n",
       "<td>UTC</td></tr>\n",
       "<tr><td>H2O_cluster_version:</td>\n",
       "<td>3.40.0.4</td></tr>\n",
       "<tr><td>H2O_cluster_version_age:</td>\n",
       "<td>1 month and 6 days</td></tr>\n",
       "<tr><td>H2O_cluster_name:</td>\n",
       "<td>H2O_from_python_s5236256_605qim</td></tr>\n",
       "<tr><td>H2O_cluster_total_nodes:</td>\n",
       "<td>1</td></tr>\n",
       "<tr><td>H2O_cluster_free_memory:</td>\n",
       "<td>3.922 Gb</td></tr>\n",
       "<tr><td>H2O_cluster_total_cores:</td>\n",
       "<td>8</td></tr>\n",
       "<tr><td>H2O_cluster_allowed_cores:</td>\n",
       "<td>8</td></tr>\n",
       "<tr><td>H2O_cluster_status:</td>\n",
       "<td>locked, healthy</td></tr>\n",
       "<tr><td>H2O_connection_url:</td>\n",
       "<td>http://127.0.0.1:54321</td></tr>\n",
       "<tr><td>H2O_connection_proxy:</td>\n",
       "<td>{\"http\": null, \"https\": null}</td></tr>\n",
       "<tr><td>H2O_internal_security:</td>\n",
       "<td>False</td></tr>\n",
       "<tr><td>Python_version:</td>\n",
       "<td>3.11.2 final</td></tr></tbody>\n",
       "  </table>\n",
       "</div>\n"
      ],
      "text/plain": [
       "--------------------------  -------------------------------\n",
       "H2O_cluster_uptime:         10 secs\n",
       "H2O_cluster_timezone:       Australia/Brisbane\n",
       "H2O_data_parsing_timezone:  UTC\n",
       "H2O_cluster_version:        3.40.0.4\n",
       "H2O_cluster_version_age:    1 month and 6 days\n",
       "H2O_cluster_name:           H2O_from_python_s5236256_605qim\n",
       "H2O_cluster_total_nodes:    1\n",
       "H2O_cluster_free_memory:    3.922 Gb\n",
       "H2O_cluster_total_cores:    8\n",
       "H2O_cluster_allowed_cores:  8\n",
       "H2O_cluster_status:         locked, healthy\n",
       "H2O_connection_url:         http://127.0.0.1:54321\n",
       "H2O_connection_proxy:       {\"http\": null, \"https\": null}\n",
       "H2O_internal_security:      False\n",
       "Python_version:             3.11.2 final\n",
       "--------------------------  -------------------------------"
      ]
     },
     "metadata": {},
     "output_type": "display_data"
    },
    {
     "name": "stdout",
     "output_type": "stream",
     "text": [
      "Parse progress: |████████████████████████████████████████████████████████████████| (done) 100%\n",
      "deeplearning prediction progress: |██████████████████████████████████████████████| (done) 100%\n",
      "Parse progress: |████████████████████████████████████████████████████████████████| (done) 100%\n",
      "stackedensemble prediction progress: |███████████████████████████████████████████| (done) 100%\n",
      "H2O session _sid_9aaa closed.\n"
     ]
    }
   ],
   "source": [
    "# Initialise h2o\n",
    "h2o.init()\n",
    "\n",
    "# Make predictions for each dimension\n",
    "for dimension in dimensions:\n",
    "    # Load the trained model\n",
    "    try:\n",
    "        if dimension == 'xOffset':\n",
    "            model = h2o.load_model(xOffset_model_path)\n",
    "        elif dimension == 'yOffset':\n",
    "            model = h2o.load_model(yOffset_model_path)\n",
    "        else:\n",
    "            raise ValueError(f\"Unknown dimension: {dimension}\")\n",
    "    except Exception as e:\n",
    "        print(f\"Error loading model for dimension '{dimension}': {str(e)}\")\n",
    "   \n",
    "    # Make predictions on the test data\n",
    "    unlabelled_data = h2o.H2OFrame(pred_data_preproc)\n",
    "    preds = model.predict(unlabelled_data)\n",
    "\n",
    "    # Save predictions to a new column in the test dataframe\n",
    "    pred_column_name = f\"{dimension}_pred\"\n",
    "    pred_data_preproc[pred_column_name] = preds.as_data_frame()\n",
    "\n",
    "# Stop h2o\n",
    "h2o.cluster().shutdown()"
   ]
  },
  {
   "cell_type": "code",
   "execution_count": 9,
   "metadata": {},
   "outputs": [],
   "source": [
    "predictions = postprocess_data(pred_data_preproc, tower_locs)"
   ]
  },
  {
   "cell_type": "code",
   "execution_count": 11,
   "metadata": {},
   "outputs": [],
   "source": [
    "predictions[['latitude_pred', 'longitude_pred']] = predictions.apply(lambda row: pd.Series(to_latlon(row['easting_pred'], row['northing_pred'], row['zone_number'], row['zone_letter'])), axis=1)\n"
   ]
  },
  {
   "cell_type": "code",
   "execution_count": 12,
   "metadata": {},
   "outputs": [],
   "source": [
    "predictions.to_excel(\"predictions.xlsx\", index=False)"
   ]
  }
 ],
 "metadata": {
  "kernelspec": {
   "display_name": ".venv",
   "language": "python",
   "name": "python3"
  },
  "language_info": {
   "codemirror_mode": {
    "name": "ipython",
    "version": 3
   },
   "file_extension": ".py",
   "mimetype": "text/x-python",
   "name": "python",
   "nbconvert_exporter": "python",
   "pygments_lexer": "ipython3",
   "version": "3.11.2"
  },
  "orig_nbformat": 4
 },
 "nbformat": 4,
 "nbformat_minor": 2
}
