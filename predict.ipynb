{
 "cells": [
  {
   "cell_type": "code",
   "execution_count": 4,
   "metadata": {},
   "outputs": [],
   "source": [
    "import pandas as pd\n",
    "import h2o\n",
    "import os\n",
    "import utm\n",
    "import numpy as np\n",
    "from utils.to_latlon import to_latlon\n",
    "from utils.preprocessing import preprocess\n",
    "from utils.postprocessing import postprocess_data"
   ]
  },
  {
   "cell_type": "code",
   "execution_count": 5,
   "metadata": {},
   "outputs": [],
   "source": [
    "# Filepaths to input data\n",
    "all_tags_path = r'C:\\Users\\John\\SynologyDrive\\JOBS\\~2019\\QEJ19152\\DATA ANALYSIS\\MOVEMENT_ECOLOGY\\MASTER_DATA\\ART_DATA\\All_TAGS'\n",
    "radio_tower_xy_path = 'Example_data\\Input\\Radio_tower_locations\\RTEastNorth_2groups.xlsx'\n",
    "\n",
    "# Filepaths to trained models\n",
    "model_save_path = 'Example_data\\Output\\Trained_models\\MovEcolPaper'\n",
    "\n",
    "# Variable parameters\n",
    "freq = '3min' # Frequency of data\n",
    "data_type = None\n",
    "\n",
    "routine = 'prediction'\n",
    "dimensions = ['xOffset', 'yOffset']\n",
    "predictors = ['ant1_mean', 'ant2_mean', 'ant3_mean', 'ant4_mean', 'ant1_count', 'ant2_count', 'ant3_count', 'ant4_count', 'ant1_std', 'ant2_std', 'ant3_std', 'ant4_std', 'mean_std', 'total_count']"
   ]
  },
  {
   "cell_type": "code",
   "execution_count": 6,
   "metadata": {},
   "outputs": [],
   "source": [
    "# Combine all tag data files into a single dataframe\n",
    "all_dataframes = []\n",
    "\n",
    "# Loop through each file in the folder\n",
    "for filename in os.listdir(all_tags_path):\n",
    "    if filename.endswith('.xlsx') or filename.endswith('.xls'):\n",
    "        # Construct full file path\n",
    "        file_path = os.path.join(all_tags_path, filename)\n",
    "        # Read the excel file and append to the list\n",
    "        df = pd.read_excel(file_path)\n",
    "        all_dataframes.append(df)\n",
    "\n",
    "# Concatenate all dataframes\n",
    "pred_data = pd.concat(all_dataframes, ignore_index=True)\n",
    "pred_data['DateAndTime'] = pd.to_datetime(pred_data['DateAndTime'])"
   ]
  },
  {
   "cell_type": "code",
   "execution_count": 7,
   "metadata": {},
   "outputs": [],
   "source": [
    "# Get tower locations\n",
    "tower_locs = pd.read_excel(radio_tower_xy_path)"
   ]
  },
  {
   "cell_type": "code",
   "execution_count": 8,
   "metadata": {},
   "outputs": [
    {
     "name": "stdout",
     "output_type": "stream",
     "text": [
      "up to preprocess\n",
      "created DateTime\n",
      "down routine prediction route\n",
      "prediction route subprocess complete\n"
     ]
    }
   ],
   "source": [
    "# Preprocess the unlabelled data\n",
    "pred_data_preproc, predictors_predict = preprocess(pred_data, freq, routine)\n",
    "\n",
    "# Create a dictionary of the coordinates of the towers\n",
    "offset_dict = tower_locs.set_index('TowerID').to_dict()\n",
    "tower_g = offset_dict['tower_group']\n",
    "\n",
    "# Add the model group\n",
    "pred_data_preproc['tower_group'] = pred_data_preproc['TowerID'].map(tower_g).fillna(0)"
   ]
  },
  {
   "cell_type": "code",
   "execution_count": 32,
   "metadata": {},
   "outputs": [
    {
     "name": "stdout",
     "output_type": "stream",
     "text": [
      "Checking whether there is an H2O instance running at http://localhost:54321. connected.\n",
      "Warning: Your H2O cluster version is (7 months and 11 days) old.  There may be a newer version available.\n",
      "Please download and install the latest version from: https://h2o-release.s3.amazonaws.com/h2o/latest_stable.html\n"
     ]
    },
    {
     "data": {
      "text/html": [
       "\n",
       "<style>\n",
       "\n",
       "#h2o-table-8.h2o-container {\n",
       "  overflow-x: auto;\n",
       "}\n",
       "#h2o-table-8 .h2o-table {\n",
       "  /* width: 100%; */\n",
       "  margin-top: 1em;\n",
       "  margin-bottom: 1em;\n",
       "}\n",
       "#h2o-table-8 .h2o-table caption {\n",
       "  white-space: nowrap;\n",
       "  caption-side: top;\n",
       "  text-align: left;\n",
       "  /* margin-left: 1em; */\n",
       "  margin: 0;\n",
       "  font-size: larger;\n",
       "}\n",
       "#h2o-table-8 .h2o-table thead {\n",
       "  white-space: nowrap; \n",
       "  position: sticky;\n",
       "  top: 0;\n",
       "  box-shadow: 0 -1px inset;\n",
       "}\n",
       "#h2o-table-8 .h2o-table tbody {\n",
       "  overflow: auto;\n",
       "}\n",
       "#h2o-table-8 .h2o-table th,\n",
       "#h2o-table-8 .h2o-table td {\n",
       "  text-align: right;\n",
       "  /* border: 1px solid; */\n",
       "}\n",
       "#h2o-table-8 .h2o-table tr:nth-child(even) {\n",
       "  /* background: #F5F5F5 */\n",
       "}\n",
       "\n",
       "</style>      \n",
       "<div id=\"h2o-table-8\" class=\"h2o-container\">\n",
       "  <table class=\"h2o-table\">\n",
       "    <caption></caption>\n",
       "    <thead></thead>\n",
       "    <tbody><tr><td>H2O_cluster_uptime:</td>\n",
       "<td>29 mins 11 secs</td></tr>\n",
       "<tr><td>H2O_cluster_timezone:</td>\n",
       "<td>Australia/Sydney</td></tr>\n",
       "<tr><td>H2O_data_parsing_timezone:</td>\n",
       "<td>UTC</td></tr>\n",
       "<tr><td>H2O_cluster_version:</td>\n",
       "<td>3.40.0.4</td></tr>\n",
       "<tr><td>H2O_cluster_version_age:</td>\n",
       "<td>7 months and 11 days</td></tr>\n",
       "<tr><td>H2O_cluster_name:</td>\n",
       "<td>H2O_from_python_John_ovtgbs</td></tr>\n",
       "<tr><td>H2O_cluster_total_nodes:</td>\n",
       "<td>1</td></tr>\n",
       "<tr><td>H2O_cluster_free_memory:</td>\n",
       "<td>3.054 Gb</td></tr>\n",
       "<tr><td>H2O_cluster_total_cores:</td>\n",
       "<td>8</td></tr>\n",
       "<tr><td>H2O_cluster_allowed_cores:</td>\n",
       "<td>2</td></tr>\n",
       "<tr><td>H2O_cluster_status:</td>\n",
       "<td>locked, healthy</td></tr>\n",
       "<tr><td>H2O_connection_url:</td>\n",
       "<td>http://localhost:54321</td></tr>\n",
       "<tr><td>H2O_connection_proxy:</td>\n",
       "<td>{\"http\": null, \"https\": null}</td></tr>\n",
       "<tr><td>H2O_internal_security:</td>\n",
       "<td>False</td></tr>\n",
       "<tr><td>Python_version:</td>\n",
       "<td>3.9.13 final</td></tr></tbody>\n",
       "  </table>\n",
       "</div>\n"
      ],
      "text/plain": [
       "--------------------------  -----------------------------\n",
       "H2O_cluster_uptime:         29 mins 11 secs\n",
       "H2O_cluster_timezone:       Australia/Sydney\n",
       "H2O_data_parsing_timezone:  UTC\n",
       "H2O_cluster_version:        3.40.0.4\n",
       "H2O_cluster_version_age:    7 months and 11 days\n",
       "H2O_cluster_name:           H2O_from_python_John_ovtgbs\n",
       "H2O_cluster_total_nodes:    1\n",
       "H2O_cluster_free_memory:    3.054 Gb\n",
       "H2O_cluster_total_cores:    8\n",
       "H2O_cluster_allowed_cores:  2\n",
       "H2O_cluster_status:         locked, healthy\n",
       "H2O_connection_url:         http://localhost:54321\n",
       "H2O_connection_proxy:       {\"http\": null, \"https\": null}\n",
       "H2O_internal_security:      False\n",
       "Python_version:             3.9.13 final\n",
       "--------------------------  -----------------------------"
      ]
     },
     "metadata": {},
     "output_type": "display_data"
    },
    {
     "name": "stderr",
     "output_type": "stream",
     "text": [
      "C:\\Users\\John\\AppData\\Local\\Temp\\ipykernel_23556\\3339019944.py:24: SettingWithCopyWarning: \n",
      "A value is trying to be set on a copy of a slice from a DataFrame.\n",
      "Try using .loc[row_indexer,col_indexer] = value instead\n",
      "\n",
      "See the caveats in the documentation: https://pandas.pydata.org/pandas-docs/stable/user_guide/indexing.html#returning-a-view-versus-a-copy\n",
      "  data_input['unique_index'] = data_input.index ## Delete once bug tested\n"
     ]
    },
    {
     "name": "stdout",
     "output_type": "stream",
     "text": [
      "Parse progress: |████████████████████████████████████████████████████████████████| (done) 100%\n",
      "DateTime             TowerID      TagID    ant1_count    ant2_count    ant3_count    ant4_count    ant1_mean    ant2_mean    ant3_mean    ant4_mean    ant1_std    ant2_std    ant3_std    ant4_std    mean_std    total_count    tower_group    xOffset_pred    unique_index\n",
      "2020-08-29 11:36:00  RT03            10             1             0             0             0          116        0              0            0        0          0            0         0            0                    1              1         59.5707             550\n",
      "2020-08-29 11:54:00  RT03            10             1             0             0             0          107        0              0            0        0          0            0         0            0                    1              1         29.8262             580\n",
      "2020-08-29 11:57:00  RT03            10             3             0             0             0           89        0              0            0       24.3311     0            0         0           24.3311               3              1        -27.1167             586\n",
      "2020-09-01 10:24:00  RT24            20             0             1             0             0            0       96              0            0        0          0            0         0            0                    1              1        231.574             1186\n",
      "2020-09-01 10:27:00  RT24            20             0             2             0             0            0      102              0            0        0          2.82843      0         0            2.82843              2              1         54.1165            1187\n",
      "2020-09-01 10:30:00  RT24            20             0             1             0             0            0       99              0            0        0          0            0         0            0                    1              1        245.06              1188\n",
      "2020-09-01 10:33:00  RT24             9             0             3             0             0            0      110.333          0            0        0          7.57188      0         0            7.57188              3              1        -13.2246            1189\n",
      "2020-09-01 10:33:00  RT24            20             0             1             0             0            0       69              0            0        0          0            0         0            0                    1              1        279.368             1190\n",
      "2020-09-01 10:36:00  RT24             9             1             2             2             2          114      130            135.5        120.5      0         32.5269      20.5061    0.707107    17.9134               7              1         12.9401            1191\n",
      "2020-09-01 10:36:00  RT24            20             0             1             0             0            0       48              0            0        0          0            0         0            0                    1              1       1019.1               1192\n",
      "[538060 rows x 20 columns]\n",
      "\n",
      "stackedensemble prediction progress: |███████████████████████████████████████████| (done) 100%\n"
     ]
    },
    {
     "name": "stderr",
     "output_type": "stream",
     "text": [
      "C:\\Users\\John\\AppData\\Local\\Temp\\ipykernel_23556\\3339019944.py:24: SettingWithCopyWarning: \n",
      "A value is trying to be set on a copy of a slice from a DataFrame.\n",
      "Try using .loc[row_indexer,col_indexer] = value instead\n",
      "\n",
      "See the caveats in the documentation: https://pandas.pydata.org/pandas-docs/stable/user_guide/indexing.html#returning-a-view-versus-a-copy\n",
      "  data_input['unique_index'] = data_input.index ## Delete once bug tested\n"
     ]
    },
    {
     "name": "stdout",
     "output_type": "stream",
     "text": [
      "Parse progress: |████████████████████████████████████████████████████████████████| (done) 100%\n",
      "DateTime             TowerID      TagID    ant1_count    ant2_count    ant3_count    ant4_count    ant1_mean    ant2_mean    ant3_mean    ant4_mean    ant1_std    ant2_std    ant3_std    ant4_std    mean_std    total_count    tower_group    xOffset_pred    unique_index\n",
      "2020-08-29 11:36:00  RT03            10             1             0             0             0          116        0              0            0        0          0            0         0            0                    1              1         59.5707             550\n",
      "2020-08-29 11:54:00  RT03            10             1             0             0             0          107        0              0            0        0          0            0         0            0                    1              1         29.8262             580\n",
      "2020-08-29 11:57:00  RT03            10             3             0             0             0           89        0              0            0       24.3311     0            0         0           24.3311               3              1        -27.1167             586\n",
      "2020-09-01 10:24:00  RT24            20             0             1             0             0            0       96              0            0        0          0            0         0            0                    1              1        231.574             1186\n",
      "2020-09-01 10:27:00  RT24            20             0             2             0             0            0      102              0            0        0          2.82843      0         0            2.82843              2              1         54.1165            1187\n",
      "2020-09-01 10:30:00  RT24            20             0             1             0             0            0       99              0            0        0          0            0         0            0                    1              1        245.06              1188\n",
      "2020-09-01 10:33:00  RT24             9             0             3             0             0            0      110.333          0            0        0          7.57188      0         0            7.57188              3              1        -13.2246            1189\n",
      "2020-09-01 10:33:00  RT24            20             0             1             0             0            0       69              0            0        0          0            0         0            0                    1              1        279.368             1190\n",
      "2020-09-01 10:36:00  RT24             9             1             2             2             2          114      130            135.5        120.5      0         32.5269      20.5061    0.707107    17.9134               7              1         12.9401            1191\n",
      "2020-09-01 10:36:00  RT24            20             0             1             0             0            0       48              0            0        0          0            0         0            0                    1              1       1019.1               1192\n",
      "[538060 rows x 20 columns]\n",
      "\n",
      "stackedensemble prediction progress: |███████████████████████████████████████████| (done) 100%\n"
     ]
    },
    {
     "name": "stderr",
     "output_type": "stream",
     "text": [
      "C:\\Users\\John\\AppData\\Local\\Temp\\ipykernel_23556\\3339019944.py:24: SettingWithCopyWarning: \n",
      "A value is trying to be set on a copy of a slice from a DataFrame.\n",
      "Try using .loc[row_indexer,col_indexer] = value instead\n",
      "\n",
      "See the caveats in the documentation: https://pandas.pydata.org/pandas-docs/stable/user_guide/indexing.html#returning-a-view-versus-a-copy\n",
      "  data_input['unique_index'] = data_input.index ## Delete once bug tested\n"
     ]
    },
    {
     "name": "stdout",
     "output_type": "stream",
     "text": [
      "Parse progress: |████████████████████████████████████████████████████████████████| (done) 100%\n",
      "DateTime             TowerID      TagID    ant1_count    ant2_count    ant3_count    ant4_count    ant1_mean    ant2_mean    ant3_mean    ant4_mean    ant1_std    ant2_std    ant3_std    ant4_std    mean_std    total_count    tower_group    xOffset_pred    yOffset_pred    unique_index\n",
      "2020-08-29 06:03:00  RT01            10             0             0             1             0            0            0      155                0           0           0     0                 0     0                    1              2             nan             nan               0\n",
      "2020-08-29 06:06:00  RT01             7             0             0             1             0            0            0      116                0           0           0     0                 0     0                    1              2             nan             nan               1\n",
      "2020-08-29 06:06:00  RT01            10             1             0             3             0           86            0      120.667            0           0           0     3.78594           0     3.78594              4              2             nan             nan               2\n",
      "2020-08-29 06:06:00  RT01            11             0             0             2             0            0            0      114                0           0           0     4.24264           0     4.24264              2              2             nan             nan               3\n",
      "2020-08-29 06:09:00  RT01             7             0             0             3             0            0            0      112.667            0           0           0     4.93288           0     4.93288              3              2             nan             nan               4\n",
      "2020-08-29 06:09:00  RT01            10             0             0             3             0            0            0      120.667            0           0           0     2.88675           0     2.88675              3              2             nan             nan               5\n",
      "2020-08-29 06:09:00  RT01            11             0             0             3             0            0            0      111.667            0           0           0     4.04145           0     4.04145              3              2             nan             nan               6\n",
      "2020-08-29 06:12:00  RT01             7             0             0             5             0            0            0      114.8              0           0           0     3.56371           0     3.56371              5              2             nan             nan               7\n",
      "2020-08-29 06:12:00  RT01            10             0             0             4             0            0            0      118.75             0           0           0     1.5               0     1.5                  4              2             nan             nan               8\n",
      "2020-08-29 06:12:00  RT01            11             0             0             4             0            0            0      115.75             0           0           0     5.5               0     5.5                  4              2             nan             nan               9\n",
      "[38521 rows x 21 columns]\n",
      "\n",
      "stackedensemble prediction progress: |███████████████████████████████████████████| (done) 100%\n"
     ]
    },
    {
     "name": "stderr",
     "output_type": "stream",
     "text": [
      "C:\\Users\\John\\AppData\\Local\\Temp\\ipykernel_23556\\3339019944.py:24: SettingWithCopyWarning: \n",
      "A value is trying to be set on a copy of a slice from a DataFrame.\n",
      "Try using .loc[row_indexer,col_indexer] = value instead\n",
      "\n",
      "See the caveats in the documentation: https://pandas.pydata.org/pandas-docs/stable/user_guide/indexing.html#returning-a-view-versus-a-copy\n",
      "  data_input['unique_index'] = data_input.index ## Delete once bug tested\n"
     ]
    },
    {
     "name": "stdout",
     "output_type": "stream",
     "text": [
      "Parse progress: |████████████████████████████████████████████████████████████████| (done) 100%\n",
      "DateTime             TowerID      TagID    ant1_count    ant2_count    ant3_count    ant4_count    ant1_mean    ant2_mean    ant3_mean    ant4_mean    ant1_std    ant2_std    ant3_std    ant4_std    mean_std    total_count    tower_group    xOffset_pred    yOffset_pred    unique_index\n",
      "2020-08-29 06:03:00  RT01            10             0             0             1             0            0            0      155                0           0           0     0                 0     0                    1              2        293.657              nan               0\n",
      "2020-08-29 06:06:00  RT01             7             0             0             1             0            0            0      116                0           0           0     0                 0     0                    1              2        267.966              nan               1\n",
      "2020-08-29 06:06:00  RT01            10             1             0             3             0           86            0      120.667            0           0           0     3.78594           0     3.78594              4              2         71.2682             nan               2\n",
      "2020-08-29 06:06:00  RT01            11             0             0             2             0            0            0      114                0           0           0     4.24264           0     4.24264              2              2        376.257              nan               3\n",
      "2020-08-29 06:09:00  RT01             7             0             0             3             0            0            0      112.667            0           0           0     4.93288           0     4.93288              3              2        394.681              nan               4\n",
      "2020-08-29 06:09:00  RT01            10             0             0             3             0            0            0      120.667            0           0           0     2.88675           0     2.88675              3              2        374.899              nan               5\n",
      "2020-08-29 06:09:00  RT01            11             0             0             3             0            0            0      111.667            0           0           0     4.04145           0     4.04145              3              2        387.946              nan               6\n",
      "2020-08-29 06:12:00  RT01             7             0             0             5             0            0            0      114.8              0           0           0     3.56371           0     3.56371              5              2        396.723              nan               7\n",
      "2020-08-29 06:12:00  RT01            10             0             0             4             0            0            0      118.75             0           0           0     1.5               0     1.5                  4              2        369.402              nan               8\n",
      "2020-08-29 06:12:00  RT01            11             0             0             4             0            0            0      115.75             0           0           0     5.5               0     5.5                  4              2        401.184              nan               9\n",
      "[38521 rows x 21 columns]\n",
      "\n",
      "gbm prediction progress: |███████████████████████████████████████████████████████| (done) 100%\n",
      "H2O session _sid_8a2d closed.\n"
     ]
    }
   ],
   "source": [
    "tower_groups = tower_locs['tower_group'].unique()\n",
    "\n",
    "# Initialise h2o\n",
    "h2o.init(nthreads = 2)\n",
    "\n",
    "# Make predictions for each tower group and dimension\n",
    "for tower_group in tower_groups:\n",
    "    for dimension in dimensions:\n",
    "        # Load the trained model\n",
    "        try:\n",
    "            if dimension == 'xOffset':\n",
    "                model = h2o.load_model(f\"{model_save_path}\\{dimension}_group_{tower_group}_model\")\n",
    "                \n",
    "            elif dimension == 'yOffset':\n",
    "                model = h2o.load_model(f\"{model_save_path}\\{dimension}_group_{tower_group}_model\")\n",
    "            else:\n",
    "                raise ValueError(f\"Error loading the model: {dimension}\")\n",
    "        except Exception as e:\n",
    "            print(f\"Error loading model for dimension '{dimension}': {str(e)}\")\n",
    "    \n",
    "        # Make predictions on the test data\n",
    "        data_input = pred_data_preproc[pred_data_preproc['tower_group'] == tower_group]\n",
    "        data_input['unique_index'] = data_input.index ## Delete once bug tested\n",
    "        unlabelled_data = h2o.H2OFrame(data_input, header=1)\n",
    "        preds = model.predict(unlabelled_data)\n",
    "\n",
    "        # Save predictions to a new column in the test dataframe\n",
    "        pred_column_name = f\"{dimension}_pred\"\n",
    "        pred_data_preproc.loc[pred_data_preproc['tower_group'] == tower_group, pred_column_name] = preds.as_data_frame().values\n",
    "        \n",
    "\n",
    "# Stop h2o\n",
    "h2o.cluster().shutdown()"
   ]
  },
  {
   "cell_type": "code",
   "execution_count": 33,
   "metadata": {},
   "outputs": [],
   "source": [
    "predictions = postprocess_data(pred_data_preproc, tower_locs)\n",
    "\n",
    "# I added the below line on 06/01/2024, need to confirm that it works ok\n",
    "predictions = location_averaging(predictions)"
   ]
  },
  {
   "cell_type": "code",
   "execution_count": 34,
   "metadata": {},
   "outputs": [],
   "source": [
    "predictions[['latitude_pred', 'longitude_pred']] = predictions.apply(lambda row: pd.Series(to_latlon(row['easting_pred'], row['northing_pred'], row['zone_number'], row['zone_letter'])), axis=1)\n"
   ]
  },
  {
   "cell_type": "code",
   "execution_count": 35,
   "metadata": {},
   "outputs": [],
   "source": [
    "predictions.to_excel(\"predictions.xlsx\", index=False)"
   ]
  }
 ],
 "metadata": {
  "kernelspec": {
   "display_name": ".venv",
   "language": "python",
   "name": "python3"
  },
  "language_info": {
   "codemirror_mode": {
    "name": "ipython",
    "version": 3
   },
   "file_extension": ".py",
   "mimetype": "text/x-python",
   "name": "python",
   "nbconvert_exporter": "python",
   "pygments_lexer": "ipython3",
   "version": "3.11.2"
  },
  "orig_nbformat": 4
 },
 "nbformat": 4,
 "nbformat_minor": 2
}
